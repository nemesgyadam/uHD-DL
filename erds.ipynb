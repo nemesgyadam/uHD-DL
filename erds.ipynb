{
 "cells": [
  {
   "cell_type": "code",
   "execution_count": 2,
   "metadata": {},
   "outputs": [],
   "source": [
    "import scipy.io\n",
    "import mne\n",
    "import os\n",
    "import numpy as np\n",
    "from mne.time_frequency import tfr_multitaper\n",
    "from mne.time_frequency import tfr_morlet\n",
    "\n",
    "from matplotlib.colors import TwoSlopeNorm\n",
    "mne.set_log_level('error')\n",
    "import pandas as pd\n",
    "import numpy as np\n",
    "import matplotlib.pyplot as plt\n",
    "import seaborn as sns"
   ]
  },
  {
   "cell_type": "code",
   "execution_count": 3,
   "metadata": {},
   "outputs": [],
   "source": [
    "from sklearn.model_selection import train_test_split\n",
    "from sklearn.model_selection import KFold\n",
    "from sklearn.model_selection import GridSearchCV\n",
    "from sklearn.svm import SVC\n",
    "from sklearn.model_selection import StratifiedKFold\n",
    "from sklearn.preprocessing import StandardScaler"
   ]
  },
  {
   "cell_type": "code",
   "execution_count": 4,
   "metadata": {},
   "outputs": [],
   "source": [
    "data_root = 'C:/Data/UHD_EEG/'\n",
    "subjects = ['S1', 'S2', 'S3', 'S4', 'S5']\n",
    "dominant_hand = ['left','right','right','right','right']\n",
    "mapping = {0: \"No instruction\", 1: \"Rest\", 2: \"thumb\", 3: \"index\", 4: \"middle\", 5: \"ring\", 6: \"little\"}\n",
    "\n",
    "not_ROI_channels = ['c255', 'c256', 'c254', 'c251', 'c239', 'c240', 'c238', 'c235', 'c224', 'c222', 'c223', 'c219', 'c220', 'c221', 'c215', 'c216', 'c217', 'c213', 'c212', 'c211', 'c210', 'c209', 'c112', 'c110', 'c107', 'c108', 'c103', 'c104', 'c105', 'c101', 'c100', 'c99', 'c98', 'c97', 'c1', 'c2', 'c3', 'c4', 'c5', 'c6', 'c7', 'c8', 'c9', 'c10', 'c11', 'c12', 'c14', 'c15', 'c16', 'c23', 'c29', 'c26', 'c17', 'c18', 'c20', 'c19', 'c21', 'c24', 'c22', 'c25', 'c28', 'c33', 'c35', 'c38', 'c42', 'c81', 'c34', 'c37', 'c41', 'c45', 'c36', 'c40', 'c44', 'c39', 'c43', 'c145', 'c147', 'c150', 'c154', 'c157', 'c153', 'c149', 'c146', 'c93', 'c159', 'c156', 'c152', 'c148', 'c95', 'c160', 'c158', 'c155', 'c151', 'c96', 'c202', 'c198', 'c195', 'c193']\n",
    "\n",
    "S01_bad_channels = ['c69', 'c122', 'c170', 'c173', 'c189']"
   ]
  },
  {
   "cell_type": "code",
   "execution_count": null,
   "metadata": {},
   "outputs": [],
   "source": []
  },
  {
   "cell_type": "code",
   "execution_count": 5,
   "metadata": {},
   "outputs": [],
   "source": [
    "def get_montage(hemishpere):\n",
    "    mat = scipy.io.loadmat(os.path.join(data_root, 'montage', f'montage_256_{hemishpere}_hemisphere.mat'))\n",
    "    return mat['pos_256']\n",
    "\n",
    "left_handed_montage = get_montage('right')\n",
    "right_handed_montage = get_montage('left')"
   ]
  },
  {
   "cell_type": "code",
   "execution_count": 6,
   "metadata": {},
   "outputs": [],
   "source": [
    "def load_run(subject_id, run, describe=True):\n",
    "    subject = subjects[subject_id]\n",
    "    mat = scipy.io.loadmat(os.path.join(data_root, 'rawdata', subject, run))\n",
    "    data = mat['y'][1:]  # remove timestamp\n",
    "    ch_names = [f'c{i}' for i in range(1, 257)] + ['STIM']\n",
    "    info = mne.create_info(ch_names=ch_names, sfreq=mat['SR\\x00'][0][0])\n",
    "\n",
    "    raw = mne.io.RawArray(data, info)\n",
    "    ch_types = {ch: 'eeg' if ch != 'STIM' else 'stim' for ch in ch_names}\n",
    "    raw.set_channel_types(ch_types)\n",
    "\n",
    "    events = mne.find_events(raw, stim_channel='STIM')\n",
    "    annot_from_events = mne.annotations_from_events(events, event_desc=mapping, sfreq=raw.info['sfreq'])\n",
    "    raw.set_annotations(annot_from_events)\n",
    "    raw.drop_channels(['STIM'])\n",
    "\n",
    "    montage_positions = left_handed_montage if dominant_hand[subject_id] == 'left' else right_handed_montage\n",
    "    montage = mne.channels.make_dig_montage(ch_pos=dict(zip(ch_names, montage_positions)), coord_frame='head')\n",
    "    raw.set_montage(montage)\n",
    "\n",
    "    if describe:\n",
    "        raw.describe()\n",
    "    return raw\n"
   ]
  },
  {
   "cell_type": "code",
   "execution_count": 7,
   "metadata": {},
   "outputs": [],
   "source": [
    "def load_subject(subject_id, describe = True):\n",
    "    runs = []\n",
    "    run_files = os.listdir(os.path.join(data_root, 'rawdata', subjects[subject_id]))\n",
    "    for file in run_files:\n",
    "        runs.append(load_run(subject_id, file, describe))\n",
    "    return runs"
   ]
  },
  {
   "cell_type": "code",
   "execution_count": 8,
   "metadata": {},
   "outputs": [],
   "source": [
    "raw_runs = load_subject(subject_id = 0, describe = False)"
   ]
  },
  {
   "cell_type": "code",
   "execution_count": 9,
   "metadata": {},
   "outputs": [],
   "source": [
    "preprocessed_runs = []\n",
    "for run in raw_runs:\n",
    "    run = run.drop_channels(S01_bad_channels)\n",
    "    run = run.set_eeg_reference('average', projection=False)\n",
    "    run = run.drop_channels(not_ROI_channels)\n",
    "\n",
    "    run.resample(100)\n",
    "\n",
    "    # baseline = run.get_data()[:, int(-25*run.info['sfreq']):]\n",
    "    # baseline = np.mean(baseline, axis=1)\n",
    "    # run._data = run.get_data() - baseline[:, None]\n",
    "    \n",
    "    preprocessed_runs.append(run)\n"
   ]
  },
  {
   "cell_type": "code",
   "execution_count": 10,
   "metadata": {},
   "outputs": [
    {
     "data": {
      "text/html": [
       "<table class=\"table table-hover table-striped table-sm table-responsive small\">\n",
       "    <tr>\n",
       "        <th>Number of events</th>\n",
       "        <td>260</td>\n",
       "    </tr>\n",
       "    <tr>\n",
       "        <th>Events</th>\n",
       "        \n",
       "        <td>Rest: 10<br/>index: 50<br/>little: 50<br/>middle: 50<br/>ring: 50<br/>thumb: 50</td>\n",
       "        \n",
       "    </tr>\n",
       "    <tr>\n",
       "        <th>Time range</th>\n",
       "        <td>-1.000 – 7.000 sec</td>\n",
       "    </tr>\n",
       "    <tr>\n",
       "        <th>Baseline</th>\n",
       "        <td>off</td>\n",
       "    </tr>\n",
       "</table>"
      ],
      "text/plain": [
       "<Epochs |  260 events (all good), -1 - 7 sec, baseline off, ~243.3 MB, data loaded,\n",
       " 'Rest': 10\n",
       " 'index': 50\n",
       " 'little': 50\n",
       " 'middle': 50\n",
       " 'ring': 50\n",
       " 'thumb': 50>"
      ]
     },
     "execution_count": 10,
     "metadata": {},
     "output_type": "execute_result"
    }
   ],
   "source": [
    "epochs = []\n",
    "for run in preprocessed_runs:\n",
    "    events, event_ids = mne.events_from_annotations(run)\n",
    "    asd = mne.Epochs(run, events, baseline = None, event_id= event_ids, tmin=-1.0, tmax=7, preload=True)\n",
    "    epochs.append(asd)\n",
    "epochs = mne.concatenate_epochs(epochs)\n",
    "epochs"
   ]
  },
  {
   "cell_type": "code",
   "execution_count": 21,
   "metadata": {},
   "outputs": [
    {
     "name": "stdout",
     "output_type": "stream",
     "text": [
      "freqs [ 8 18]\n"
     ]
    },
    {
     "data": {
      "text/plain": [
       "<EpochsTFR | time : [0.500000, 1.500000], freq : [8.000000, 18.000000], epochs : 260, channels : 153, ~31.2 MB>"
      ]
     },
     "execution_count": 21,
     "metadata": {},
     "output_type": "execute_result"
    }
   ],
   "source": [
    "freqs = np.arange(8, 25, 10)  # frequencies from 2-25Hz\n",
    "print(\"freqs\", freqs)\n",
    "#tfr = tfr_morlet(epochs, freqs=freqs, n_cycles=freqs, use_fft=True)[0]\n",
    "tfr = tfr_multitaper(epochs, freqs=freqs, n_cycles=freqs, use_fft=True,\n",
    "                      return_itc=False, average=False, decim=2)\n",
    "tfr.apply_baseline((-1.0, 0), mode='mean')\n",
    "tfr.crop(0.5,1.5)"
   ]
  },
  {
   "cell_type": "code",
   "execution_count": 22,
   "metadata": {},
   "outputs": [
    {
     "name": "stdout",
     "output_type": "stream",
     "text": [
      "Rest\n",
      "(10, 153, 2, 51)\n",
      "index\n",
      "(50, 153, 2, 51)\n",
      "little\n",
      "(50, 153, 2, 51)\n",
      "middle\n",
      "(50, 153, 2, 51)\n",
      "ring\n",
      "(50, 153, 2, 51)\n",
      "thumb\n",
      "(50, 153, 2, 51)\n"
     ]
    }
   ],
   "source": [
    "for event in event_ids:\n",
    "    # select desired epochs for visualization\n",
    "    print(event)\n",
    "    tfr_ev = tfr[event]\n",
    "    print(tfr_ev.data.shape)\n",
    "    # Events, Channels, Frequencies, Time"
   ]
  },
  {
   "cell_type": "code",
   "execution_count": 23,
   "metadata": {},
   "outputs": [
    {
     "name": "stdout",
     "output_type": "stream",
     "text": [
      "(100, 15606)\n",
      "(100,)\n"
     ]
    }
   ],
   "source": [
    "middle = tfr['middle'].data\n",
    "ring = tfr['ring'].data\n",
    "\n",
    "X = np.concatenate((middle, ring))\n",
    "X = X.reshape(X.shape[0], -1)\n",
    "\n",
    "y = np.concatenate((np.zeros(middle.shape[0]), np.ones(ring.shape[0])))\n",
    "\n",
    "print(X.shape)\n",
    "print(y.shape)"
   ]
  },
  {
   "cell_type": "code",
   "execution_count": 24,
   "metadata": {},
   "outputs": [
    {
     "name": "stdout",
     "output_type": "stream",
     "text": [
      "{'C': 0.001, 'gamma': 0.1, 'kernel': 'rbf'}\n",
      "0.5\n"
     ]
    }
   ],
   "source": [
    "# Set the parameters by cross-validation\n",
    "tuned_parameters = [{'kernel': ['rbf'], 'gamma': [1e-1, 1e-3],\n",
    "                        'C': [0.001, 0.01,  1 ]}]\n",
    "grid = GridSearchCV(SVC(), tuned_parameters, cv=StratifiedKFold(n_splits=10), scoring='accuracy')\n",
    "grid.fit(X, y)\n",
    "print(grid.best_params_)\n",
    "print(grid.best_score_)\n"
   ]
  },
  {
   "cell_type": "code",
   "execution_count": null,
   "metadata": {},
   "outputs": [],
   "source": []
  }
 ],
 "metadata": {
  "kernelspec": {
   "display_name": "Python 3",
   "language": "python",
   "name": "python3"
  },
  "language_info": {
   "codemirror_mode": {
    "name": "ipython",
    "version": 3
   },
   "file_extension": ".py",
   "mimetype": "text/x-python",
   "name": "python",
   "nbconvert_exporter": "python",
   "pygments_lexer": "ipython3",
   "version": "3.11.0"
  },
  "orig_nbformat": 4,
  "vscode": {
   "interpreter": {
    "hash": "9cefe38f745df9e33a66570f2e5a410ba71c4ae3bf929b6ad1b474ac5f904d76"
   }
  }
 },
 "nbformat": 4,
 "nbformat_minor": 2
}
