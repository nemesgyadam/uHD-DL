{
 "cells": [
  {
   "attachments": {},
   "cell_type": "markdown",
   "metadata": {},
   "source": [
    "Train MLP for all fingers!\\\n",
    "Using hyper param optimalization\n",
    "Data source: \\\n",
    "sliding windowed powers for mu and beta band\\\n",
    "Subject 1"
   ]
  },
  {
   "cell_type": "code",
   "execution_count": 1,
   "metadata": {},
   "outputs": [],
   "source": [
    "import os\n",
    "import numpy as np\n",
    "import h5py\n",
    "from scipy import stats\n",
    "import scipy.io\n",
    "import mne\n",
    "\n",
    "mne.set_log_level('error')\n",
    "\n",
    "from random import shuffle\n",
    "from sklearn.model_selection import train_test_split\n",
    "from sklearn.preprocessing import StandardScaler\n",
    "from sklearn.metrics import accuracy_score\n",
    "from sklearn.model_selection import KFold\n",
    "\n",
    "\n",
    "import torch\n",
    "import torch.nn as nn\n",
    "import torch.optim as optim\n",
    "\n",
    "import optuna\n",
    "\n",
    "\n",
    "from utils.load import Load\n",
    "from config.default import cfg\n",
    "\n",
    "%load_ext autoreload\n",
    "%autoreload 2\n"
   ]
  },
  {
   "cell_type": "code",
   "execution_count": 9,
   "metadata": {},
   "outputs": [],
   "source": []
  },
  {
   "cell_type": "code",
   "execution_count": 21,
   "metadata": {},
   "outputs": [
    {
     "name": "stdout",
     "output_type": "stream",
     "text": [
      "S1\n",
      "dict_keys(['index', 'little', 'middle', 'ring', 'thumb'])\n",
      "S2\n",
      "dict_keys(['index', 'little', 'middle', 'ring', 'thumb'])\n",
      "S3\n",
      "dict_keys(['index', 'little', 'middle', 'ring', 'thumb'])\n",
      "S4\n",
      "dict_keys(['index', 'little', 'middle', 'ring', 'thumb'])\n",
      "S5\n",
      "dict_keys(['index', 'little', 'middle', 'ring', 'thumb'])\n"
     ]
    }
   ],
   "source": [
    "subject_data = {}\n",
    "# Load the data  from the HDF5 file\n",
    "target_dir = 'features'\n",
    "tag = 'reproduced_with_bad'\n",
    "\n",
    "for subject in cfg['subjects']:\n",
    "    file_path = os.path.join(target_dir, tag+'_'+subject + '.h5')\n",
    "\n",
    "    data = {}\n",
    "    with h5py.File(file_path, 'r') as h5file:\n",
    "        for key in h5file.keys():\n",
    "            data[key] = np.array(h5file[key])\n",
    "\n",
    "    subject_data[subject] = data\n",
    "\n",
    "\n",
    "for subject_id in subject_data:\n",
    "    print(subject_id)\n",
    "    print(subject_data[subject_id].keys())"
   ]
  },
  {
   "cell_type": "code",
   "execution_count": 23,
   "metadata": {},
   "outputs": [
    {
     "name": "stdout",
     "output_type": "stream",
     "text": [
      "(1250, 8217)\n",
      "(1250,)\n"
     ]
    }
   ],
   "source": [
    "X = []\n",
    "y = []\n",
    "# Loop through each subject in the dataset\n",
    "for subject_id, (subject, data) in enumerate(subject_data.items()):\n",
    "\n",
    "    features = np.concatenate(list(data.values()), axis=0)\n",
    "    features = features.reshape(features.shape[0], -1)\n",
    "\n",
    "    features = np.insert(features, 0, subject_id, axis=1) # add subject id as first column\n",
    "    labels = np.concatenate([np.ones(data[finger].shape[0]) * i for i, finger in enumerate(data)], axis=0)\n",
    "   \n",
    "    X += [features]\n",
    "    y += [labels]\n",
    "\n",
    "X = np.concatenate(X, axis=0)\n",
    "y = np.concatenate(y, axis=0)\n",
    "\n",
    "print(X.shape)\n",
    "print(y.shape)"
   ]
  },
  {
   "cell_type": "markdown",
   "metadata": {},
   "source": []
  },
  {
   "cell_type": "code",
   "execution_count": 3,
   "metadata": {},
   "outputs": [],
   "source": [
    "class SingleLayerMLP(nn.Module):\n",
    "    def __init__(self, input_size, hidden_size, output_size, activation):\n",
    "        super(SingleLayerMLP, self).__init__()\n",
    "        self.fc1 = nn.Linear(input_size, hidden_size)\n",
    "        self.activation = activation\n",
    "        self.fc2 = nn.Linear(hidden_size, output_size)\n",
    "\n",
    "    def forward(self, x):\n",
    "        x = self.fc1(x)\n",
    "        x = self.activation(x)\n",
    "        x = self.fc2(x)\n",
    "        x = nn.Softmax(dim=1)(x)\n",
    "        return x"
   ]
  },
  {
   "cell_type": "code",
   "execution_count": 26,
   "metadata": {},
   "outputs": [],
   "source": [
    "def train(X_train, y_train, X_test, y_test, model, criterion, optimizer, num_epochs=100):\n",
    "    X_train = torch.tensor(X_train, dtype=torch.float32)\n",
    "    X_test = torch.tensor(X_test, dtype=torch.float32)\n",
    "    y_train = torch.tensor(y_train, dtype=torch.long)\n",
    "    y_test = torch.tensor(y_test, dtype=torch.long)\n",
    "\n",
    "\n",
    "    for epoch in range(num_epochs):\n",
    "        optimizer.zero_grad()\n",
    "        outputs = model(X_train)\n",
    "        loss = criterion(outputs, y_train)\n",
    "        loss.backward()\n",
    "        optimizer.step()\n",
    "\n",
    "        # # Shuffle X and y together\n",
    "        p = np.random.permutation(len(X_train))\n",
    "        X_train, y_train = X_train[p], y_train[p]\n",
    "\n",
    "    with torch.no_grad():\n",
    "        y_pred = model(X_test)\n",
    "        y_pred = torch.argmax(y_pred, dim=1)\n",
    "\n",
    "    acc = accuracy_score(y_test, y_pred)\n",
    "    return acc\n",
    "\n",
    "def objective(trial, X, y):\n",
    "    learning_rate = trial.suggest_float(\"learning_rate\", 1e-5, 1e-1, log=True)\n",
    "    num_epochs = trial.suggest_int(\"num_epochs\", 100, 2000)\n",
    "    hidden_size = trial.suggest_int(\"hidden_size\", 16, 128)\n",
    "    activation_name = trial.suggest_categorical(\"activation\", [\"relu\", \"elu\", \"leaky_relu\"])\n",
    "    optimizer = trial.suggest_categorical(\"optimizer\", [\"SGD\", \"Adam\"])\n",
    "\n",
    "    if activation_name == \"relu\":\n",
    "        activation = nn.ReLU()\n",
    "    elif activation_name == \"elu\":\n",
    "        activation = nn.ELU()\n",
    "    elif activation_name == \"leaky_relu\":\n",
    "        activation = nn.LeakyReLU()\n",
    "\n",
    "    if optimizer == \"SGD\":\n",
    "        optimizer = optim.SGD\n",
    "    elif optimizer == \"Adam\":\n",
    "        optimizer = optim.Adam\n",
    "\n",
    "    train_X, test_X, train_y, test_y = train_test_split(X, y, test_size=0.2, random_state=42)\n",
    "    model = SingleLayerMLP(train_X.shape[1], hidden_size, 5, activation)\n",
    "    criterion = nn.CrossEntropyLoss()\n",
    "    optimizer = optimizer(model.parameters(), lr=learning_rate)\n",
    "    return train(train_X, train_y, test_X, test_y, model, criterion, optimizer, num_epochs=num_epochs)\n",
    "\n",
    "\n",
    "def train_MLP(X, y):\n",
    "\n",
    "\n",
    "    scaler = StandardScaler()\n",
    "    X = scaler.fit_transform(X)\n",
    "\n",
    "    study = optuna.create_study(direction=\"maximize\")\n",
    "    study.optimize(lambda trial: objective(trial, X, y), n_trials=10)\n",
    "\n",
    "    best_trial = study.best_trial\n",
    "\n",
    "    print(f'Best trial params: {best_trial.params}')\n",
    "    print(f'Best trial accuracy: {best_trial.value * 100:.2f}%')\n",
    "\n"
   ]
  },
  {
   "cell_type": "code",
   "execution_count": null,
   "metadata": {},
   "outputs": [],
   "source": [
    "# connect data"
   ]
  },
  {
   "cell_type": "code",
   "execution_count": 27,
   "metadata": {},
   "outputs": [
    {
     "name": "stderr",
     "output_type": "stream",
     "text": [
      "\u001b[32m[I 2023-04-15 16:39:56,675]\u001b[0m A new study created in memory with name: no-name-a3257f6f-2c8c-4825-9737-7b5514450793\u001b[0m\n",
      "\u001b[32m[I 2023-04-15 16:40:25,675]\u001b[0m Trial 0 finished with value: 0.204 and parameters: {'learning_rate': 0.005472281652350529, 'num_epochs': 1250, 'hidden_size': 17, 'activation': 'elu', 'optimizer': 'Adam'}. Best is trial 0 with value: 0.204.\u001b[0m\n",
      "\u001b[32m[I 2023-04-15 16:40:52,512]\u001b[0m Trial 1 finished with value: 0.248 and parameters: {'learning_rate': 1.6221729607802193e-05, 'num_epochs': 546, 'hidden_size': 112, 'activation': 'elu', 'optimizer': 'SGD'}. Best is trial 1 with value: 0.248.\u001b[0m\n",
      "\u001b[32m[I 2023-04-15 16:41:27,953]\u001b[0m Trial 2 finished with value: 0.212 and parameters: {'learning_rate': 0.00011273378060661761, 'num_epochs': 1011, 'hidden_size': 79, 'activation': 'leaky_relu', 'optimizer': 'Adam'}. Best is trial 1 with value: 0.248.\u001b[0m\n",
      "\u001b[32m[I 2023-04-15 16:41:48,057]\u001b[0m Trial 3 finished with value: 0.18 and parameters: {'learning_rate': 5.059915630458249e-05, 'num_epochs': 627, 'hidden_size': 107, 'activation': 'relu', 'optimizer': 'SGD'}. Best is trial 1 with value: 0.248.\u001b[0m\n",
      "\u001b[32m[I 2023-04-15 16:42:42,127]\u001b[0m Trial 4 finished with value: 0.2 and parameters: {'learning_rate': 0.04145938871070758, 'num_epochs': 1846, 'hidden_size': 70, 'activation': 'relu', 'optimizer': 'Adam'}. Best is trial 1 with value: 0.248.\u001b[0m\n",
      "\u001b[32m[I 2023-04-15 16:43:49,998]\u001b[0m Trial 5 finished with value: 0.188 and parameters: {'learning_rate': 7.82237026794182e-05, 'num_epochs': 1848, 'hidden_size': 76, 'activation': 'elu', 'optimizer': 'Adam'}. Best is trial 1 with value: 0.248.\u001b[0m\n",
      "\u001b[32m[I 2023-04-15 16:44:04,412]\u001b[0m Trial 6 finished with value: 0.176 and parameters: {'learning_rate': 0.0002642486842134844, 'num_epochs': 511, 'hidden_size': 95, 'activation': 'elu', 'optimizer': 'SGD'}. Best is trial 1 with value: 0.248.\u001b[0m\n",
      "\u001b[32m[I 2023-04-15 16:44:26,399]\u001b[0m Trial 7 finished with value: 0.208 and parameters: {'learning_rate': 0.00010190406168789869, 'num_epochs': 1043, 'hidden_size': 41, 'activation': 'leaky_relu', 'optimizer': 'SGD'}. Best is trial 1 with value: 0.248.\u001b[0m\n",
      "\u001b[32m[I 2023-04-15 16:44:58,728]\u001b[0m Trial 8 finished with value: 0.192 and parameters: {'learning_rate': 1.2482818502461521e-05, 'num_epochs': 1411, 'hidden_size': 56, 'activation': 'elu', 'optimizer': 'Adam'}. Best is trial 1 with value: 0.248.\u001b[0m\n",
      "\u001b[32m[I 2023-04-15 16:45:21,598]\u001b[0m Trial 9 finished with value: 0.208 and parameters: {'learning_rate': 1.707747216221458e-05, 'num_epochs': 819, 'hidden_size': 89, 'activation': 'leaky_relu', 'optimizer': 'Adam'}. Best is trial 1 with value: 0.248.\u001b[0m\n"
     ]
    },
    {
     "name": "stdout",
     "output_type": "stream",
     "text": [
      "Best trial params: {'learning_rate': 1.6221729607802193e-05, 'num_epochs': 546, 'hidden_size': 112, 'activation': 'elu', 'optimizer': 'SGD'}\n",
      "Best trial accuracy: 24.80%\n"
     ]
    }
   ],
   "source": [
    "train_MLP(X, y)"
   ]
  },
  {
   "cell_type": "code",
   "execution_count": null,
   "metadata": {},
   "outputs": [],
   "source": []
  }
 ],
 "metadata": {
  "kernelspec": {
   "display_name": "Python 3",
   "language": "python",
   "name": "python3"
  },
  "language_info": {
   "codemirror_mode": {
    "name": "ipython",
    "version": 3
   },
   "file_extension": ".py",
   "mimetype": "text/x-python",
   "name": "python",
   "nbconvert_exporter": "python",
   "pygments_lexer": "ipython3",
   "version": "3.11.0"
  },
  "orig_nbformat": 4,
  "vscode": {
   "interpreter": {
    "hash": "9cefe38f745df9e33a66570f2e5a410ba71c4ae3bf929b6ad1b474ac5f904d76"
   }
  }
 },
 "nbformat": 4,
 "nbformat_minor": 2
}
