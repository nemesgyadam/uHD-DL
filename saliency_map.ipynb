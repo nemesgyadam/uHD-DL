{
 "cells": [
  {
   "cell_type": "code",
   "execution_count": 19,
   "metadata": {},
   "outputs": [
    {
     "name": "stdout",
     "output_type": "stream",
     "text": [
      "The autoreload extension is already loaded. To reload it, use:\n",
      "  %reload_ext autoreload\n"
     ]
    }
   ],
   "source": [
    "import os\n",
    "import numpy as np\n",
    "import h5py\n",
    "from scipy import stats\n",
    "import scipy.io\n",
    "import mne\n",
    "\n",
    "mne.set_log_level('error')\n",
    "\n",
    "from random import shuffle\n",
    "from sklearn.model_selection import train_test_split\n",
    "from sklearn.preprocessing import StandardScaler\n",
    "from sklearn.metrics import accuracy_score\n",
    "from sklearn.model_selection import KFold\n",
    "\n",
    "from matplotlib import pyplot as plt\n",
    "\n",
    "import torch\n",
    "import torch.nn as nn\n",
    "import torch.optim as optim\n",
    "from torch.utils.data import Dataset, DataLoader\n",
    "\n",
    "from torchsummary import summary\n",
    "\n",
    "import optuna\n",
    "\n",
    "\n",
    "from utils.load import Load\n",
    "from config.default import cfg\n",
    "\n",
    "%load_ext autoreload\n",
    "%autoreload 2\n"
   ]
  },
  {
   "cell_type": "code",
   "execution_count": 2,
   "metadata": {},
   "outputs": [],
   "source": [
    "data_root = 'C:/Data/UHD_EEG/'\n",
    "\n",
    "subjects = ['S1', 'S2', 'S3', 'S4', 'S5']\n",
    "dominant_hand = ['left','right','right','right','right']\n",
    "mapping = {0: \"No instruction\", 1: \"Rest\", 2: \"thumb\", 3: \"index\", 4: \"middle\", 5: \"ring\", 6: \"little\"}\n",
    "\n",
    "\n",
    "def get_montage(hemishpere):\n",
    "    mat = scipy.io.loadmat(os.path.join(data_root, 'montage', f'montage_256_{hemishpere}_hemisphere.mat'))\n",
    "    return mat['pos_256']\n",
    "\n",
    "left_handed_montage = get_montage('right')\n",
    "right_handed_montage = get_montage('left')\n",
    "\n",
    "\n",
    "def load_run(subject_id, run, describe=True):\n",
    "    subject = subjects[subject_id]\n",
    "    mat = scipy.io.loadmat(os.path.join(data_root, 'rawdata', subject, run))\n",
    "    data = mat['y'][1:]  # remove timestamp\n",
    "    ch_names = [f'c{i}' for i in range(1, 257)] + ['STIM']\n",
    "    info = mne.create_info(ch_names=ch_names, sfreq=mat['SR\\x00'][0][0])\n",
    "\n",
    "    raw = mne.io.RawArray(data, info)\n",
    "    ch_types = {ch: 'eeg' if ch != 'STIM' else 'stim' for ch in ch_names}\n",
    "    raw.set_channel_types(ch_types)\n",
    "\n",
    "    events = mne.find_events(raw, stim_channel='STIM')\n",
    "    annot_from_events = mne.annotations_from_events(events, event_desc=mapping, sfreq=raw.info['sfreq'])\n",
    "    raw.set_annotations(annot_from_events)\n",
    "    raw.drop_channels(['STIM'])\n",
    "\n",
    "    montage_positions = left_handed_montage if dominant_hand[subject_id] == 'left' else right_handed_montage\n",
    "    montage = mne.channels.make_dig_montage(ch_pos=dict(zip(ch_names, montage_positions)), coord_frame='head')\n",
    "    raw.set_montage(montage)\n",
    "\n",
    "    if describe:\n",
    "        raw.describe()\n",
    "    return raw\n",
    "demo = load_run(0, 'S1_run1.mat', describe=False)"
   ]
  },
  {
   "cell_type": "code",
   "execution_count": 3,
   "metadata": {},
   "outputs": [],
   "source": [
    "torch.manual_seed(42)\n",
    "np.random.seed(42)\n"
   ]
  },
  {
   "cell_type": "code",
   "execution_count": 4,
   "metadata": {},
   "outputs": [],
   "source": [
    "subject_id = 0"
   ]
  },
  {
   "cell_type": "code",
   "execution_count": 5,
   "metadata": {},
   "outputs": [
    {
     "name": "stdout",
     "output_type": "stream",
     "text": [
      "cuda\n"
     ]
    }
   ],
   "source": [
    "device_name = 'cuda' if torch.cuda.is_available() else 'cpu'\n",
    "device = torch.device(device_name)\n",
    "print(device)"
   ]
  },
  {
   "cell_type": "code",
   "execution_count": 6,
   "metadata": {},
   "outputs": [
    {
     "name": "stdout",
     "output_type": "stream",
     "text": [
      "index (50, 26, 158, 2)\n",
      "little (50, 26, 158, 2)\n",
      "middle (50, 26, 158, 2)\n",
      "ring (50, 26, 158, 2)\n",
      "thumb (50, 26, 158, 2)\n"
     ]
    }
   ],
   "source": [
    "# Load the data  from the HDF5 file\n",
    "target_dir = 'features'\n",
    "tag = 'reproduced_with_bad'\n",
    "file_path = os.path.join(target_dir, tag+'_'+cfg['subjects'][subject_id] + '.h5')\n",
    "\n",
    "\n",
    "data = {}\n",
    "with h5py.File(file_path, 'r') as h5file:\n",
    "    for key in h5file.keys():\n",
    "        data[key] = np.array(h5file[key])\n",
    "\n",
    "# Time first [Time, Channels, Features]\n",
    "for key, value in data.items():\n",
    "    data[key] = np.transpose(value, (0, 2, 1, 3))\n",
    "\n",
    "# Print the loaded data dictionary\n",
    "for key, value in data.items():\n",
    "    print(key, value.shape)"
   ]
  },
  {
   "cell_type": "code",
   "execution_count": 7,
   "metadata": {},
   "outputs": [],
   "source": [
    "X = np.concatenate(list(data.values()), axis=0)\n",
    "y = np.concatenate([np.ones(data[finger].shape[0]) * i for i, finger in enumerate(data)], axis=0)\n",
    "\n",
    "\n",
    "# Split the data into training and test sets\n",
    "X_train, X_test, y_train, y_test = train_test_split(X, y, test_size=0.2, random_state=42)\n",
    "\n",
    "\n",
    "\n",
    "class CustomDataset(Dataset):\n",
    "    def __init__(self, X, y):\n",
    "        self.X = X\n",
    "        self.y = y\n",
    "\n",
    "        self.X = torch.from_numpy(X).float().to(device)\n",
    "        self.y = torch.from_numpy(y).long().to(device)\n",
    "\n",
    "\n",
    "    def __len__(self):\n",
    "        return len(self.y)\n",
    "\n",
    "    def __getitem__(self, idx):\n",
    "        features = self.X[idx]\n",
    "        label = self.y[idx]\n",
    "        \n",
    "        return features, label\n",
    "\n",
    "train_dataset = CustomDataset(X_train, y_train)\n",
    "train_dataloader = DataLoader(train_dataset, batch_size=10, shuffle=True)\n",
    "\n",
    "test_dataset = CustomDataset(X_test, y_test)\n",
    "test_dataloader = DataLoader(test_dataset, batch_size=10, shuffle=True)"
   ]
  },
  {
   "cell_type": "code",
   "execution_count": 8,
   "metadata": {},
   "outputs": [
    {
     "name": "stdout",
     "output_type": "stream",
     "text": [
      "torch.Size([10, 26, 158, 2])\n",
      "tensor([2, 3, 1, 0, 0, 2, 4, 0, 3, 2], device='cuda:0')\n"
     ]
    }
   ],
   "source": [
    "for features, label in train_dataloader:\n",
    "    print(features.shape)\n",
    "    print(label)\n",
    "    break"
   ]
  },
  {
   "cell_type": "code",
   "execution_count": 9,
   "metadata": {},
   "outputs": [],
   "source": [
    "def accuracy(dataloader):\n",
    "    correct_predictions = 0\n",
    "    total_predictions = 0\n",
    "\n",
    "    with torch.no_grad():\n",
    "        for features,  labels in dataloader:\n",
    "\n",
    "            outputs = model(features)\n",
    "            _, predicted = torch.max(outputs.data, 1)\n",
    "            total_predictions += labels.size(0)\n",
    "            correct_predictions += (predicted == labels).sum().item()\n",
    "\n",
    "    accuracy = correct_predictions / total_predictions\n",
    "\n",
    "    return accuracy * 100"
   ]
  },
  {
   "cell_type": "code",
   "execution_count": 13,
   "metadata": {},
   "outputs": [],
   "source": [
    "class SingleLayerMLP(nn.Module):\n",
    "    def __init__(self, time_stamps, channels, rnn_hidden_size,  output_size, activation):\n",
    "        super(SingleLayerMLP, self).__init__()\n",
    "        self.activation = activation\n",
    "        self.channels = channels\n",
    "        self.fc1 = nn.Linear(2, 1)\n",
    "        self.fc2 = nn.Linear(channels*time_stamps, 40)\n",
    "      \n",
    "        self.fc3 = nn.Linear(40, output_size)\n",
    "    \n",
    "        self.dropout = nn.Dropout(0.1)\n",
    "        \n",
    "        \n",
    "    def forward(self, x):\n",
    "\n",
    "       \n",
    "        # Merge Mu and Beta band power features\n",
    "      \n",
    "\n",
    "        # A version\n",
    "        #x = x.view(-1, 2)\n",
    "        x = x.reshape(-1,2)\n",
    "        x = self.fc1(x)         # Apply the linear layer\n",
    "        x = x.view(-1, time_stamps, channels)         # Reshape the tensor back to its original shape: (26, 158)\n",
    "        \n",
    "        \n",
    "        x = x.reshape(-1, channels*time_stamps)\n",
    "        x = self.fc2(x)\n",
    "        \n",
    "        \n",
    "       \n",
    "       \n",
    "        \n",
    "        x = self.activation(x)\n",
    "        x = self.dropout(x)\n",
    "       \n",
    "        #x  = x.reshape(10, 26*64)\n",
    "       \n",
    "      \n",
    "    \n",
    "        x = self.fc3(x)\n",
    "        #x = nn.Softmax(dim=1)(x)\n",
    "        return x\n",
    "\n"
   ]
  },
  {
   "cell_type": "code",
   "execution_count": 14,
   "metadata": {},
   "outputs": [],
   "source": [
    "num_epochs = 100\n",
    "learning_rate = 1e-3\n",
    "rnn_hidden_size = 8\n",
    "\n",
    "\n",
    "\n",
    "time_stamps = X.shape[1]\n",
    "channels = X.shape[2]\n",
    "model = SingleLayerMLP(time_stamps, channels, rnn_hidden_size, 5, nn.ReLU())\n",
    "#summary(model, input_size=(X[0].shape));\n",
    "model.to(device)\n",
    "\n",
    "criterion = nn.CrossEntropyLoss()\n",
    "optimizer = optim.Adam(model.parameters(), lr=learning_rate)"
   ]
  },
  {
   "cell_type": "code",
   "execution_count": 15,
   "metadata": {},
   "outputs": [
    {
     "name": "stdout",
     "output_type": "stream",
     "text": [
      "Epoch 10/100, Loss: 24.521720111370087, Train accuracy: 62.00%, Test accuracy: 28.00%\n",
      "Epoch 20/100, Loss: 6.791089653968811, Train accuracy: 92.50%, Test accuracy: 28.00%\n",
      "Epoch 30/100, Loss: 3.0655480585992336, Train accuracy: 97.50%, Test accuracy: 26.00%\n",
      "Epoch 40/100, Loss: 1.781559087568894, Train accuracy: 99.50%, Test accuracy: 30.00%\n",
      "Epoch 50/100, Loss: 1.261649412335828, Train accuracy: 99.00%, Test accuracy: 28.00%\n",
      "Epoch 60/100, Loss: 0.9151467098854482, Train accuracy: 98.50%, Test accuracy: 28.00%\n",
      "Epoch 70/100, Loss: 2.8901807772926986, Train accuracy: 99.00%, Test accuracy: 26.00%\n",
      "Epoch 80/100, Loss: 0.6260551799787208, Train accuracy: 100.00%, Test accuracy: 28.00%\n",
      "Epoch 90/100, Loss: 0.6793843598570675, Train accuracy: 99.50%, Test accuracy: 32.00%\n",
      "Epoch 100/100, Loss: 0.6684687180095352, Train accuracy: 99.00%, Test accuracy: 32.00%\n"
     ]
    },
    {
     "data": {
      "text/plain": [
       "38.0"
      ]
     },
     "execution_count": 15,
     "metadata": {},
     "output_type": "execute_result"
    }
   ],
   "source": [
    "def train(num_epochs, verbose = False):\n",
    "    # single train\n",
    "    model.train()\n",
    "    for epoch in range(num_epochs):\n",
    "\n",
    "        epoch_loss = 0.0\n",
    "        for X, y in train_dataloader:\n",
    "            optimizer.zero_grad()\n",
    "            outputs = model(X)\n",
    "            loss = criterion(outputs, y)\n",
    "            loss.backward()\n",
    "            optimizer.step()\n",
    "            epoch_loss += loss.item()\n",
    "\n",
    "        if  verbose and (epoch+1) % 10 == 0:\n",
    "            train_accuracy = accuracy(train_dataloader)\n",
    "            test_accuracy = accuracy(test_dataloader)\n",
    "            print(f\"Epoch {epoch + 1}/{num_epochs}, Loss: {epoch_loss}, Train accuracy: {train_accuracy:.2f}%, Test accuracy: {test_accuracy:.2f}%\")\n",
    "\n",
    "    return accuracy(test_dataloader)\n",
    "\n",
    "train(num_epochs, verbose=True)"
   ]
  },
  {
   "cell_type": "code",
   "execution_count": 21,
   "metadata": {},
   "outputs": [
    {
     "name": "stdout",
     "output_type": "stream",
     "text": [
      "index\n"
     ]
    },
    {
     "data": {
      "image/png": "[encoded data removed]",
      "text/plain": [
       "<Figure size 640x640 with 1 Axes>"
      ]
     },
     "metadata": {},
     "output_type": "display_data"
    },
    {
     "name": "stdout",
     "output_type": "stream",
     "text": [
      "little\n"
     ]
    },
    {
     "data": {
      "image/png": "[encoded data removed]",
      "text/plain": [
       "<Figure size 640x640 with 1 Axes>"
      ]
     },
     "metadata": {},
     "output_type": "display_data"
    },
    {
     "name": "stdout",
     "output_type": "stream",
     "text": [
      "middle\n"
     ]
    },
    {
     "data": {
      "image/png": "[encoded data removed]",
      "text/plain": [
       "<Figure size 640x640 with 1 Axes>"
      ]
     },
     "metadata": {},
     "output_type": "display_data"
    },
    {
     "name": "stdout",
     "output_type": "stream",
     "text": [
      "ring\n"
     ]
    },
    {
     "data": {
      "image/png": "[encoded data removed]",
      "text/plain": [
       "<Figure size 640x640 with 1 Axes>"
      ]
     },
     "metadata": {},
     "output_type": "display_data"
    },
    {
     "name": "stdout",
     "output_type": "stream",
     "text": [
      "thumb\n"
     ]
    },
    {
     "data": {
      "image/png": "[encoded data removed]",
      "text/plain": [
       "<Figure size 640x640 with 1 Axes>"
      ]
     },
     "metadata": {},
     "output_type": "display_data"
    }
   ],
   "source": [
    "top = 5\n",
    "\n",
    "model.eval()\n",
    "# Print the loaded data dictionary\n",
    "for key, features in data.items(): # BOTH Train and Test\n",
    "\n",
    "    print(key)\n",
    "    summ = np.empty((50, 158))\n",
    "    for i, f in enumerate(features):\n",
    "\n",
    "        X = torch.from_numpy(f).float().to(device)\n",
    "        X = X.unsqueeze(0)\n",
    "\n",
    "        X.requires_grad_(True)\n",
    "\n",
    "    \n",
    "        outputs = model(X)\n",
    "\n",
    "        max_scores = outputs.max(dim=1)[0]\n",
    "    \n",
    "        max_scores.backward(retain_graph=True)\n",
    "\n",
    "        saliency = X.grad\n",
    "        \n",
    "        saliency = saliency.squeeze(0)              # REMOVE BATCH DIMENSION\n",
    "        saliency = saliency.abs()                   # ABSOLUTE VALUE\n",
    "        saliency = torch.max(saliency, dim=-1)[0]   # MAX OVER FREQUNCY BANDS\n",
    "        saliency = torch.mean(saliency, dim=0)      # MEAN OVER TIME\n",
    "        saliency = saliency.cpu().detach().numpy()  # CONVERT TO NUMPY ARRAY\n",
    "        summ[i] = saliency\n",
    "    average = np.mean(summ, axis=0)\n",
    "    bests = np.argpartition(average, -top)[-top:]\n",
    "    best_channels = [cfg['kept_channel_names']['S1'][i] for i in bests]\n",
    "    #print(best_channels)\n",
    "    saliency =  demo.copy().pick_channels(best_channels)\n",
    "    saliency.plot_sensors(show_names=True);\n",
    "    plt.show()\n",
    "\n",
    "\n",
    "\n"
   ]
  },
  {
   "cell_type": "code",
   "execution_count": null,
   "metadata": {},
   "outputs": [],
   "source": []
  }
 ],
 "metadata": {
  "kernelspec": {
   "display_name": "Python 3",
   "language": "python",
   "name": "python3"
  },
  "language_info": {
   "codemirror_mode": {
    "name": "ipython",
    "version": 3
   },
   "file_extension": ".py",
   "mimetype": "text/x-python",
   "name": "python",
   "nbconvert_exporter": "python",
   "pygments_lexer": "ipython3",
   "version": "3.11.0"
  },
  "orig_nbformat": 4,
  "vscode": {
   "interpreter": {
    "hash": "9cefe38f745df9e33a66570f2e5a410ba71c4ae3bf929b6ad1b474ac5f904d76"
   }
  }
 },
 "nbformat": 4,
 "nbformat_minor": 2
}
