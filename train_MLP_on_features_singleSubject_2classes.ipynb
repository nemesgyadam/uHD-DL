{
 "cells": [
  {
   "attachments": {},
   "cell_type": "markdown",
   "metadata": {},
   "source": [
    "Train MLP for each finger pair!\\\n",
    "Using hyper param optimalization\n",
    "Data source: \\\n",
    "sliding windowed powers for mu and beta band\\\n",
    "Subject 1"
   ]
  },
  {
   "cell_type": "code",
   "execution_count": 1,
   "metadata": {},
   "outputs": [],
   "source": [
    "import os\n",
    "import numpy as np\n",
    "import h5py\n",
    "from scipy import stats\n",
    "import scipy.io\n",
    "import mne\n",
    "from random import shuffle\n",
    "import random\n",
    "\n",
    "mne.set_log_level('error')\n",
    "\n",
    "\n",
    "from sklearn.model_selection import train_test_split\n",
    "from sklearn.preprocessing import StandardScaler\n",
    "from sklearn.metrics import accuracy_score\n",
    "from sklearn.model_selection import KFold\n",
    "\n",
    "\n",
    "import torch\n",
    "import torch.nn as nn\n",
    "import torch.optim as optim\n",
    "\n",
    "import optuna\n",
    "\n",
    "\n",
    "from utils.load import Load\n",
    "from config.default import cfg\n",
    "\n",
    "%load_ext autoreload\n",
    "%autoreload 2\n"
   ]
  },
  {
   "cell_type": "code",
   "execution_count": 2,
   "metadata": {},
   "outputs": [],
   "source": [
    "# Set seed for NumPy\n",
    "np.random.seed(42)\n",
    "\n",
    "# Set seed for Python's built-in random number generator\n",
    "random.seed(42)\n",
    "\n",
    "# Set seed for PyTorch\n",
    "torch.manual_seed(42)\n",
    "if torch.cuda.is_available():\n",
    "    torch.cuda.manual_seed(42)\n",
    "    torch.backends.cudnn.deterministic = True\n",
    "    torch.backends.cudnn.benchmark = False"
   ]
  },
  {
   "cell_type": "code",
   "execution_count": 3,
   "metadata": {},
   "outputs": [],
   "source": [
    "subject_id = 0\n",
    "tag = 'gpt'"
   ]
  },
  {
   "cell_type": "code",
   "execution_count": 4,
   "metadata": {},
   "outputs": [
    {
     "name": "stdout",
     "output_type": "stream",
     "text": [
      "index (50, 8568)\n",
      "little (50, 8568)\n",
      "middle (50, 8568)\n",
      "ring (50, 8568)\n",
      "thumb (50, 8568)\n"
     ]
    }
   ],
   "source": [
    "# Load the dictionary from the HDF5 file\n",
    "target_dir = 'features'\n",
    "\n",
    "file_path = os.path.join(target_dir, tag+'_'+cfg['subjects'][subject_id] + '.h5')\n",
    "\n",
    "\n",
    "data = {}\n",
    "with h5py.File(file_path, 'r') as h5file:\n",
    "    for key in h5file.keys():\n",
    "        data[key] = np.array(h5file[key])\n",
    "\n",
    "# Print the loaded data dictionary\n",
    "for key, value in data.items():\n",
    "    data[key] = np.reshape(value, (value.shape[0], -1))\n",
    "    print(key, data[key].shape)"
   ]
  },
  {
   "cell_type": "code",
   "execution_count": 5,
   "metadata": {},
   "outputs": [],
   "source": [
    "class SingleLayerMLP(nn.Module):\n",
    "    def __init__(self, input_size, hidden_size, output_size, activation):\n",
    "        super(SingleLayerMLP, self).__init__()\n",
    "        self.fc1 = nn.Linear(input_size, hidden_size)\n",
    "        self.activation = activation\n",
    "        self.fc2 = nn.Linear(hidden_size, output_size)\n",
    "\n",
    "    def forward(self, x):\n",
    "        x = self.fc1(x)\n",
    "        x = self.activation(x)\n",
    "        x = self.fc2(x)\n",
    "        return x"
   ]
  },
  {
   "cell_type": "code",
   "execution_count": 6,
   "metadata": {},
   "outputs": [],
   "source": [
    "def train(X_train, y_train, X_test, y_test, model, criterion, optimizer, num_epochs=100):\n",
    "    X_train = torch.tensor(X_train, dtype=torch.float32)\n",
    "    X_test = torch.tensor(X_test, dtype=torch.float32)\n",
    "    y_train = torch.tensor(y_train, dtype=torch.long)\n",
    "    y_test = torch.tensor(y_test, dtype=torch.long)\n",
    "\n",
    "\n",
    "    for epoch in range(num_epochs):\n",
    "        optimizer.zero_grad()\n",
    "        outputs = model(X_train)\n",
    "        loss = criterion(outputs, y_train)\n",
    "        loss.backward()\n",
    "        optimizer.step()\n",
    "\n",
    "    with torch.no_grad():\n",
    "        y_pred = model(X_test)\n",
    "        y_pred = torch.argmax(y_pred, dim=1)\n",
    "\n",
    "    acc = accuracy_score(y_test, y_pred)\n",
    "    return acc\n",
    "\n",
    "def objective(trial, X, y):\n",
    "    learning_rate = trial.suggest_float(\"learning_rate\", 1e-5, 1e-1, log=True)\n",
    "    num_epochs = trial.suggest_int(\"num_epochs\", 100, 2000)\n",
    "    hidden_size = trial.suggest_int(\"hidden_size\", 16, 128)\n",
    "    activation_name = trial.suggest_categorical(\"activation\", [\"relu\", \"elu\", \"leaky_relu\"])\n",
    "    optimizer = trial.suggest_categorical(\"optimizer\", [\"SGD\", \"Adam\"])\n",
    "\n",
    "    if activation_name == \"relu\":\n",
    "        activation = nn.ReLU()\n",
    "    elif activation_name == \"elu\":\n",
    "        activation = nn.ELU()\n",
    "    elif activation_name == \"leaky_relu\":\n",
    "        activation = nn.LeakyReLU()\n",
    "\n",
    "    if optimizer == \"SGD\":\n",
    "        optimizer = optim.SGD\n",
    "    elif optimizer == \"Adam\":\n",
    "        optimizer = optim.Adam\n",
    "\n",
    "    train_X, test_X, train_y, test_y = train_test_split(X, y, test_size=0.2, random_state=42)\n",
    "    model = SingleLayerMLP(train_X.shape[1], hidden_size, 2, activation)\n",
    "    criterion = nn.CrossEntropyLoss()\n",
    "    optimizer = optimizer(model.parameters(), lr=learning_rate)\n",
    "    return train(train_X, train_y, test_X, test_y, model, criterion, optimizer, num_epochs=num_epochs)\n",
    "\n",
    "    # kf = KFold(n_splits=10, shuffle=True, random_state=42)\n",
    "    # fold_accuracies = []\n",
    "\n",
    "    # for train_index, test_index in kf.split(X):\n",
    "    #     X_train, X_test = X[train_index], X[test_index]\n",
    "    #     y_train, y_test = y[train_index], y[test_index]\n",
    "\n",
    "    #     model = SingleLayerMLP(X_train.shape[1], hidden_size, 2, activation)\n",
    "    #     criterion = nn.CrossEntropyLoss()\n",
    "    #     optimizer = optimizer(model.parameters(), lr=learning_rate)\n",
    "    #     acc = train(X_train, y_train, X_test, y_test, model, criterion, optimizer, num_epochs=num_epochs)\n",
    "    #     fold_accuracies.append(acc)\n",
    "\n",
    "    # mean_accuracy = np.mean(fold_accuracies)\n",
    "    # return mean_accuracy\n",
    "\n",
    "def train_MLP(finger1, finger2, verbose = True):\n",
    "   \n",
    "    print(f'Training MLP for {finger1} vs {finger2}')\n",
    "\n",
    "    X = np.concatenate((data[finger1], data[finger2]), axis=0)\n",
    "    y = np.concatenate((np.ones(data[finger1].shape[0]), np.zeros(data[finger2].shape[0])), axis=0)\n",
    "\n",
    "   \n",
    "    scaler = StandardScaler()\n",
    "    X = scaler.fit_transform(X)\n",
    "\n",
    "    study = optuna.create_study(direction=\"maximize\")\n",
    "    study.optimize(lambda trial: objective(trial, X, y), n_trials=10)\n",
    "\n",
    "    best_trial = study.best_trial\n",
    "\n",
    "    print(f'Best trial params: {best_trial.params}')\n",
    "    print(f'Best trial accuracy: {best_trial.value * 100:.2f}%')\n",
    "    return best_trial.value\n",
    "\n"
   ]
  },
  {
   "cell_type": "code",
   "execution_count": 7,
   "metadata": {},
   "outputs": [
    {
     "name": "stderr",
     "output_type": "stream",
     "text": [
      "\u001b[32m[I 2023-04-15 14:29:59,100]\u001b[0m A new study created in memory with name: no-name-04364c1a-568a-4e29-9d7a-57d10ab2ca81\u001b[0m\n",
      "\u001b[32m[I 2023-04-15 14:29:59,295]\u001b[0m Trial 0 finished with value: 0.8 and parameters: {'learning_rate': 0.0013178216079708042, 'num_epochs': 117, 'hidden_size': 40, 'activation': 'elu', 'optimizer': 'SGD'}. Best is trial 0 with value: 0.8.\u001b[0m\n"
     ]
    },
    {
     "name": "stdout",
     "output_type": "stream",
     "text": [
      "Training MLP for middle vs ring\n"
     ]
    },
    {
     "name": "stderr",
     "output_type": "stream",
     "text": [
      "\u001b[32m[I 2023-04-15 14:30:03,449]\u001b[0m Trial 1 finished with value: 0.75 and parameters: {'learning_rate': 1.0767283185969204e-05, 'num_epochs': 1060, 'hidden_size': 41, 'activation': 'elu', 'optimizer': 'Adam'}. Best is trial 0 with value: 0.8.\u001b[0m\n",
      "\u001b[32m[I 2023-04-15 14:30:05,575]\u001b[0m Trial 2 finished with value: 0.75 and parameters: {'learning_rate': 0.0017155970725842638, 'num_epochs': 428, 'hidden_size': 61, 'activation': 'elu', 'optimizer': 'Adam'}. Best is trial 0 with value: 0.8.\u001b[0m\n",
      "\u001b[32m[I 2023-04-15 14:30:10,260]\u001b[0m Trial 3 finished with value: 0.75 and parameters: {'learning_rate': 0.00011330360933387461, 'num_epochs': 1200, 'hidden_size': 118, 'activation': 'relu', 'optimizer': 'SGD'}. Best is trial 0 with value: 0.8.\u001b[0m\n",
      "\u001b[32m[I 2023-04-15 14:30:15,965]\u001b[0m Trial 4 finished with value: 0.75 and parameters: {'learning_rate': 0.003030714938558828, 'num_epochs': 1515, 'hidden_size': 115, 'activation': 'elu', 'optimizer': 'SGD'}. Best is trial 0 with value: 0.8.\u001b[0m\n",
      "\u001b[32m[I 2023-04-15 14:30:17,799]\u001b[0m Trial 5 finished with value: 0.75 and parameters: {'learning_rate': 0.00019539633582496264, 'num_epochs': 278, 'hidden_size': 101, 'activation': 'elu', 'optimizer': 'Adam'}. Best is trial 0 with value: 0.8.\u001b[0m\n",
      "\u001b[32m[I 2023-04-15 14:30:21,165]\u001b[0m Trial 6 finished with value: 0.75 and parameters: {'learning_rate': 0.004935491583602953, 'num_epochs': 1385, 'hidden_size': 73, 'activation': 'elu', 'optimizer': 'SGD'}. Best is trial 0 with value: 0.8.\u001b[0m\n",
      "\u001b[32m[I 2023-04-15 14:30:25,099]\u001b[0m Trial 7 finished with value: 0.8 and parameters: {'learning_rate': 0.00014331946181636186, 'num_epochs': 618, 'hidden_size': 95, 'activation': 'leaky_relu', 'optimizer': 'Adam'}. Best is trial 0 with value: 0.8.\u001b[0m\n",
      "\u001b[32m[I 2023-04-15 14:30:38,851]\u001b[0m Trial 8 finished with value: 0.8 and parameters: {'learning_rate': 0.0018485467366250435, 'num_epochs': 1994, 'hidden_size': 102, 'activation': 'leaky_relu', 'optimizer': 'Adam'}. Best is trial 0 with value: 0.8.\u001b[0m\n",
      "\u001b[32m[I 2023-04-15 14:30:42,453]\u001b[0m Trial 9 finished with value: 0.6 and parameters: {'learning_rate': 1.260856872837088e-05, 'num_epochs': 1885, 'hidden_size': 57, 'activation': 'leaky_relu', 'optimizer': 'SGD'}. Best is trial 0 with value: 0.8.\u001b[0m\n"
     ]
    },
    {
     "name": "stdout",
     "output_type": "stream",
     "text": [
      "Best trial params: {'learning_rate': 0.0013178216079708042, 'num_epochs': 117, 'hidden_size': 40, 'activation': 'elu', 'optimizer': 'SGD'}\n",
      "Best trial accuracy: 80.00%\n"
     ]
    },
    {
     "data": {
      "text/plain": [
       "0.8"
      ]
     },
     "execution_count": 7,
     "metadata": {},
     "output_type": "execute_result"
    }
   ],
   "source": [
    "train_MLP('middle', 'ring', verbose = True)"
   ]
  },
  {
   "cell_type": "code",
   "execution_count": 8,
   "metadata": {},
   "outputs": [
    {
     "name": "stderr",
     "output_type": "stream",
     "text": [
      "\u001b[32m[I 2023-04-15 14:30:42,635]\u001b[0m A new study created in memory with name: no-name-48d855a1-8959-46be-90b2-375501b2b385\u001b[0m\n"
     ]
    },
    {
     "name": "stdout",
     "output_type": "stream",
     "text": [
      "Training MLP for little vs index\n"
     ]
    },
    {
     "name": "stderr",
     "output_type": "stream",
     "text": [
      "\u001b[32m[I 2023-04-15 14:30:43,594]\u001b[0m Trial 0 finished with value: 0.4 and parameters: {'learning_rate': 0.0007417871658998917, 'num_epochs': 464, 'hidden_size': 47, 'activation': 'elu', 'optimizer': 'SGD'}. Best is trial 0 with value: 0.4.\u001b[0m\n",
      "\u001b[32m[I 2023-04-15 14:30:49,123]\u001b[0m Trial 1 finished with value: 0.4 and parameters: {'learning_rate': 0.047400417968021274, 'num_epochs': 628, 'hidden_size': 114, 'activation': 'leaky_relu', 'optimizer': 'Adam'}. Best is trial 0 with value: 0.4.\u001b[0m\n",
      "\u001b[32m[I 2023-04-15 14:30:51,929]\u001b[0m Trial 2 finished with value: 0.35 and parameters: {'learning_rate': 0.0001537204331438265, 'num_epochs': 920, 'hidden_size': 86, 'activation': 'leaky_relu', 'optimizer': 'SGD'}. Best is trial 0 with value: 0.4.\u001b[0m\n",
      "\u001b[32m[I 2023-04-15 14:30:59,916]\u001b[0m Trial 3 finished with value: 0.35 and parameters: {'learning_rate': 0.0005639329492607437, 'num_epochs': 1088, 'hidden_size': 114, 'activation': 'relu', 'optimizer': 'Adam'}. Best is trial 0 with value: 0.4.\u001b[0m\n",
      "\u001b[32m[I 2023-04-15 14:31:06,380]\u001b[0m Trial 4 finished with value: 0.4 and parameters: {'learning_rate': 0.0016303157830459315, 'num_epochs': 1997, 'hidden_size': 42, 'activation': 'leaky_relu', 'optimizer': 'Adam'}. Best is trial 0 with value: 0.4.\u001b[0m\n",
      "\u001b[32m[I 2023-04-15 14:31:09,260]\u001b[0m Trial 5 finished with value: 0.45 and parameters: {'learning_rate': 5.518492987235711e-05, 'num_epochs': 903, 'hidden_size': 102, 'activation': 'leaky_relu', 'optimizer': 'SGD'}. Best is trial 5 with value: 0.45.\u001b[0m\n",
      "\u001b[32m[I 2023-04-15 14:31:11,183]\u001b[0m Trial 6 finished with value: 0.4 and parameters: {'learning_rate': 0.0017962459715383176, 'num_epochs': 486, 'hidden_size': 126, 'activation': 'relu', 'optimizer': 'SGD'}. Best is trial 5 with value: 0.45.\u001b[0m\n",
      "\u001b[32m[I 2023-04-15 14:31:16,769]\u001b[0m Trial 7 finished with value: 0.4 and parameters: {'learning_rate': 0.05755577566252607, 'num_epochs': 1964, 'hidden_size': 90, 'activation': 'leaky_relu', 'optimizer': 'SGD'}. Best is trial 5 with value: 0.45.\u001b[0m\n",
      "\u001b[32m[I 2023-04-15 14:31:22,083]\u001b[0m Trial 8 finished with value: 0.4 and parameters: {'learning_rate': 0.06862350227072893, 'num_epochs': 725, 'hidden_size': 113, 'activation': 'relu', 'optimizer': 'Adam'}. Best is trial 5 with value: 0.45.\u001b[0m\n",
      "\u001b[32m[I 2023-04-15 14:31:22,587]\u001b[0m Trial 9 finished with value: 0.35 and parameters: {'learning_rate': 0.0005350869006875707, 'num_epochs': 224, 'hidden_size': 61, 'activation': 'elu', 'optimizer': 'SGD'}. Best is trial 5 with value: 0.45.\u001b[0m\n",
      "\u001b[32m[I 2023-04-15 14:31:22,603]\u001b[0m A new study created in memory with name: no-name-a5f85847-8e4e-4aff-b957-0b43e0cc10be\u001b[0m\n"
     ]
    },
    {
     "name": "stdout",
     "output_type": "stream",
     "text": [
      "Best trial params: {'learning_rate': 5.518492987235711e-05, 'num_epochs': 903, 'hidden_size': 102, 'activation': 'leaky_relu', 'optimizer': 'SGD'}\n",
      "Best trial accuracy: 45.00%\n",
      "Training MLP for middle vs index\n"
     ]
    },
    {
     "name": "stderr",
     "output_type": "stream",
     "text": [
      "\u001b[32m[I 2023-04-15 14:31:30,379]\u001b[0m Trial 0 finished with value: 0.4 and parameters: {'learning_rate': 2.5777990720492858e-05, 'num_epochs': 1929, 'hidden_size': 58, 'activation': 'leaky_relu', 'optimizer': 'Adam'}. Best is trial 0 with value: 0.4.\u001b[0m\n",
      "\u001b[32m[I 2023-04-15 14:31:32,451]\u001b[0m Trial 1 finished with value: 0.4 and parameters: {'learning_rate': 0.0037800524199333714, 'num_epochs': 622, 'hidden_size': 105, 'activation': 'leaky_relu', 'optimizer': 'SGD'}. Best is trial 0 with value: 0.4.\u001b[0m\n",
      "\u001b[32m[I 2023-04-15 14:31:38,407]\u001b[0m Trial 2 finished with value: 0.5 and parameters: {'learning_rate': 3.407677375242087e-05, 'num_epochs': 803, 'hidden_size': 116, 'activation': 'leaky_relu', 'optimizer': 'Adam'}. Best is trial 2 with value: 0.5.\u001b[0m\n",
      "\u001b[32m[I 2023-04-15 14:31:43,316]\u001b[0m Trial 3 finished with value: 0.55 and parameters: {'learning_rate': 0.060272410127170814, 'num_epochs': 1310, 'hidden_size': 116, 'activation': 'elu', 'optimizer': 'SGD'}. Best is trial 3 with value: 0.55.\u001b[0m\n",
      "\u001b[32m[I 2023-04-15 14:31:44,678]\u001b[0m Trial 4 finished with value: 0.45 and parameters: {'learning_rate': 0.019518321932767244, 'num_epochs': 370, 'hidden_size': 116, 'activation': 'leaky_relu', 'optimizer': 'SGD'}. Best is trial 3 with value: 0.55.\u001b[0m\n",
      "\u001b[32m[I 2023-04-15 14:31:49,980]\u001b[0m Trial 5 finished with value: 0.4 and parameters: {'learning_rate': 0.0026633609321849373, 'num_epochs': 782, 'hidden_size': 104, 'activation': 'elu', 'optimizer': 'Adam'}. Best is trial 3 with value: 0.55.\u001b[0m\n",
      "\u001b[32m[I 2023-04-15 14:31:53,412]\u001b[0m Trial 6 finished with value: 0.55 and parameters: {'learning_rate': 0.0008490403498300301, 'num_epochs': 1047, 'hidden_size': 99, 'activation': 'elu', 'optimizer': 'SGD'}. Best is trial 3 with value: 0.55.\u001b[0m\n",
      "\u001b[32m[I 2023-04-15 14:31:54,168]\u001b[0m Trial 7 finished with value: 0.5 and parameters: {'learning_rate': 0.018214420759701436, 'num_epochs': 459, 'hidden_size': 46, 'activation': 'relu', 'optimizer': 'SGD'}. Best is trial 3 with value: 0.55.\u001b[0m\n",
      "\u001b[32m[I 2023-04-15 14:31:56,651]\u001b[0m Trial 8 finished with value: 0.45 and parameters: {'learning_rate': 2.828499061989741e-05, 'num_epochs': 1723, 'hidden_size': 38, 'activation': 'leaky_relu', 'optimizer': 'SGD'}. Best is trial 3 with value: 0.55.\u001b[0m\n",
      "\u001b[32m[I 2023-04-15 14:31:58,986]\u001b[0m Trial 9 finished with value: 0.45 and parameters: {'learning_rate': 0.011785392386194353, 'num_epochs': 1574, 'hidden_size': 20, 'activation': 'relu', 'optimizer': 'Adam'}. Best is trial 3 with value: 0.55.\u001b[0m\n",
      "\u001b[32m[I 2023-04-15 14:31:59,001]\u001b[0m A new study created in memory with name: no-name-9000544b-7775-40e2-b44d-6be90e96ab54\u001b[0m\n"
     ]
    },
    {
     "name": "stdout",
     "output_type": "stream",
     "text": [
      "Best trial params: {'learning_rate': 0.060272410127170814, 'num_epochs': 1310, 'hidden_size': 116, 'activation': 'elu', 'optimizer': 'SGD'}\n",
      "Best trial accuracy: 55.00%\n",
      "Training MLP for middle vs little\n"
     ]
    },
    {
     "name": "stderr",
     "output_type": "stream",
     "text": [
      "\u001b[32m[I 2023-04-15 14:32:00,110]\u001b[0m Trial 0 finished with value: 0.55 and parameters: {'learning_rate': 1.7484197406911653e-05, 'num_epochs': 534, 'hidden_size': 65, 'activation': 'relu', 'optimizer': 'SGD'}. Best is trial 0 with value: 0.55.\u001b[0m\n",
      "\u001b[32m[I 2023-04-15 14:32:12,694]\u001b[0m Trial 1 finished with value: 0.65 and parameters: {'learning_rate': 0.006397452012174662, 'num_epochs': 1570, 'hidden_size': 100, 'activation': 'relu', 'optimizer': 'Adam'}. Best is trial 1 with value: 0.65.\u001b[0m\n",
      "\u001b[32m[I 2023-04-15 14:32:13,629]\u001b[0m Trial 2 finished with value: 0.5 and parameters: {'learning_rate': 0.001424653155845991, 'num_epochs': 524, 'hidden_size': 39, 'activation': 'leaky_relu', 'optimizer': 'SGD'}. Best is trial 1 with value: 0.65.\u001b[0m\n",
      "\u001b[32m[I 2023-04-15 14:32:16,828]\u001b[0m Trial 3 finished with value: 0.5 and parameters: {'learning_rate': 0.00011869007454956077, 'num_epochs': 1703, 'hidden_size': 42, 'activation': 'leaky_relu', 'optimizer': 'SGD'}. Best is trial 1 with value: 0.65.\u001b[0m\n",
      "\u001b[32m[I 2023-04-15 14:32:23,444]\u001b[0m Trial 4 finished with value: 0.35 and parameters: {'learning_rate': 2.2335120948605913e-05, 'num_epochs': 1377, 'hidden_size': 57, 'activation': 'leaky_relu', 'optimizer': 'Adam'}. Best is trial 1 with value: 0.65.\u001b[0m\n",
      "\u001b[32m[I 2023-04-15 14:32:24,609]\u001b[0m Trial 5 finished with value: 0.55 and parameters: {'learning_rate': 0.02791833726005486, 'num_epochs': 670, 'hidden_size': 43, 'activation': 'leaky_relu', 'optimizer': 'SGD'}. Best is trial 1 with value: 0.65.\u001b[0m\n",
      "\u001b[32m[I 2023-04-15 14:32:27,522]\u001b[0m Trial 6 finished with value: 0.65 and parameters: {'learning_rate': 2.2819173010747465e-05, 'num_epochs': 743, 'hidden_size': 120, 'activation': 'relu', 'optimizer': 'SGD'}. Best is trial 1 with value: 0.65.\u001b[0m\n",
      "\u001b[32m[I 2023-04-15 14:32:32,063]\u001b[0m Trial 7 finished with value: 0.55 and parameters: {'learning_rate': 0.0007852206333269321, 'num_epochs': 1923, 'hidden_size': 68, 'activation': 'elu', 'optimizer': 'SGD'}. Best is trial 1 with value: 0.65.\u001b[0m\n",
      "\u001b[32m[I 2023-04-15 14:32:34,274]\u001b[0m Trial 8 finished with value: 0.5 and parameters: {'learning_rate': 0.0019310291182070276, 'num_epochs': 396, 'hidden_size': 74, 'activation': 'leaky_relu', 'optimizer': 'Adam'}. Best is trial 1 with value: 0.65.\u001b[0m\n",
      "\u001b[32m[I 2023-04-15 14:32:35,146]\u001b[0m Trial 9 finished with value: 0.55 and parameters: {'learning_rate': 0.0016024046127984613, 'num_epochs': 227, 'hidden_size': 107, 'activation': 'leaky_relu', 'optimizer': 'SGD'}. Best is trial 1 with value: 0.65.\u001b[0m\n",
      "\u001b[32m[I 2023-04-15 14:32:35,163]\u001b[0m A new study created in memory with name: no-name-4ea52aa8-eee3-4e2f-aeb5-af6a57dccf26\u001b[0m\n"
     ]
    },
    {
     "name": "stdout",
     "output_type": "stream",
     "text": [
      "Best trial params: {'learning_rate': 0.006397452012174662, 'num_epochs': 1570, 'hidden_size': 100, 'activation': 'relu', 'optimizer': 'Adam'}\n",
      "Best trial accuracy: 65.00%\n",
      "Training MLP for ring vs index\n"
     ]
    },
    {
     "name": "stderr",
     "output_type": "stream",
     "text": [
      "\u001b[32m[I 2023-04-15 14:32:36,532]\u001b[0m Trial 0 finished with value: 0.65 and parameters: {'learning_rate': 0.00012269390458587262, 'num_epochs': 448, 'hidden_size': 81, 'activation': 'relu', 'optimizer': 'SGD'}. Best is trial 0 with value: 0.65.\u001b[0m\n",
      "\u001b[32m[I 2023-04-15 14:32:38,093]\u001b[0m Trial 1 finished with value: 0.65 and parameters: {'learning_rate': 0.03269326904317452, 'num_epochs': 235, 'hidden_size': 58, 'activation': 'elu', 'optimizer': 'Adam'}. Best is trial 0 with value: 0.65.\u001b[0m\n",
      "\u001b[32m[I 2023-04-15 14:32:41,135]\u001b[0m Trial 2 finished with value: 0.6 and parameters: {'learning_rate': 0.009994878082003635, 'num_epochs': 1030, 'hidden_size': 23, 'activation': 'leaky_relu', 'optimizer': 'Adam'}. Best is trial 0 with value: 0.65.\u001b[0m\n",
      "\u001b[32m[I 2023-04-15 14:32:54,688]\u001b[0m Trial 3 finished with value: 0.75 and parameters: {'learning_rate': 0.010016026587107785, 'num_epochs': 1325, 'hidden_size': 105, 'activation': 'leaky_relu', 'optimizer': 'Adam'}. Best is trial 3 with value: 0.75.\u001b[0m\n",
      "\u001b[32m[I 2023-04-15 14:32:55,842]\u001b[0m Trial 4 finished with value: 0.65 and parameters: {'learning_rate': 0.014883187557946171, 'num_epochs': 383, 'hidden_size': 27, 'activation': 'leaky_relu', 'optimizer': 'Adam'}. Best is trial 3 with value: 0.75.\u001b[0m\n",
      "\u001b[32m[I 2023-04-15 14:32:56,617]\u001b[0m Trial 5 finished with value: 0.75 and parameters: {'learning_rate': 8.321391867389723e-05, 'num_epochs': 513, 'hidden_size': 34, 'activation': 'leaky_relu', 'optimizer': 'SGD'}. Best is trial 3 with value: 0.75.\u001b[0m\n",
      "\u001b[32m[I 2023-04-15 14:32:57,065]\u001b[0m Trial 6 finished with value: 0.7 and parameters: {'learning_rate': 0.0005618362109312313, 'num_epochs': 154, 'hidden_size': 78, 'activation': 'relu', 'optimizer': 'SGD'}. Best is trial 3 with value: 0.75.\u001b[0m\n",
      "\u001b[32m[I 2023-04-15 14:33:01,788]\u001b[0m Trial 7 finished with value: 0.6 and parameters: {'learning_rate': 0.008327646356690607, 'num_epochs': 1041, 'hidden_size': 125, 'activation': 'elu', 'optimizer': 'SGD'}. Best is trial 3 with value: 0.75.\u001b[0m\n",
      "\u001b[32m[I 2023-04-15 14:33:02,683]\u001b[0m Trial 8 finished with value: 0.7 and parameters: {'learning_rate': 0.0005272654248343659, 'num_epochs': 719, 'hidden_size': 32, 'activation': 'relu', 'optimizer': 'SGD'}. Best is trial 3 with value: 0.75.\u001b[0m\n",
      "\u001b[32m[I 2023-04-15 14:33:06,971]\u001b[0m Trial 9 finished with value: 0.7 and parameters: {'learning_rate': 0.0002528030633312389, 'num_epochs': 1155, 'hidden_size': 103, 'activation': 'elu', 'optimizer': 'SGD'}. Best is trial 3 with value: 0.75.\u001b[0m\n",
      "\u001b[32m[I 2023-04-15 14:33:06,991]\u001b[0m A new study created in memory with name: no-name-60d31041-53fd-470d-b7c4-0a752375c0c2\u001b[0m\n"
     ]
    },
    {
     "name": "stdout",
     "output_type": "stream",
     "text": [
      "Best trial params: {'learning_rate': 0.010016026587107785, 'num_epochs': 1325, 'hidden_size': 105, 'activation': 'leaky_relu', 'optimizer': 'Adam'}\n",
      "Best trial accuracy: 75.00%\n",
      "Training MLP for ring vs little\n"
     ]
    },
    {
     "name": "stderr",
     "output_type": "stream",
     "text": [
      "\u001b[32m[I 2023-04-15 14:33:11,655]\u001b[0m Trial 0 finished with value: 0.7 and parameters: {'learning_rate': 0.022829871967892382, 'num_epochs': 1855, 'hidden_size': 72, 'activation': 'elu', 'optimizer': 'SGD'}. Best is trial 0 with value: 0.7.\u001b[0m\n",
      "\u001b[32m[I 2023-04-15 14:33:24,610]\u001b[0m Trial 1 finished with value: 0.7 and parameters: {'learning_rate': 0.004622375182617079, 'num_epochs': 1101, 'hidden_size': 95, 'activation': 'leaky_relu', 'optimizer': 'Adam'}. Best is trial 0 with value: 0.7.\u001b[0m\n",
      "\u001b[32m[I 2023-04-15 14:33:27,827]\u001b[0m Trial 2 finished with value: 0.75 and parameters: {'learning_rate': 0.0019129550227467724, 'num_epochs': 1540, 'hidden_size': 54, 'activation': 'elu', 'optimizer': 'SGD'}. Best is trial 2 with value: 0.75.\u001b[0m\n",
      "\u001b[32m[I 2023-04-15 14:33:40,687]\u001b[0m Trial 3 finished with value: 0.75 and parameters: {'learning_rate': 0.01637159299689302, 'num_epochs': 1840, 'hidden_size': 89, 'activation': 'relu', 'optimizer': 'Adam'}. Best is trial 2 with value: 0.75.\u001b[0m\n",
      "\u001b[32m[I 2023-04-15 14:33:43,319]\u001b[0m Trial 4 finished with value: 0.7 and parameters: {'learning_rate': 0.00019035885702246028, 'num_epochs': 1013, 'hidden_size': 67, 'activation': 'elu', 'optimizer': 'SGD'}. Best is trial 2 with value: 0.75.\u001b[0m\n",
      "\u001b[32m[I 2023-04-15 14:33:45,239]\u001b[0m Trial 5 finished with value: 0.65 and parameters: {'learning_rate': 0.0002741560348741832, 'num_epochs': 666, 'hidden_size': 33, 'activation': 'elu', 'optimizer': 'Adam'}. Best is trial 2 with value: 0.75.\u001b[0m\n",
      "\u001b[32m[I 2023-04-15 14:33:57,246]\u001b[0m Trial 6 finished with value: 0.7 and parameters: {'learning_rate': 0.0004491607302838891, 'num_epochs': 1992, 'hidden_size': 83, 'activation': 'relu', 'optimizer': 'Adam'}. Best is trial 2 with value: 0.75.\u001b[0m\n",
      "\u001b[32m[I 2023-04-15 14:33:57,565]\u001b[0m Trial 7 finished with value: 0.8 and parameters: {'learning_rate': 0.001409126657319095, 'num_epochs': 228, 'hidden_size': 33, 'activation': 'leaky_relu', 'optimizer': 'SGD'}. Best is trial 7 with value: 0.8.\u001b[0m\n",
      "\u001b[32m[I 2023-04-15 14:34:00,519]\u001b[0m Trial 8 finished with value: 0.7 and parameters: {'learning_rate': 0.06407053084118583, 'num_epochs': 1847, 'hidden_size': 37, 'activation': 'elu', 'optimizer': 'SGD'}. Best is trial 7 with value: 0.8.\u001b[0m\n",
      "\u001b[32m[I 2023-04-15 14:34:03,775]\u001b[0m Trial 9 finished with value: 0.7 and parameters: {'learning_rate': 0.0048236121003347315, 'num_epochs': 297, 'hidden_size': 107, 'activation': 'elu', 'optimizer': 'Adam'}. Best is trial 7 with value: 0.8.\u001b[0m\n",
      "\u001b[32m[I 2023-04-15 14:34:03,789]\u001b[0m A new study created in memory with name: no-name-19299488-e863-426c-bf72-5e9ded730226\u001b[0m\n"
     ]
    },
    {
     "name": "stdout",
     "output_type": "stream",
     "text": [
      "Best trial params: {'learning_rate': 0.001409126657319095, 'num_epochs': 228, 'hidden_size': 33, 'activation': 'leaky_relu', 'optimizer': 'SGD'}\n",
      "Best trial accuracy: 80.00%\n",
      "Training MLP for ring vs middle\n"
     ]
    },
    {
     "name": "stderr",
     "output_type": "stream",
     "text": [
      "\u001b[32m[I 2023-04-15 14:34:09,553]\u001b[0m Trial 0 finished with value: 0.55 and parameters: {'learning_rate': 3.138328960351486e-05, 'num_epochs': 1422, 'hidden_size': 111, 'activation': 'elu', 'optimizer': 'SGD'}. Best is trial 0 with value: 0.55.\u001b[0m\n",
      "\u001b[32m[I 2023-04-15 14:34:13,387]\u001b[0m Trial 1 finished with value: 0.6 and parameters: {'learning_rate': 0.005356387080688717, 'num_epochs': 1036, 'hidden_size': 35, 'activation': 'leaky_relu', 'optimizer': 'Adam'}. Best is trial 1 with value: 0.6.\u001b[0m\n",
      "\u001b[32m[I 2023-04-15 14:34:20,637]\u001b[0m Trial 2 finished with value: 0.7 and parameters: {'learning_rate': 0.00021664229133568528, 'num_epochs': 838, 'hidden_size': 119, 'activation': 'relu', 'optimizer': 'Adam'}. Best is trial 2 with value: 0.7.\u001b[0m\n",
      "\u001b[32m[I 2023-04-15 14:34:25,134]\u001b[0m Trial 3 finished with value: 0.7 and parameters: {'learning_rate': 1.0895422864752347e-05, 'num_epochs': 1095, 'hidden_size': 118, 'activation': 'leaky_relu', 'optimizer': 'SGD'}. Best is trial 2 with value: 0.7.\u001b[0m\n",
      "\u001b[32m[I 2023-04-15 14:34:26,801]\u001b[0m Trial 4 finished with value: 0.75 and parameters: {'learning_rate': 0.0025252557563719053, 'num_epochs': 762, 'hidden_size': 64, 'activation': 'elu', 'optimizer': 'SGD'}. Best is trial 4 with value: 0.75.\u001b[0m\n",
      "\u001b[32m[I 2023-04-15 14:34:27,365]\u001b[0m Trial 5 finished with value: 0.75 and parameters: {'learning_rate': 0.002605237470996823, 'num_epochs': 194, 'hidden_size': 80, 'activation': 'elu', 'optimizer': 'SGD'}. Best is trial 4 with value: 0.75.\u001b[0m\n",
      "\u001b[32m[I 2023-04-15 14:34:41,237]\u001b[0m Trial 6 finished with value: 0.7 and parameters: {'learning_rate': 0.05575572165219342, 'num_epochs': 1371, 'hidden_size': 92, 'activation': 'leaky_relu', 'optimizer': 'Adam'}. Best is trial 4 with value: 0.75.\u001b[0m\n",
      "\u001b[32m[I 2023-04-15 14:34:48,609]\u001b[0m Trial 7 finished with value: 0.65 and parameters: {'learning_rate': 0.008822382188005361, 'num_epochs': 781, 'hidden_size': 88, 'activation': 'elu', 'optimizer': 'Adam'}. Best is trial 4 with value: 0.75.\u001b[0m\n",
      "\u001b[32m[I 2023-04-15 14:34:54,015]\u001b[0m Trial 8 finished with value: 0.75 and parameters: {'learning_rate': 0.005042072699227003, 'num_epochs': 1617, 'hidden_size': 99, 'activation': 'leaky_relu', 'optimizer': 'SGD'}. Best is trial 4 with value: 0.75.\u001b[0m\n",
      "\u001b[32m[I 2023-04-15 14:35:03,245]\u001b[0m Trial 9 finished with value: 0.65 and parameters: {'learning_rate': 0.012742976766572134, 'num_epochs': 1943, 'hidden_size': 54, 'activation': 'relu', 'optimizer': 'Adam'}. Best is trial 4 with value: 0.75.\u001b[0m\n",
      "\u001b[32m[I 2023-04-15 14:35:03,262]\u001b[0m A new study created in memory with name: no-name-f0b2a1f7-65db-4b1e-82c7-fb538cffdf93\u001b[0m\n"
     ]
    },
    {
     "name": "stdout",
     "output_type": "stream",
     "text": [
      "Best trial params: {'learning_rate': 0.0025252557563719053, 'num_epochs': 762, 'hidden_size': 64, 'activation': 'elu', 'optimizer': 'SGD'}\n",
      "Best trial accuracy: 75.00%\n",
      "Training MLP for thumb vs index\n"
     ]
    },
    {
     "name": "stderr",
     "output_type": "stream",
     "text": [
      "\u001b[32m[I 2023-04-15 14:35:05,059]\u001b[0m Trial 0 finished with value: 0.55 and parameters: {'learning_rate': 0.014330572114638309, 'num_epochs': 1109, 'hidden_size': 42, 'activation': 'leaky_relu', 'optimizer': 'SGD'}. Best is trial 0 with value: 0.55.\u001b[0m\n",
      "\u001b[32m[I 2023-04-15 14:35:06,018]\u001b[0m Trial 1 finished with value: 0.55 and parameters: {'learning_rate': 0.0016317915182070817, 'num_epochs': 122, 'hidden_size': 102, 'activation': 'relu', 'optimizer': 'Adam'}. Best is trial 0 with value: 0.55.\u001b[0m\n",
      "\u001b[32m[I 2023-04-15 14:35:09,536]\u001b[0m Trial 2 finished with value: 0.75 and parameters: {'learning_rate': 0.03399292375532299, 'num_epochs': 1021, 'hidden_size': 38, 'activation': 'leaky_relu', 'optimizer': 'Adam'}. Best is trial 2 with value: 0.75.\u001b[0m\n",
      "\u001b[32m[I 2023-04-15 14:35:14,826]\u001b[0m Trial 3 finished with value: 0.65 and parameters: {'learning_rate': 0.011169233500965476, 'num_epochs': 1589, 'hidden_size': 99, 'activation': 'leaky_relu', 'optimizer': 'SGD'}. Best is trial 2 with value: 0.75.\u001b[0m\n",
      "\u001b[32m[I 2023-04-15 14:35:17,299]\u001b[0m Trial 4 finished with value: 0.55 and parameters: {'learning_rate': 0.0006882779051404246, 'num_epochs': 869, 'hidden_size': 76, 'activation': 'elu', 'optimizer': 'SGD'}. Best is trial 2 with value: 0.75.\u001b[0m\n",
      "\u001b[32m[I 2023-04-15 14:35:21,545]\u001b[0m Trial 5 finished with value: 0.45 and parameters: {'learning_rate': 2.2887047475207596e-05, 'num_epochs': 1219, 'hidden_size': 42, 'activation': 'relu', 'optimizer': 'Adam'}. Best is trial 2 with value: 0.75.\u001b[0m\n",
      "\u001b[32m[I 2023-04-15 14:35:42,025]\u001b[0m Trial 6 finished with value: 0.6 and parameters: {'learning_rate': 0.09942507284942607, 'num_epochs': 1755, 'hidden_size': 103, 'activation': 'relu', 'optimizer': 'Adam'}. Best is trial 2 with value: 0.75.\u001b[0m\n",
      "\u001b[32m[I 2023-04-15 14:35:44,984]\u001b[0m Trial 7 finished with value: 0.5 and parameters: {'learning_rate': 0.018096506315390094, 'num_epochs': 749, 'hidden_size': 115, 'activation': 'relu', 'optimizer': 'SGD'}. Best is trial 2 with value: 0.75.\u001b[0m\n",
      "\u001b[32m[I 2023-04-15 14:36:06,374]\u001b[0m Trial 8 finished with value: 0.6 and parameters: {'learning_rate': 0.0028522795322153426, 'num_epochs': 1791, 'hidden_size': 123, 'activation': 'leaky_relu', 'optimizer': 'Adam'}. Best is trial 2 with value: 0.75.\u001b[0m\n",
      "\u001b[32m[I 2023-04-15 14:36:17,561]\u001b[0m Trial 9 finished with value: 0.6 and parameters: {'learning_rate': 0.004784821433214282, 'num_epochs': 1791, 'hidden_size': 71, 'activation': 'relu', 'optimizer': 'Adam'}. Best is trial 2 with value: 0.75.\u001b[0m\n",
      "\u001b[32m[I 2023-04-15 14:36:17,575]\u001b[0m A new study created in memory with name: no-name-39d23c2c-6593-4b57-9c4f-16f42fcff302\u001b[0m\n"
     ]
    },
    {
     "name": "stdout",
     "output_type": "stream",
     "text": [
      "Best trial params: {'learning_rate': 0.03399292375532299, 'num_epochs': 1021, 'hidden_size': 38, 'activation': 'leaky_relu', 'optimizer': 'Adam'}\n",
      "Best trial accuracy: 75.00%\n",
      "Training MLP for thumb vs little\n"
     ]
    },
    {
     "name": "stderr",
     "output_type": "stream",
     "text": [
      "\u001b[32m[I 2023-04-15 14:36:37,490]\u001b[0m Trial 0 finished with value: 0.5 and parameters: {'learning_rate': 0.02161371262901133, 'num_epochs': 1469, 'hidden_size': 117, 'activation': 'elu', 'optimizer': 'Adam'}. Best is trial 0 with value: 0.5.\u001b[0m\n",
      "\u001b[32m[I 2023-04-15 14:36:45,500]\u001b[0m Trial 1 finished with value: 0.45 and parameters: {'learning_rate': 0.004808643588168991, 'num_epochs': 1384, 'hidden_size': 69, 'activation': 'relu', 'optimizer': 'Adam'}. Best is trial 0 with value: 0.5.\u001b[0m\n",
      "\u001b[32m[I 2023-04-15 14:36:59,841]\u001b[0m Trial 2 finished with value: 0.55 and parameters: {'learning_rate': 0.05531811085275051, 'num_epochs': 1188, 'hidden_size': 128, 'activation': 'leaky_relu', 'optimizer': 'Adam'}. Best is trial 2 with value: 0.55.\u001b[0m\n",
      "\u001b[32m[I 2023-04-15 14:37:01,262]\u001b[0m Trial 3 finished with value: 0.5 and parameters: {'learning_rate': 0.0008453933568590192, 'num_epochs': 1049, 'hidden_size': 19, 'activation': 'leaky_relu', 'optimizer': 'Adam'}. Best is trial 2 with value: 0.55.\u001b[0m\n",
      "\u001b[32m[I 2023-04-15 14:37:02,537]\u001b[0m Trial 4 finished with value: 0.55 and parameters: {'learning_rate': 0.0711543761717285, 'num_epochs': 712, 'hidden_size': 43, 'activation': 'leaky_relu', 'optimizer': 'SGD'}. Best is trial 2 with value: 0.55.\u001b[0m\n",
      "\u001b[32m[I 2023-04-15 14:37:04,103]\u001b[0m Trial 5 finished with value: 0.5 and parameters: {'learning_rate': 0.0001346793824202481, 'num_epochs': 417, 'hidden_size': 110, 'activation': 'leaky_relu', 'optimizer': 'SGD'}. Best is trial 2 with value: 0.55.\u001b[0m\n",
      "\u001b[32m[I 2023-04-15 14:37:06,260]\u001b[0m Trial 6 finished with value: 0.5 and parameters: {'learning_rate': 6.471931619761836e-05, 'num_epochs': 251, 'hidden_size': 120, 'activation': 'leaky_relu', 'optimizer': 'Adam'}. Best is trial 2 with value: 0.55.\u001b[0m\n",
      "\u001b[32m[I 2023-04-15 14:37:07,622]\u001b[0m Trial 7 finished with value: 0.7 and parameters: {'learning_rate': 0.007324051834800903, 'num_epochs': 364, 'hidden_size': 31, 'activation': 'leaky_relu', 'optimizer': 'Adam'}. Best is trial 7 with value: 0.7.\u001b[0m\n",
      "\u001b[32m[I 2023-04-15 14:37:14,605]\u001b[0m Trial 8 finished with value: 0.7 and parameters: {'learning_rate': 0.05048488817688336, 'num_epochs': 1584, 'hidden_size': 36, 'activation': 'relu', 'optimizer': 'Adam'}. Best is trial 7 with value: 0.7.\u001b[0m\n",
      "\u001b[32m[I 2023-04-15 14:37:20,083]\u001b[0m Trial 9 finished with value: 0.5 and parameters: {'learning_rate': 0.00017250549161933583, 'num_epochs': 781, 'hidden_size': 91, 'activation': 'relu', 'optimizer': 'Adam'}. Best is trial 7 with value: 0.7.\u001b[0m\n",
      "\u001b[32m[I 2023-04-15 14:37:20,100]\u001b[0m A new study created in memory with name: no-name-6aaa44fb-e5d6-4109-a735-e1f53b4da2c8\u001b[0m\n"
     ]
    },
    {
     "name": "stdout",
     "output_type": "stream",
     "text": [
      "Best trial params: {'learning_rate': 0.007324051834800903, 'num_epochs': 364, 'hidden_size': 31, 'activation': 'leaky_relu', 'optimizer': 'Adam'}\n",
      "Best trial accuracy: 70.00%\n",
      "Training MLP for thumb vs middle\n"
     ]
    },
    {
     "name": "stderr",
     "output_type": "stream",
     "text": [
      "\u001b[32m[I 2023-04-15 14:37:21,542]\u001b[0m Trial 0 finished with value: 0.55 and parameters: {'learning_rate': 0.0028682422215850606, 'num_epochs': 834, 'hidden_size': 43, 'activation': 'relu', 'optimizer': 'SGD'}. Best is trial 0 with value: 0.55.\u001b[0m\n",
      "\u001b[32m[I 2023-04-15 14:37:23,158]\u001b[0m Trial 1 finished with value: 0.7 and parameters: {'learning_rate': 0.00010736442737393576, 'num_epochs': 290, 'hidden_size': 72, 'activation': 'relu', 'optimizer': 'Adam'}. Best is trial 1 with value: 0.7.\u001b[0m\n",
      "\u001b[32m[I 2023-04-15 14:37:25,721]\u001b[0m Trial 2 finished with value: 0.6 and parameters: {'learning_rate': 0.00011780704322836489, 'num_epochs': 1971, 'hidden_size': 20, 'activation': 'elu', 'optimizer': 'Adam'}. Best is trial 1 with value: 0.7.\u001b[0m\n",
      "\u001b[32m[I 2023-04-15 14:37:31,447]\u001b[0m Trial 3 finished with value: 0.7 and parameters: {'learning_rate': 0.01941158931453243, 'num_epochs': 1337, 'hidden_size': 51, 'activation': 'leaky_relu', 'optimizer': 'Adam'}. Best is trial 1 with value: 0.7.\u001b[0m\n",
      "\u001b[32m[I 2023-04-15 14:37:35,091]\u001b[0m Trial 4 finished with value: 0.6 and parameters: {'learning_rate': 0.00011460770802946861, 'num_epochs': 1675, 'hidden_size': 64, 'activation': 'elu', 'optimizer': 'SGD'}. Best is trial 1 with value: 0.7.\u001b[0m\n",
      "\u001b[32m[I 2023-04-15 14:37:37,846]\u001b[0m Trial 5 finished with value: 0.7 and parameters: {'learning_rate': 0.02553979562822189, 'num_epochs': 675, 'hidden_size': 115, 'activation': 'leaky_relu', 'optimizer': 'SGD'}. Best is trial 1 with value: 0.7.\u001b[0m\n",
      "\u001b[32m[I 2023-04-15 14:37:39,894]\u001b[0m Trial 6 finished with value: 0.6 and parameters: {'learning_rate': 0.01721704617483744, 'num_epochs': 1436, 'hidden_size': 34, 'activation': 'elu', 'optimizer': 'SGD'}. Best is trial 1 with value: 0.7.\u001b[0m\n",
      "\u001b[32m[I 2023-04-15 14:37:41,282]\u001b[0m Trial 7 finished with value: 0.65 and parameters: {'learning_rate': 0.006934664271257746, 'num_epochs': 691, 'hidden_size': 51, 'activation': 'elu', 'optimizer': 'SGD'}. Best is trial 1 with value: 0.7.\u001b[0m\n",
      "\u001b[32m[I 2023-04-15 14:37:45,349]\u001b[0m Trial 8 finished with value: 0.65 and parameters: {'learning_rate': 0.00015871438690151865, 'num_epochs': 1845, 'hidden_size': 61, 'activation': 'relu', 'optimizer': 'SGD'}. Best is trial 1 with value: 0.7.\u001b[0m\n",
      "\u001b[32m[I 2023-04-15 14:37:58,543]\u001b[0m Trial 9 finished with value: 0.65 and parameters: {'learning_rate': 0.008953971811352936, 'num_epochs': 1106, 'hidden_size': 112, 'activation': 'elu', 'optimizer': 'Adam'}. Best is trial 1 with value: 0.7.\u001b[0m\n",
      "\u001b[32m[I 2023-04-15 14:37:58,560]\u001b[0m A new study created in memory with name: no-name-26225db5-1658-42be-87a9-55aa52d67265\u001b[0m\n"
     ]
    },
    {
     "name": "stdout",
     "output_type": "stream",
     "text": [
      "Best trial params: {'learning_rate': 0.00010736442737393576, 'num_epochs': 290, 'hidden_size': 72, 'activation': 'relu', 'optimizer': 'Adam'}\n",
      "Best trial accuracy: 70.00%\n",
      "Training MLP for thumb vs ring\n"
     ]
    },
    {
     "name": "stderr",
     "output_type": "stream",
     "text": [
      "\u001b[32m[I 2023-04-15 14:38:05,625]\u001b[0m Trial 0 finished with value: 0.8 and parameters: {'learning_rate': 1.3538425121950146e-05, 'num_epochs': 1321, 'hidden_size': 70, 'activation': 'relu', 'optimizer': 'Adam'}. Best is trial 0 with value: 0.8.\u001b[0m\n",
      "\u001b[32m[I 2023-04-15 14:38:14,090]\u001b[0m Trial 1 finished with value: 0.75 and parameters: {'learning_rate': 0.01569869295000378, 'num_epochs': 897, 'hidden_size': 73, 'activation': 'relu', 'optimizer': 'Adam'}. Best is trial 0 with value: 0.8.\u001b[0m\n",
      "\u001b[32m[I 2023-04-15 14:38:17,625]\u001b[0m Trial 2 finished with value: 0.75 and parameters: {'learning_rate': 0.07524116558554925, 'num_epochs': 1366, 'hidden_size': 27, 'activation': 'elu', 'optimizer': 'Adam'}. Best is trial 0 with value: 0.8.\u001b[0m\n",
      "\u001b[32m[I 2023-04-15 14:38:30,241]\u001b[0m Trial 3 finished with value: 0.85 and parameters: {'learning_rate': 0.00016274700602542693, 'num_epochs': 1752, 'hidden_size': 101, 'activation': 'elu', 'optimizer': 'Adam'}. Best is trial 3 with value: 0.85.\u001b[0m\n",
      "\u001b[32m[I 2023-04-15 14:38:31,036]\u001b[0m Trial 4 finished with value: 0.75 and parameters: {'learning_rate': 0.046146094120149084, 'num_epochs': 458, 'hidden_size': 20, 'activation': 'leaky_relu', 'optimizer': 'Adam'}. Best is trial 3 with value: 0.85.\u001b[0m\n",
      "\u001b[32m[I 2023-04-15 14:38:32,774]\u001b[0m Trial 5 finished with value: 0.75 and parameters: {'learning_rate': 0.0004701481354198977, 'num_epochs': 766, 'hidden_size': 66, 'activation': 'leaky_relu', 'optimizer': 'SGD'}. Best is trial 3 with value: 0.85.\u001b[0m\n",
      "\u001b[32m[I 2023-04-15 14:38:39,001]\u001b[0m Trial 6 finished with value: 0.75 and parameters: {'learning_rate': 0.0002098664041546666, 'num_epochs': 1366, 'hidden_size': 58, 'activation': 'leaky_relu', 'optimizer': 'Adam'}. Best is trial 3 with value: 0.85.\u001b[0m\n",
      "\u001b[32m[I 2023-04-15 14:38:50,848]\u001b[0m Trial 7 finished with value: 0.75 and parameters: {'learning_rate': 0.015457391422763228, 'num_epochs': 1629, 'hidden_size': 73, 'activation': 'relu', 'optimizer': 'Adam'}. Best is trial 3 with value: 0.85.\u001b[0m\n",
      "\u001b[32m[I 2023-04-15 14:38:55,151]\u001b[0m Trial 8 finished with value: 0.8 and parameters: {'learning_rate': 3.448239831941905e-05, 'num_epochs': 674, 'hidden_size': 79, 'activation': 'relu', 'optimizer': 'Adam'}. Best is trial 3 with value: 0.85.\u001b[0m\n",
      "\u001b[32m[I 2023-04-15 14:38:58,580]\u001b[0m Trial 9 finished with value: 0.9 and parameters: {'learning_rate': 0.00013678107258986296, 'num_epochs': 1491, 'hidden_size': 62, 'activation': 'relu', 'optimizer': 'SGD'}. Best is trial 9 with value: 0.9.\u001b[0m\n"
     ]
    },
    {
     "name": "stdout",
     "output_type": "stream",
     "text": [
      "Best trial params: {'learning_rate': 0.00013678107258986296, 'num_epochs': 1491, 'hidden_size': 62, 'activation': 'relu', 'optimizer': 'SGD'}\n",
      "Best trial accuracy: 90.00%\n",
      "##################################################\n",
      "Mean accuracy: 70.00%\n",
      "Std accuracy: 12.04%\n",
      "##################################################\n"
     ]
    }
   ],
   "source": [
    "accuracies = []\n",
    "for finger1 in data:\n",
    "    for finger2 in data:\n",
    "        if finger1 != finger2:\n",
    "            acc = train_MLP(finger1, finger2)\n",
    "            accuracies.append(acc)\n",
    "        else:\n",
    "            break\n",
    "\n",
    "print(\"#\" * 50)\n",
    "print(f'Mean accuracy: {np.mean(accuracies) * 100:.2f}%')\n",
    "print(f'Std accuracy: {np.std(accuracies) * 100:.2f}%')\n",
    "print(\"#\" * 50)"
   ]
  },
  {
   "cell_type": "markdown",
   "metadata": {},
   "source": []
  },
  {
   "cell_type": "code",
   "execution_count": null,
   "metadata": {},
   "outputs": [],
   "source": []
  }
 ],
 "metadata": {
  "kernelspec": {
   "display_name": "Python 3",
   "language": "python",
   "name": "python3"
  },
  "language_info": {
   "codemirror_mode": {
    "name": "ipython",
    "version": 3
   },
   "file_extension": ".py",
   "mimetype": "text/x-python",
   "name": "python",
   "nbconvert_exporter": "python",
   "pygments_lexer": "ipython3",
   "version": "3.11.0"
  },
  "orig_nbformat": 4,
  "vscode": {
   "interpreter": {
    "hash": "9cefe38f745df9e33a66570f2e5a410ba71c4ae3bf929b6ad1b474ac5f904d76"
   }
  }
 },
 "nbformat": 4,
 "nbformat_minor": 2
}
