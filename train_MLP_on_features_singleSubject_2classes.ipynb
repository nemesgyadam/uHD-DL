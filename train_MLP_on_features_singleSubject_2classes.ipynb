{
 "cells": [
  {
   "attachments": {},
   "cell_type": "markdown",
   "metadata": {},
   "source": [
    "Train MLP for each finger pair!\\\n",
    "Using hyper param optimalization\n",
    "Data source: \\\n",
    "sliding windowed powers for mu and beta band\\\n",
    "Subject 1"
   ]
  },
  {
   "cell_type": "code",
   "execution_count": 1,
   "metadata": {},
   "outputs": [],
   "source": [
    "import os\n",
    "import numpy as np\n",
    "import h5py\n",
    "from scipy import stats\n",
    "import scipy.io\n",
    "import mne\n",
    "from random import shuffle\n",
    "import random\n",
    "\n",
    "mne.set_log_level('error')\n",
    "\n",
    "\n",
    "from sklearn.model_selection import train_test_split\n",
    "from sklearn.preprocessing import StandardScaler\n",
    "from sklearn.metrics import accuracy_score\n",
    "from sklearn.model_selection import KFold\n",
    "\n",
    "\n",
    "import torch\n",
    "import torch.nn as nn\n",
    "import torch.optim as optim\n",
    "\n",
    "import optuna\n",
    "\n",
    "\n",
    "from utils.load import Load\n",
    "from config.default import cfg\n",
    "\n",
    "%load_ext autoreload\n",
    "%autoreload 2\n"
   ]
  },
  {
   "cell_type": "code",
   "execution_count": 2,
   "metadata": {},
   "outputs": [],
   "source": [
    "# Set seed for NumPy\n",
    "np.random.seed(42)\n",
    "\n",
    "# Set seed for Python's built-in random number generator\n",
    "random.seed(42)\n",
    "\n",
    "# Set seed for PyTorch\n",
    "torch.manual_seed(42)\n",
    "if torch.cuda.is_available():\n",
    "    torch.cuda.manual_seed(42)\n",
    "    torch.backends.cudnn.deterministic = True\n",
    "    torch.backends.cudnn.benchmark = False"
   ]
  },
  {
   "cell_type": "code",
   "execution_count": 3,
   "metadata": {},
   "outputs": [],
   "source": [
    "subject_id = 0\n",
    "tag = 'gpt4freq_all'"
   ]
  },
  {
   "cell_type": "code",
   "execution_count": 4,
   "metadata": {},
   "outputs": [
    {
     "name": "stdout",
     "output_type": "stream",
     "text": [
      "index (50, 27540)\n",
      "little (50, 27540)\n",
      "middle (50, 27540)\n",
      "ring (50, 27540)\n",
      "thumb (50, 27540)\n"
     ]
    }
   ],
   "source": [
    "# Load the dictionary from the HDF5 file\n",
    "target_dir = 'features'\n",
    "\n",
    "file_path = os.path.join(target_dir, tag+'_'+cfg['subjects'][subject_id] + '.h5')\n",
    "\n",
    "\n",
    "data = {}\n",
    "with h5py.File(file_path, 'r') as h5file:\n",
    "    for key in h5file.keys():\n",
    "        data[key] = np.array(h5file[key])\n",
    "\n",
    "# Print the loaded data dictionary\n",
    "for key, value in data.items():\n",
    "    data[key] = np.reshape(value, (value.shape[0], -1))\n",
    "    print(key, data[key].shape)"
   ]
  },
  {
   "cell_type": "code",
   "execution_count": 5,
   "metadata": {},
   "outputs": [],
   "source": [
    "class SingleLayerMLP(nn.Module):\n",
    "    def __init__(self, input_size, hidden_size, output_size, activation):\n",
    "        super(SingleLayerMLP, self).__init__()\n",
    "        self.fc1 = nn.Linear(input_size, hidden_size)\n",
    "        self.activation = activation\n",
    "        self.fc2 = nn.Linear(hidden_size, output_size)\n",
    "\n",
    "    def forward(self, x):\n",
    "        x = self.fc1(x)\n",
    "        x = self.activation(x)\n",
    "        x = self.fc2(x)\n",
    "        return x"
   ]
  },
  {
   "cell_type": "code",
   "execution_count": 12,
   "metadata": {},
   "outputs": [],
   "source": [
    "def train(X_train, y_train, X_test, y_test, model, criterion, optimizer, num_epochs=100):\n",
    "    device_name = 'cuda' if torch.cuda.is_available() else 'cpu'\n",
    "    device = torch.device(device_name)\n",
    "   \n",
    "   \n",
    "    model.to(device)\n",
    "\n",
    "    X_train = torch.tensor(X_train, dtype=torch.float32).to(device)\n",
    "    X_test = torch.tensor(X_test, dtype=torch.float32).to(device)\n",
    "    y_train = torch.tensor(y_train, dtype=torch.long).to(device)\n",
    "    y_test = torch.tensor(y_test, dtype=torch.long).to(device)\n",
    "\n",
    "\n",
    "    for epoch in range(num_epochs):\n",
    "        optimizer.zero_grad()\n",
    "        outputs = model(X_train)\n",
    "        loss = criterion(outputs, y_train)\n",
    "        loss.backward()\n",
    "        optimizer.step()\n",
    "\n",
    "    with torch.no_grad():\n",
    "        y_pred = model(X_test)\n",
    "        y_pred = torch.argmax(y_pred, dim=1)\n",
    "\n",
    "    acc = accuracy_score(y_test.cpu(), y_pred.cpu())\n",
    "    return acc\n",
    "\n",
    "def objective(trial, X, y):\n",
    "    learning_rate = trial.suggest_float(\"learning_rate\", 1e-5, 1e-1, log=True)\n",
    "    num_epochs = trial.suggest_int(\"num_epochs\", 100, 2000)\n",
    "    hidden_size = trial.suggest_int(\"hidden_size\", 16, 128)\n",
    "    activation_name = trial.suggest_categorical(\"activation\", [\"relu\", \"elu\", \"leaky_relu\"])\n",
    "    optimizer = trial.suggest_categorical(\"optimizer\", [\"SGD\", \"Adam\"])\n",
    "\n",
    "    if activation_name == \"relu\":\n",
    "        activation = nn.ReLU()\n",
    "    elif activation_name == \"elu\":\n",
    "        activation = nn.ELU()\n",
    "    elif activation_name == \"leaky_relu\":\n",
    "        activation = nn.LeakyReLU()\n",
    "\n",
    "    if optimizer == \"SGD\":\n",
    "        optimizer = optim.SGD\n",
    "    elif optimizer == \"Adam\":\n",
    "        optimizer = optim.Adam\n",
    "\n",
    "    train_X, test_X, train_y, test_y = train_test_split(X, y, test_size=0.2, random_state=42)\n",
    "    model = SingleLayerMLP(train_X.shape[1], hidden_size, 2, activation)\n",
    "    criterion = nn.CrossEntropyLoss()\n",
    "    optimizer = optimizer(model.parameters(), lr=learning_rate)\n",
    "    return train(train_X, train_y, test_X, test_y, model, criterion, optimizer, num_epochs=num_epochs)\n",
    "\n",
    "    # kf = KFold(n_splits=10, shuffle=True, random_state=42)\n",
    "    # fold_accuracies = []\n",
    "\n",
    "    # for train_index, test_index in kf.split(X):\n",
    "    #     X_train, X_test = X[train_index], X[test_index]\n",
    "    #     y_train, y_test = y[train_index], y[test_index]\n",
    "\n",
    "    #     model = SingleLayerMLP(X_train.shape[1], hidden_size, 2, activation)\n",
    "    #     criterion = nn.CrossEntropyLoss()\n",
    "    #     optimizer = optimizer(model.parameters(), lr=learning_rate)\n",
    "    #     acc = train(X_train, y_train, X_test, y_test, model, criterion, optimizer, num_epochs=num_epochs)\n",
    "    #     fold_accuracies.append(acc)\n",
    "\n",
    "    # mean_accuracy = np.mean(fold_accuracies)\n",
    "    # return mean_accuracy\n",
    "\n",
    "def train_MLP(finger1, finger2, n_trials = 10, verbose = True):\n",
    "   \n",
    "    print(f'Training MLP for {finger1} vs {finger2}')\n",
    "\n",
    "    X = np.concatenate((data[finger1], data[finger2]), axis=0)\n",
    "    y = np.concatenate((np.ones(data[finger1].shape[0]), np.zeros(data[finger2].shape[0])), axis=0)\n",
    "\n",
    "   \n",
    "    scaler = StandardScaler()\n",
    "    X = scaler.fit_transform(X)\n",
    "\n",
    "    study = optuna.create_study(direction=\"maximize\")\n",
    "    study.optimize(lambda trial: objective(trial, X, y), n_trials=n_trials)\n",
    "\n",
    "    best_trial = study.best_trial\n",
    "\n",
    "    print(f'Best trial params: {best_trial.params}')\n",
    "    print(f'Best trial accuracy: {best_trial.value * 100:.2f}%')\n",
    "    return best_trial.value\n",
    "\n"
   ]
  },
  {
   "cell_type": "code",
   "execution_count": 13,
   "metadata": {},
   "outputs": [
    {
     "name": "stderr",
     "output_type": "stream",
     "text": [
      "\u001b[32m[I 2023-04-16 15:11:46,412]\u001b[0m A new study created in memory with name: no-name-b50e14c2-f46d-4329-89a5-32728c4ec0f0\u001b[0m\n"
     ]
    },
    {
     "name": "stdout",
     "output_type": "stream",
     "text": [
      "Training MLP for middle vs ring\n"
     ]
    },
    {
     "name": "stderr",
     "output_type": "stream",
     "text": [
      "\u001b[32m[I 2023-04-16 15:11:48,686]\u001b[0m Trial 0 finished with value: 0.85 and parameters: {'learning_rate': 0.0032452947897577667, 'num_epochs': 529, 'hidden_size': 52, 'activation': 'elu', 'optimizer': 'Adam'}. Best is trial 0 with value: 0.85.\u001b[0m\n"
     ]
    },
    {
     "name": "stdout",
     "output_type": "stream",
     "text": [
      "Best trial params: {'learning_rate': 0.0032452947897577667, 'num_epochs': 529, 'hidden_size': 52, 'activation': 'elu', 'optimizer': 'Adam'}\n",
      "Best trial accuracy: 85.00%\n"
     ]
    },
    {
     "data": {
      "text/plain": [
       "0.85"
      ]
     },
     "execution_count": 13,
     "metadata": {},
     "output_type": "execute_result"
    }
   ],
   "source": [
    "train_MLP('middle', 'ring', n_trials = 1)"
   ]
  },
  {
   "cell_type": "code",
   "execution_count": 14,
   "metadata": {},
   "outputs": [
    {
     "name": "stderr",
     "output_type": "stream",
     "text": [
      "\u001b[32m[I 2023-04-16 15:11:53,660]\u001b[0m A new study created in memory with name: no-name-aad5ed9e-cfd1-4b36-a535-296111d013b6\u001b[0m\n"
     ]
    },
    {
     "name": "stdout",
     "output_type": "stream",
     "text": [
      "Training MLP for little vs index\n"
     ]
    },
    {
     "name": "stderr",
     "output_type": "stream",
     "text": [
      "\u001b[32m[I 2023-04-16 15:11:58,341]\u001b[0m Trial 0 finished with value: 0.45 and parameters: {'learning_rate': 4.225341346784311e-05, 'num_epochs': 1674, 'hidden_size': 23, 'activation': 'elu', 'optimizer': 'SGD'}. Best is trial 0 with value: 0.45.\u001b[0m\n",
      "\u001b[32m[I 2023-04-16 15:11:59,888]\u001b[0m Trial 1 finished with value: 0.4 and parameters: {'learning_rate': 0.00015058196570379848, 'num_epochs': 1112, 'hidden_size': 76, 'activation': 'leaky_relu', 'optimizer': 'SGD'}. Best is trial 0 with value: 0.45.\u001b[0m\n",
      "\u001b[32m[I 2023-04-16 15:12:01,985]\u001b[0m Trial 2 finished with value: 0.65 and parameters: {'learning_rate': 0.0005450982301314723, 'num_epochs': 1366, 'hidden_size': 36, 'activation': 'leaky_relu', 'optimizer': 'Adam'}. Best is trial 2 with value: 0.65.\u001b[0m\n",
      "\u001b[32m[I 2023-04-16 15:12:02,936]\u001b[0m Trial 3 finished with value: 0.5 and parameters: {'learning_rate': 0.05626028212078556, 'num_epochs': 797, 'hidden_size': 85, 'activation': 'elu', 'optimizer': 'SGD'}. Best is trial 2 with value: 0.65.\u001b[0m\n",
      "\u001b[32m[I 2023-04-16 15:12:03,801]\u001b[0m Trial 4 finished with value: 0.55 and parameters: {'learning_rate': 0.005143214479885062, 'num_epochs': 397, 'hidden_size': 70, 'activation': 'elu', 'optimizer': 'Adam'}. Best is trial 2 with value: 0.65.\u001b[0m\n",
      "\u001b[32m[I 2023-04-16 15:12:05,054]\u001b[0m Trial 5 finished with value: 0.55 and parameters: {'learning_rate': 0.01738585736194144, 'num_epochs': 1308, 'hidden_size': 39, 'activation': 'elu', 'optimizer': 'SGD'}. Best is trial 2 with value: 0.65.\u001b[0m\n",
      "\u001b[32m[I 2023-04-16 15:12:07,016]\u001b[0m Trial 6 finished with value: 0.65 and parameters: {'learning_rate': 1.3180192172194108e-05, 'num_epochs': 1409, 'hidden_size': 125, 'activation': 'relu', 'optimizer': 'SGD'}. Best is trial 2 with value: 0.65.\u001b[0m\n",
      "\u001b[32m[I 2023-04-16 15:12:09,329]\u001b[0m Trial 7 finished with value: 0.55 and parameters: {'learning_rate': 0.00019305354373550882, 'num_epochs': 1890, 'hidden_size': 27, 'activation': 'leaky_relu', 'optimizer': 'Adam'}. Best is trial 2 with value: 0.65.\u001b[0m\n",
      "\u001b[32m[I 2023-04-16 15:12:10,948]\u001b[0m Trial 8 finished with value: 0.6 and parameters: {'learning_rate': 3.1367042037771355e-05, 'num_epochs': 1016, 'hidden_size': 54, 'activation': 'relu', 'optimizer': 'Adam'}. Best is trial 2 with value: 0.65.\u001b[0m\n",
      "\u001b[32m[I 2023-04-16 15:12:13,220]\u001b[0m Trial 9 finished with value: 0.5 and parameters: {'learning_rate': 0.04747149834212482, 'num_epochs': 1879, 'hidden_size': 91, 'activation': 'relu', 'optimizer': 'SGD'}. Best is trial 2 with value: 0.65.\u001b[0m\n",
      "\u001b[32m[I 2023-04-16 15:12:13,631]\u001b[0m Trial 10 finished with value: 0.55 and parameters: {'learning_rate': 0.001180803839117502, 'num_epochs': 252, 'hidden_size': 49, 'activation': 'leaky_relu', 'optimizer': 'Adam'}. Best is trial 2 with value: 0.65.\u001b[0m\n",
      "\u001b[32m[I 2023-04-16 15:12:18,175]\u001b[0m Trial 11 finished with value: 0.55 and parameters: {'learning_rate': 1.8460468285896665e-05, 'num_epochs': 1524, 'hidden_size': 125, 'activation': 'relu', 'optimizer': 'Adam'}. Best is trial 2 with value: 0.65.\u001b[0m\n",
      "\u001b[32m[I 2023-04-16 15:12:20,141]\u001b[0m Trial 12 finished with value: 0.4 and parameters: {'learning_rate': 0.000567916956693388, 'num_epochs': 1410, 'hidden_size': 125, 'activation': 'leaky_relu', 'optimizer': 'SGD'}. Best is trial 2 with value: 0.65.\u001b[0m\n",
      "\u001b[32m[I 2023-04-16 15:12:22,933]\u001b[0m Trial 13 finished with value: 0.5 and parameters: {'learning_rate': 1.019172946444722e-05, 'num_epochs': 803, 'hidden_size': 101, 'activation': 'relu', 'optimizer': 'Adam'}. Best is trial 2 with value: 0.65.\u001b[0m\n",
      "\u001b[32m[I 2023-04-16 15:12:26,347]\u001b[0m Trial 14 finished with value: 0.6 and parameters: {'learning_rate': 7.51041761456744e-05, 'num_epochs': 1178, 'hidden_size': 107, 'activation': 'leaky_relu', 'optimizer': 'Adam'}. Best is trial 2 with value: 0.65.\u001b[0m\n",
      "\u001b[32m[I 2023-04-16 15:12:29,182]\u001b[0m Trial 15 finished with value: 0.6 and parameters: {'learning_rate': 0.0013448156988845653, 'num_epochs': 1631, 'hidden_size': 63, 'activation': 'relu', 'optimizer': 'SGD'}. Best is trial 2 with value: 0.65.\u001b[0m\n",
      "\u001b[32m[I 2023-04-16 15:12:30,808]\u001b[0m Trial 16 finished with value: 0.45 and parameters: {'learning_rate': 1.1241430723957965e-05, 'num_epochs': 935, 'hidden_size': 17, 'activation': 'relu', 'optimizer': 'SGD'}. Best is trial 2 with value: 0.65.\u001b[0m\n",
      "\u001b[32m[I 2023-04-16 15:12:32,030]\u001b[0m Trial 17 finished with value: 0.55 and parameters: {'learning_rate': 0.0003216848028034943, 'num_epochs': 571, 'hidden_size': 40, 'activation': 'leaky_relu', 'optimizer': 'Adam'}. Best is trial 2 with value: 0.65.\u001b[0m\n",
      "\u001b[32m[I 2023-04-16 15:12:35,783]\u001b[0m Trial 18 finished with value: 0.5 and parameters: {'learning_rate': 7.912546959888509e-05, 'num_epochs': 1341, 'hidden_size': 112, 'activation': 'leaky_relu', 'optimizer': 'Adam'}. Best is trial 2 with value: 0.65.\u001b[0m\n",
      "\u001b[32m[I 2023-04-16 15:12:38,499]\u001b[0m Trial 19 finished with value: 0.55 and parameters: {'learning_rate': 0.003178495741679371, 'num_epochs': 1738, 'hidden_size': 36, 'activation': 'relu', 'optimizer': 'SGD'}. Best is trial 2 with value: 0.65.\u001b[0m\n",
      "\u001b[32m[I 2023-04-16 15:12:41,628]\u001b[0m Trial 20 finished with value: 0.55 and parameters: {'learning_rate': 0.0003967081359662456, 'num_epochs': 1459, 'hidden_size': 59, 'activation': 'leaky_relu', 'optimizer': 'Adam'}. Best is trial 2 with value: 0.65.\u001b[0m\n",
      "\u001b[32m[I 2023-04-16 15:12:43,991]\u001b[0m Trial 21 finished with value: 0.45 and parameters: {'learning_rate': 3.642739173837153e-05, 'num_epochs': 988, 'hidden_size': 48, 'activation': 'relu', 'optimizer': 'Adam'}. Best is trial 2 with value: 0.65.\u001b[0m\n",
      "\u001b[32m[I 2023-04-16 15:12:46,090]\u001b[0m Trial 22 finished with value: 0.55 and parameters: {'learning_rate': 3.982726461714889e-05, 'num_epochs': 1228, 'hidden_size': 53, 'activation': 'relu', 'optimizer': 'Adam'}. Best is trial 2 with value: 0.65.\u001b[0m\n",
      "\u001b[32m[I 2023-04-16 15:12:47,743]\u001b[0m Trial 23 finished with value: 0.45 and parameters: {'learning_rate': 2.070642067289074e-05, 'num_epochs': 681, 'hidden_size': 76, 'activation': 'relu', 'optimizer': 'Adam'}. Best is trial 2 with value: 0.65.\u001b[0m\n",
      "\u001b[32m[I 2023-04-16 15:12:49,857]\u001b[0m Trial 24 finished with value: 0.65 and parameters: {'learning_rate': 0.00010765844481002732, 'num_epochs': 1019, 'hidden_size': 30, 'activation': 'relu', 'optimizer': 'Adam'}. Best is trial 2 with value: 0.65.\u001b[0m\n",
      "\u001b[32m[I 2023-04-16 15:12:54,208]\u001b[0m Trial 25 finished with value: 0.5 and parameters: {'learning_rate': 0.00011679493690620925, 'num_epochs': 1553, 'hidden_size': 34, 'activation': 'relu', 'optimizer': 'Adam'}. Best is trial 2 with value: 0.65.\u001b[0m\n",
      "\u001b[32m[I 2023-04-16 15:12:56,975]\u001b[0m Trial 26 finished with value: 0.4 and parameters: {'learning_rate': 0.000281420120618119, 'num_epochs': 1230, 'hidden_size': 24, 'activation': 'relu', 'optimizer': 'SGD'}. Best is trial 2 with value: 0.65.\u001b[0m\n",
      "\u001b[32m[I 2023-04-16 15:12:59,143]\u001b[0m Trial 27 finished with value: 0.55 and parameters: {'learning_rate': 9.855539128877987e-05, 'num_epochs': 852, 'hidden_size': 90, 'activation': 'leaky_relu', 'optimizer': 'Adam'}. Best is trial 2 with value: 0.65.\u001b[0m\n",
      "\u001b[32m[I 2023-04-16 15:13:00,815]\u001b[0m Trial 28 finished with value: 0.6 and parameters: {'learning_rate': 0.0006944471104198, 'num_epochs': 1100, 'hidden_size': 17, 'activation': 'elu', 'optimizer': 'SGD'}. Best is trial 2 with value: 0.65.\u001b[0m\n",
      "\u001b[32m[I 2023-04-16 15:13:03,230]\u001b[0m Trial 29 finished with value: 0.5 and parameters: {'learning_rate': 0.0002162807351063282, 'num_epochs': 1677, 'hidden_size': 26, 'activation': 'relu', 'optimizer': 'SGD'}. Best is trial 2 with value: 0.65.\u001b[0m\n",
      "\u001b[32m[I 2023-04-16 15:13:07,231]\u001b[0m Trial 30 finished with value: 0.45 and parameters: {'learning_rate': 6.775248312365893e-05, 'num_epochs': 1769, 'hidden_size': 66, 'activation': 'elu', 'optimizer': 'Adam'}. Best is trial 2 with value: 0.65.\u001b[0m\n",
      "\u001b[32m[I 2023-04-16 15:13:09,246]\u001b[0m Trial 31 finished with value: 0.45 and parameters: {'learning_rate': 2.627200513292117e-05, 'num_epochs': 1050, 'hidden_size': 49, 'activation': 'relu', 'optimizer': 'Adam'}. Best is trial 2 with value: 0.65.\u001b[0m\n",
      "\u001b[32m[I 2023-04-16 15:13:12,073]\u001b[0m Trial 32 finished with value: 0.45 and parameters: {'learning_rate': 5.16603796520611e-05, 'num_epochs': 1315, 'hidden_size': 32, 'activation': 'relu', 'optimizer': 'Adam'}. Best is trial 2 with value: 0.65.\u001b[0m\n",
      "\u001b[32m[I 2023-04-16 15:13:13,738]\u001b[0m Trial 33 finished with value: 0.45 and parameters: {'learning_rate': 3.726859503258776e-05, 'num_epochs': 954, 'hidden_size': 53, 'activation': 'relu', 'optimizer': 'Adam'}. Best is trial 2 with value: 0.65.\u001b[0m\n",
      "\u001b[32m[I 2023-04-16 15:13:16,374]\u001b[0m Trial 34 finished with value: 0.55 and parameters: {'learning_rate': 0.00014868999001283717, 'num_epochs': 1145, 'hidden_size': 80, 'activation': 'relu', 'optimizer': 'Adam'}. Best is trial 2 with value: 0.65.\u001b[0m\n",
      "\u001b[32m[I 2023-04-16 15:13:17,442]\u001b[0m Trial 35 finished with value: 0.6 and parameters: {'learning_rate': 1.7823278468192135e-05, 'num_epochs': 658, 'hidden_size': 43, 'activation': 'elu', 'optimizer': 'SGD'}. Best is trial 2 with value: 0.65.\u001b[0m\n",
      "\u001b[32m[I 2023-04-16 15:13:20,004]\u001b[0m Trial 36 finished with value: 0.55 and parameters: {'learning_rate': 0.00014109870900094285, 'num_epochs': 1417, 'hidden_size': 57, 'activation': 'leaky_relu', 'optimizer': 'Adam'}. Best is trial 2 with value: 0.65.\u001b[0m\n",
      "\u001b[32m[I 2023-04-16 15:13:21,549]\u001b[0m Trial 37 finished with value: 0.65 and parameters: {'learning_rate': 5.563771162321599e-05, 'num_epochs': 889, 'hidden_size': 44, 'activation': 'relu', 'optimizer': 'SGD'}. Best is trial 2 with value: 0.65.\u001b[0m\n",
      "\u001b[32m[I 2023-04-16 15:13:23,142]\u001b[0m Trial 38 finished with value: 0.7 and parameters: {'learning_rate': 5.145052546281107e-05, 'num_epochs': 464, 'hidden_size': 32, 'activation': 'elu', 'optimizer': 'SGD'}. Best is trial 38 with value: 0.7.\u001b[0m\n",
      "\u001b[32m[I 2023-04-16 15:13:23,567]\u001b[0m Trial 39 finished with value: 0.5 and parameters: {'learning_rate': 0.00010810365242381521, 'num_epochs': 114, 'hidden_size': 34, 'activation': 'elu', 'optimizer': 'SGD'}. Best is trial 38 with value: 0.7.\u001b[0m\n",
      "\u001b[32m[I 2023-04-16 15:13:25,490]\u001b[0m Trial 40 finished with value: 0.5 and parameters: {'learning_rate': 0.00020225565043507796, 'num_epochs': 336, 'hidden_size': 28, 'activation': 'elu', 'optimizer': 'SGD'}. Best is trial 38 with value: 0.7.\u001b[0m\n",
      "\u001b[32m[I 2023-04-16 15:13:27,299]\u001b[0m Trial 41 finished with value: 0.5 and parameters: {'learning_rate': 5.749140368425007e-05, 'num_epochs': 528, 'hidden_size': 42, 'activation': 'elu', 'optimizer': 'SGD'}. Best is trial 38 with value: 0.7.\u001b[0m\n",
      "\u001b[32m[I 2023-04-16 15:13:28,584]\u001b[0m Trial 42 finished with value: 0.6 and parameters: {'learning_rate': 5.081608598126827e-05, 'num_epochs': 452, 'hidden_size': 29, 'activation': 'elu', 'optimizer': 'SGD'}. Best is trial 38 with value: 0.7.\u001b[0m\n",
      "\u001b[32m[I 2023-04-16 15:13:31,478]\u001b[0m Trial 43 finished with value: 0.6 and parameters: {'learning_rate': 1.585360177940413e-05, 'num_epochs': 1253, 'hidden_size': 18, 'activation': 'elu', 'optimizer': 'SGD'}. Best is trial 38 with value: 0.7.\u001b[0m\n",
      "\u001b[32m[I 2023-04-16 15:13:33,240]\u001b[0m Trial 44 finished with value: 0.4 and parameters: {'learning_rate': 2.992901816093074e-05, 'num_epochs': 706, 'hidden_size': 22, 'activation': 'leaky_relu', 'optimizer': 'SGD'}. Best is trial 38 with value: 0.7.\u001b[0m\n",
      "\u001b[32m[I 2023-04-16 15:13:35,941]\u001b[0m Trial 45 finished with value: 0.6 and parameters: {'learning_rate': 2.649181381989035e-05, 'num_epochs': 887, 'hidden_size': 44, 'activation': 'relu', 'optimizer': 'SGD'}. Best is trial 38 with value: 0.7.\u001b[0m\n",
      "\u001b[32m[I 2023-04-16 15:13:39,512]\u001b[0m Trial 46 finished with value: 0.55 and parameters: {'learning_rate': 7.88798028224135e-05, 'num_epochs': 738, 'hidden_size': 119, 'activation': 'relu', 'optimizer': 'SGD'}. Best is trial 38 with value: 0.7.\u001b[0m\n",
      "\u001b[32m[I 2023-04-16 15:13:43,308]\u001b[0m Trial 47 finished with value: 0.45 and parameters: {'learning_rate': 0.0001675329626633943, 'num_epochs': 1558, 'hidden_size': 38, 'activation': 'leaky_relu', 'optimizer': 'SGD'}. Best is trial 38 with value: 0.7.\u001b[0m\n",
      "\u001b[32m[I 2023-04-16 15:13:43,564]\u001b[0m Trial 48 finished with value: 0.5 and parameters: {'learning_rate': 5.5551014999649184e-05, 'num_epochs': 142, 'hidden_size': 22, 'activation': 'relu', 'optimizer': 'SGD'}. Best is trial 38 with value: 0.7.\u001b[0m\n",
      "\u001b[32m[I 2023-04-16 15:13:45,288]\u001b[0m Trial 49 finished with value: 0.55 and parameters: {'learning_rate': 1.300104346098725e-05, 'num_epochs': 1375, 'hidden_size': 69, 'activation': 'elu', 'optimizer': 'SGD'}. Best is trial 38 with value: 0.7.\u001b[0m\n",
      "\u001b[32m[I 2023-04-16 15:13:45,692]\u001b[0m Trial 50 finished with value: 0.4 and parameters: {'learning_rate': 1.0518472536666053e-05, 'num_epochs': 281, 'hidden_size': 31, 'activation': 'leaky_relu', 'optimizer': 'SGD'}. Best is trial 38 with value: 0.7.\u001b[0m\n",
      "\u001b[32m[I 2023-04-16 15:13:48,616]\u001b[0m Trial 51 finished with value: 0.5 and parameters: {'learning_rate': 2.3033638313757124e-05, 'num_epochs': 1066, 'hidden_size': 101, 'activation': 'relu', 'optimizer': 'Adam'}. Best is trial 38 with value: 0.7.\u001b[0m\n",
      "\u001b[32m[I 2023-04-16 15:13:51,192]\u001b[0m Trial 52 finished with value: 0.55 and parameters: {'learning_rate': 3.90928639805118e-05, 'num_epochs': 1155, 'hidden_size': 45, 'activation': 'relu', 'optimizer': 'Adam'}. Best is trial 38 with value: 0.7.\u001b[0m\n",
      "\u001b[32m[I 2023-04-16 15:13:57,689]\u001b[0m Trial 53 finished with value: 0.55 and parameters: {'learning_rate': 1.4942583012075971e-05, 'num_epochs': 1999, 'hidden_size': 37, 'activation': 'relu', 'optimizer': 'Adam'}. Best is trial 38 with value: 0.7.\u001b[0m\n",
      "\u001b[32m[I 2023-04-16 15:13:59,897]\u001b[0m Trial 54 finished with value: 0.5 and parameters: {'learning_rate': 9.915199485156408e-05, 'num_epochs': 1023, 'hidden_size': 57, 'activation': 'relu', 'optimizer': 'Adam'}. Best is trial 38 with value: 0.7.\u001b[0m\n",
      "\u001b[32m[I 2023-04-16 15:14:03,902]\u001b[0m Trial 55 finished with value: 0.65 and parameters: {'learning_rate': 2.9065063602821347e-05, 'num_epochs': 817, 'hidden_size': 128, 'activation': 'relu', 'optimizer': 'Adam'}. Best is trial 38 with value: 0.7.\u001b[0m\n",
      "\u001b[32m[I 2023-04-16 15:14:07,277]\u001b[0m Trial 56 finished with value: 0.55 and parameters: {'learning_rate': 2.9627871562019414e-05, 'num_epochs': 932, 'hidden_size': 122, 'activation': 'relu', 'optimizer': 'Adam'}. Best is trial 38 with value: 0.7.\u001b[0m\n",
      "\u001b[32m[I 2023-04-16 15:14:09,094]\u001b[0m Trial 57 finished with value: 0.45 and parameters: {'learning_rate': 4.647827292754252e-05, 'num_epochs': 598, 'hidden_size': 128, 'activation': 'relu', 'optimizer': 'SGD'}. Best is trial 38 with value: 0.7.\u001b[0m\n",
      "\u001b[32m[I 2023-04-16 15:14:11,790]\u001b[0m Trial 58 finished with value: 0.5 and parameters: {'learning_rate': 2.033384290237203e-05, 'num_epochs': 766, 'hidden_size': 109, 'activation': 'leaky_relu', 'optimizer': 'Adam'}. Best is trial 38 with value: 0.7.\u001b[0m\n",
      "\u001b[32m[I 2023-04-16 15:14:13,934]\u001b[0m Trial 59 finished with value: 0.6 and parameters: {'learning_rate': 7.789640498893838e-05, 'num_epochs': 852, 'hidden_size': 121, 'activation': 'relu', 'optimizer': 'SGD'}. Best is trial 38 with value: 0.7.\u001b[0m\n",
      "\u001b[32m[I 2023-04-16 15:14:15,532]\u001b[0m Trial 60 finished with value: 0.55 and parameters: {'learning_rate': 0.0005085896064886237, 'num_epochs': 449, 'hidden_size': 117, 'activation': 'relu', 'optimizer': 'Adam'}. Best is trial 38 with value: 0.7.\u001b[0m\n",
      "\u001b[32m[I 2023-04-16 15:14:20,558]\u001b[0m Trial 61 finished with value: 0.5 and parameters: {'learning_rate': 3.33398469815003e-05, 'num_epochs': 1472, 'hidden_size': 115, 'activation': 'relu', 'optimizer': 'Adam'}. Best is trial 38 with value: 0.7.\u001b[0m\n"
     ]
    }
   ],
   "source": [
    "accuracies = []\n",
    "for finger1 in data:\n",
    "    for finger2 in data:\n",
    "        if finger1 != finger2:\n",
    "            acc = train_MLP(finger1, finger2, n_trials = 100)\n",
    "            accuracies.append(acc)\n",
    "        else:\n",
    "            break\n",
    "\n",
    "print(\"#\" * 50)\n",
    "print(f'Mean accuracy: {np.mean(accuracies) * 100:.2f}%')\n",
    "print(f'Std accuracy: {np.std(accuracies) * 100:.2f}%')\n",
    "print(\"#\" * 50)"
   ]
  },
  {
   "cell_type": "code",
   "execution_count": null,
   "metadata": {},
   "outputs": [],
   "source": [
    "##################################################\n",
    "# Mean accuracy: 77.50%\n",
    "# Std accuracy: 11.88%\n",
    "##################################################"
   ]
  },
  {
   "cell_type": "markdown",
   "metadata": {},
   "source": []
  }
 ],
 "metadata": {
  "kernelspec": {
   "display_name": "Python 3",
   "language": "python",
   "name": "python3"
  },
  "language_info": {
   "codemirror_mode": {
    "name": "ipython",
    "version": 3
   },
   "file_extension": ".py",
   "mimetype": "text/x-python",
   "name": "python",
   "nbconvert_exporter": "python",
   "pygments_lexer": "ipython3",
   "version": "3.11.0"
  },
  "orig_nbformat": 4,
  "vscode": {
   "interpreter": {
    "hash": "9cefe38f745df9e33a66570f2e5a410ba71c4ae3bf929b6ad1b474ac5f904d76"
   }
  }
 },
 "nbformat": 4,
 "nbformat_minor": 2
}
