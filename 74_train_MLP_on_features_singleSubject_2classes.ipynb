{
 "cells": [
  {
   "attachments": {},
   "cell_type": "markdown",
   "metadata": {},
   "source": [
    "Train MLP for each finger pair!\\\n",
    "Using hyper param optimalization\n",
    "Data source: \\\n",
    "sliding windowed powers for mu and beta band\\\n",
    "Subject 1"
   ]
  },
  {
   "cell_type": "code",
   "execution_count": 68,
   "metadata": {},
   "outputs": [
    {
     "name": "stdout",
     "output_type": "stream",
     "text": [
      "The autoreload extension is already loaded. To reload it, use:\n",
      "  %reload_ext autoreload\n"
     ]
    }
   ],
   "source": [
    "import os\n",
    "import numpy as np\n",
    "import h5py\n",
    "from scipy import stats\n",
    "import scipy.io\n",
    "import mne\n",
    "from random import shuffle\n",
    "import random\n",
    "\n",
    "mne.set_log_level('error')\n",
    "\n",
    "\n",
    "from sklearn.model_selection import train_test_split\n",
    "from sklearn.preprocessing import StandardScaler\n",
    "from sklearn.metrics import accuracy_score\n",
    "from sklearn.model_selection import KFold\n",
    "\n",
    "\n",
    "import torch\n",
    "import torch.nn as nn\n",
    "import torch.optim as optim\n",
    "\n",
    "import optuna\n",
    "\n",
    "\n",
    "from utils.load import Load\n",
    "from config.default import cfg\n",
    "\n",
    "%load_ext autoreload\n",
    "%autoreload 2\n"
   ]
  },
  {
   "cell_type": "code",
   "execution_count": 69,
   "metadata": {},
   "outputs": [],
   "source": [
    "# Set seed for NumPy\n",
    "np.random.seed(42)\n",
    "\n",
    "# Set seed for Python's built-in random number generator\n",
    "random.seed(42)\n",
    "\n",
    "# Set seed for PyTorch\n",
    "torch.manual_seed(42)\n",
    "if torch.cuda.is_available():\n",
    "    torch.cuda.manual_seed(42)\n",
    "    torch.backends.cudnn.deterministic = True\n",
    "    torch.backends.cudnn.benchmark = False"
   ]
  },
  {
   "cell_type": "code",
   "execution_count": 70,
   "metadata": {},
   "outputs": [],
   "source": [
    "subject_id = 0\n",
    "tag = 'reproduced'"
   ]
  },
  {
   "cell_type": "code",
   "execution_count": 73,
   "metadata": {},
   "outputs": [
    {
     "name": "stdout",
     "output_type": "stream",
     "text": [
      "index (50, 7956)\n",
      "little (50, 7956)\n",
      "middle (50, 7956)\n",
      "ring (50, 7956)\n",
      "thumb (50, 7956)\n"
     ]
    }
   ],
   "source": [
    "# Load the dictionary from the HDF5 file\n",
    "target_dir = 'features'\n",
    "\n",
    "file_path = os.path.join(target_dir, tag+'_'+cfg['subjects'][subject_id] + '.h5')\n",
    "\n",
    "\n",
    "data = {}\n",
    "with h5py.File(file_path, 'r') as h5file:\n",
    "    for key in h5file.keys():\n",
    "        data[key] = np.array(h5file[key])\n",
    "\n",
    "# Print the loaded data dictionary\n",
    "for key, value in data.items():\n",
    "    data[key] = np.reshape(value, (value.shape[0], -1))\n",
    "    print(key, data[key].shape)"
   ]
  },
  {
   "cell_type": "code",
   "execution_count": 74,
   "metadata": {},
   "outputs": [],
   "source": [
    "class SingleLayerMLP(nn.Module):\n",
    "    def __init__(self, input_size, hidden_size, output_size, activation):\n",
    "        super(SingleLayerMLP, self).__init__()\n",
    "        self.fc1 = nn.Linear(input_size, hidden_size)\n",
    "        self.activation = activation\n",
    "        self.fc2 = nn.Linear(hidden_size, output_size)\n",
    "\n",
    "    def forward(self, x):\n",
    "        x = self.fc1(x)\n",
    "        x = self.activation(x)\n",
    "        x = self.fc2(x)\n",
    "        return x"
   ]
  },
  {
   "cell_type": "code",
   "execution_count": 80,
   "metadata": {},
   "outputs": [],
   "source": [
    "def train(X_train, y_train, X_test, y_test, model, criterion, optimizer, num_epochs=100):\n",
    "    X_train = torch.tensor(X_train, dtype=torch.float32)\n",
    "    X_test = torch.tensor(X_test, dtype=torch.float32)\n",
    "    y_train = torch.tensor(y_train, dtype=torch.long)\n",
    "    y_test = torch.tensor(y_test, dtype=torch.long)\n",
    "\n",
    "\n",
    "    for epoch in range(num_epochs):\n",
    "        optimizer.zero_grad()\n",
    "        outputs = model(X_train)\n",
    "        loss = criterion(outputs, y_train)\n",
    "        loss.backward()\n",
    "        optimizer.step()\n",
    "\n",
    "    with torch.no_grad():\n",
    "        y_pred = model(X_test)\n",
    "        y_pred = torch.argmax(y_pred, dim=1)\n",
    "\n",
    "    acc = accuracy_score(y_test, y_pred)\n",
    "    return acc\n",
    "\n",
    "def objective(trial, X, y):\n",
    "    learning_rate = trial.suggest_float(\"learning_rate\", 1e-5, 1e-1, log=True)\n",
    "    num_epochs = trial.suggest_int(\"num_epochs\", 100, 2000)\n",
    "    hidden_size = trial.suggest_int(\"hidden_size\", 16, 128)\n",
    "    activation_name = trial.suggest_categorical(\"activation\", [\"relu\", \"elu\", \"leaky_relu\"])\n",
    "    optimizer = trial.suggest_categorical(\"optimizer\", [\"SGD\", \"Adam\"])\n",
    "\n",
    "    if activation_name == \"relu\":\n",
    "        activation = nn.ReLU()\n",
    "    elif activation_name == \"elu\":\n",
    "        activation = nn.ELU()\n",
    "    elif activation_name == \"leaky_relu\":\n",
    "        activation = nn.LeakyReLU()\n",
    "\n",
    "    if optimizer == \"SGD\":\n",
    "        optimizer = optim.SGD\n",
    "    elif optimizer == \"Adam\":\n",
    "        optimizer = optim.Adam\n",
    "\n",
    "    train_X, test_X, train_y, test_y = train_test_split(X, y, test_size=0.2, random_state=42)\n",
    "    model = SingleLayerMLP(train_X.shape[1], hidden_size, 2, activation)\n",
    "    criterion = nn.CrossEntropyLoss()\n",
    "    optimizer = optimizer(model.parameters(), lr=learning_rate)\n",
    "    return train(train_X, train_y, test_X, test_y, model, criterion, optimizer, num_epochs=num_epochs)\n",
    "\n",
    "    # kf = KFold(n_splits=10, shuffle=True, random_state=42)\n",
    "    # fold_accuracies = []\n",
    "\n",
    "    # for train_index, test_index in kf.split(X):\n",
    "    #     X_train, X_test = X[train_index], X[test_index]\n",
    "    #     y_train, y_test = y[train_index], y[test_index]\n",
    "\n",
    "    #     model = SingleLayerMLP(X_train.shape[1], hidden_size, 2, activation)\n",
    "    #     criterion = nn.CrossEntropyLoss()\n",
    "    #     optimizer = optimizer(model.parameters(), lr=learning_rate)\n",
    "    #     acc = train(X_train, y_train, X_test, y_test, model, criterion, optimizer, num_epochs=num_epochs)\n",
    "    #     fold_accuracies.append(acc)\n",
    "\n",
    "    # mean_accuracy = np.mean(fold_accuracies)\n",
    "    # return mean_accuracy\n",
    "\n",
    "def train_MLP(finger1, finger2, verbose = True):\n",
    "   \n",
    "    print(f'Training MLP for {finger1} vs {finger2}')\n",
    "\n",
    "    X = np.concatenate((data[finger1], data[finger2]), axis=0)\n",
    "    y = np.concatenate((np.ones(data[finger1].shape[0]), np.zeros(data[finger2].shape[0])), axis=0)\n",
    "\n",
    "   \n",
    "    scaler = StandardScaler()\n",
    "    X = scaler.fit_transform(X)\n",
    "\n",
    "    study = optuna.create_study(direction=\"maximize\")\n",
    "    study.optimize(lambda trial: objective(trial, X, y), n_trials=10)\n",
    "\n",
    "    best_trial = study.best_trial\n",
    "\n",
    "    print(f'Best trial params: {best_trial.params}')\n",
    "    print(f'Best trial accuracy: {best_trial.value * 100:.2f}%')\n",
    "    return best_trial.value\n",
    "\n"
   ]
  },
  {
   "cell_type": "code",
   "execution_count": 79,
   "metadata": {},
   "outputs": [
    {
     "name": "stdout",
     "output_type": "stream",
     "text": [
      "Training MLP for middle vs ring\n",
      "Best trial params: {'learning_rate': 0.0001922195956600147, 'num_epochs': 1609, 'hidden_size': 89, 'activation': 'leaky_relu', 'optimizer': 'SGD'}\n",
      "Best trial accuracy: 80.00%\n"
     ]
    }
   ],
   "source": [
    "train_MLP('middle', 'ring', verbose = True)"
   ]
  },
  {
   "cell_type": "code",
   "execution_count": 82,
   "metadata": {},
   "outputs": [
    {
     "name": "stdout",
     "output_type": "stream",
     "text": [
      "Training MLP for little vs index\n",
      "Best trial params: {'learning_rate': 0.010119469219707525, 'num_epochs': 1480, 'hidden_size': 77, 'activation': 'leaky_relu', 'optimizer': 'Adam'}\n",
      "Best trial accuracy: 50.00%\n",
      "Training MLP for middle vs index\n",
      "Best trial params: {'learning_rate': 0.027986066940930504, 'num_epochs': 1288, 'hidden_size': 107, 'activation': 'relu', 'optimizer': 'SGD'}\n",
      "Best trial accuracy: 70.00%\n",
      "Training MLP for middle vs little\n",
      "Best trial params: {'learning_rate': 0.0010785631615823801, 'num_epochs': 490, 'hidden_size': 101, 'activation': 'relu', 'optimizer': 'Adam'}\n",
      "Best trial accuracy: 65.00%\n",
      "Training MLP for ring vs index\n",
      "Best trial params: {'learning_rate': 0.00014403413598244348, 'num_epochs': 1671, 'hidden_size': 87, 'activation': 'leaky_relu', 'optimizer': 'SGD'}\n",
      "Best trial accuracy: 75.00%\n",
      "Training MLP for ring vs little\n",
      "Best trial params: {'learning_rate': 0.002941199211226293, 'num_epochs': 425, 'hidden_size': 98, 'activation': 'relu', 'optimizer': 'SGD'}\n",
      "Best trial accuracy: 90.00%\n",
      "Training MLP for ring vs middle\n",
      "Best trial params: {'learning_rate': 0.0005159980692478041, 'num_epochs': 1946, 'hidden_size': 93, 'activation': 'elu', 'optimizer': 'SGD'}\n",
      "Best trial accuracy: 80.00%\n",
      "Training MLP for thumb vs index\n",
      "Best trial params: {'learning_rate': 0.0014867402701432566, 'num_epochs': 1957, 'hidden_size': 115, 'activation': 'elu', 'optimizer': 'SGD'}\n",
      "Best trial accuracy: 80.00%\n",
      "Training MLP for thumb vs little\n",
      "Best trial params: {'learning_rate': 0.002183484898883115, 'num_epochs': 1859, 'hidden_size': 113, 'activation': 'leaky_relu', 'optimizer': 'Adam'}\n",
      "Best trial accuracy: 70.00%\n",
      "Training MLP for thumb vs middle\n",
      "Best trial params: {'learning_rate': 8.80223684381476e-05, 'num_epochs': 172, 'hidden_size': 93, 'activation': 'leaky_relu', 'optimizer': 'Adam'}\n",
      "Best trial accuracy: 70.00%\n",
      "Training MLP for thumb vs ring\n",
      "Best trial params: {'learning_rate': 0.005323816924235245, 'num_epochs': 701, 'hidden_size': 103, 'activation': 'leaky_relu', 'optimizer': 'SGD'}\n",
      "Best trial accuracy: 90.00%\n",
      "##################################################\n",
      "Mean accuracy: 74.00%\n",
      "Std accuracy: 11.36%\n",
      "##################################################\n"
     ]
    }
   ],
   "source": [
    "accuracies = []\n",
    "for finger1 in data:\n",
    "    for finger2 in data:\n",
    "        if finger1 != finger2:\n",
    "            acc = train_MLP(finger1, finger2)\n",
    "            accuracies.append(acc)\n",
    "        else:\n",
    "            break\n",
    "\n",
    "print(\"#\" * 50)\n",
    "print(f'Mean accuracy: {np.mean(accuracies) * 100:.2f}%')\n",
    "print(f'Std accuracy: {np.std(accuracies) * 100:.2f}%')\n",
    "print(\"#\" * 50)"
   ]
  },
  {
   "cell_type": "markdown",
   "metadata": {},
   "source": []
  },
  {
   "cell_type": "code",
   "execution_count": null,
   "metadata": {},
   "outputs": [],
   "source": []
  }
 ],
 "metadata": {
  "kernelspec": {
   "display_name": "Python 3",
   "language": "python",
   "name": "python3"
  },
  "language_info": {
   "codemirror_mode": {
    "name": "ipython",
    "version": 3
   },
   "file_extension": ".py",
   "mimetype": "text/x-python",
   "name": "python",
   "nbconvert_exporter": "python",
   "pygments_lexer": "ipython3",
   "version": "3.11.0"
  },
  "orig_nbformat": 4,
  "vscode": {
   "interpreter": {
    "hash": "9cefe38f745df9e33a66570f2e5a410ba71c4ae3bf929b6ad1b474ac5f904d76"
   }
  }
 },
 "nbformat": 4,
 "nbformat_minor": 2
}
