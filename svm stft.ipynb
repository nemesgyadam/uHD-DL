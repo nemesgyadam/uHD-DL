{
 "cells": [
  {
   "cell_type": "code",
   "execution_count": 1,
   "metadata": {},
   "outputs": [],
   "source": [
    "import scipy.io\n",
    "import mne\n",
    "from scipy.signal import butter, filtfilt\n",
    "import os\n",
    "import numpy as np\n",
    "from scipy import stats\n",
    "\n",
    "from sklearn.svm import SVC\n",
    "from sklearn.model_selection import train_test_split\n",
    "from sklearn.model_selection import KFold\n",
    "from sklearn.model_selection import GridSearchCV\n",
    "from sklearn.svm import SVC\n",
    "from sklearn.model_selection import StratifiedKFold\n",
    "from sklearn.preprocessing import StandardScaler\n",
    "from scipy.signal import stft\n",
    "\n",
    "from matplotlib import pyplot as plt\n",
    "mne.set_log_level('error')\n"
   ]
  },
  {
   "cell_type": "code",
   "execution_count": 2,
   "metadata": {},
   "outputs": [],
   "source": [
    "data_root = 'C:/Data/UHD_EEG/'\n",
    "subjects = ['S1', 'S2', 'S3', 'S4', 'S5']\n",
    "dominant_hand = ['left','right','right','right','right']\n",
    "\n",
    "mapping = {0: \"No instruction\", 1: \"Rest\", 2: \"thumb\", 3: \"index\", 4: \"middle\", 5: \"ring\", 6: \"little\"}\n",
    "\n",
    "not_ROI_channels = ['c255', 'c256', 'c254', 'c251', 'c239', 'c240', 'c238', 'c235', 'c224', 'c222', 'c223', 'c219', 'c220', 'c221', 'c215', 'c216', 'c217', 'c213', 'c212', 'c211', 'c210', 'c209', 'c112', 'c110', 'c107', 'c108', 'c103', 'c104', 'c105', 'c101', 'c100', 'c99', 'c98', 'c97', 'c1', 'c2', 'c3', 'c4', 'c5', 'c6', 'c7', 'c8', 'c9', 'c10', 'c11', 'c12', 'c14', 'c15', 'c16', 'c23', 'c29', 'c26', 'c17', 'c18', 'c20', 'c19', 'c21', 'c24', 'c22', 'c25', 'c28', 'c33', 'c35', 'c38', 'c42', 'c81', 'c34', 'c37', 'c41', 'c45', 'c36', 'c40', 'c44', 'c39', 'c43', 'c145', 'c147', 'c150', 'c154', 'c157', 'c153', 'c149', 'c146', 'c93', 'c159', 'c156', 'c152', 'c148', 'c95', 'c160', 'c158', 'c155', 'c151', 'c96', 'c202', 'c198', 'c195', 'c193']\n",
    "\n",
    "# Subject 1 bad channels:\n",
    "bad_channels =['c65', 'c66', 'c67', 'c68', 'c69', 'c70', 'c71', 'c72', 'c73', 'c74', 'c75', 'c76', 'c77', 'c78', 'c79', 'c80']"
   ]
  },
  {
   "cell_type": "code",
   "execution_count": null,
   "metadata": {},
   "outputs": [],
   "source": []
  },
  {
   "cell_type": "code",
   "execution_count": 3,
   "metadata": {},
   "outputs": [],
   "source": [
    "def get_montage(hemishpere):\n",
    "    mat = scipy.io.loadmat(os.path.join(data_root, 'montage', f'montage_256_{hemishpere}_hemisphere.mat'))\n",
    "    return mat['pos_256']\n",
    "\n",
    "left_handed_montage = get_montage('right')\n",
    "right_handed_montage = get_montage('left')"
   ]
  },
  {
   "cell_type": "code",
   "execution_count": 4,
   "metadata": {},
   "outputs": [],
   "source": [
    "def load_run(subject_id, run, describe=True):\n",
    "    subject = subjects[subject_id]\n",
    "    mat = scipy.io.loadmat(os.path.join(data_root, 'rawdata', subject, run))\n",
    "    data = mat['y'][1:]  # remove timestamp\n",
    "    ch_names = [f'c{i}' for i in range(1, 257)] + ['STIM']\n",
    "    info = mne.create_info(ch_names=ch_names, sfreq=mat['SR\\x00'][0][0])\n",
    "\n",
    "    raw = mne.io.RawArray(data, info)\n",
    "    ch_types = {ch: 'eeg' if ch != 'STIM' else 'stim' for ch in ch_names}\n",
    "    raw.set_channel_types(ch_types)\n",
    "\n",
    "    events = mne.find_events(raw, stim_channel='STIM')\n",
    "    annot_from_events = mne.annotations_from_events(events, event_desc=mapping, sfreq=raw.info['sfreq'])\n",
    "    raw.set_annotations(annot_from_events)\n",
    "    raw.drop_channels(['STIM'])\n",
    "\n",
    "    montage_positions = left_handed_montage if dominant_hand[subject_id] == 'left' else right_handed_montage\n",
    "    montage = mne.channels.make_dig_montage(ch_pos=dict(zip(ch_names, montage_positions)), coord_frame='head')\n",
    "    raw.set_montage(montage)\n",
    "\n",
    "    if describe:\n",
    "        raw.describe()\n",
    "    return raw\n"
   ]
  },
  {
   "cell_type": "code",
   "execution_count": 5,
   "metadata": {},
   "outputs": [],
   "source": [
    "def load_subject(subject_id, describe = True):\n",
    "    runs = []\n",
    "    run_files = os.listdir(os.path.join(data_root, 'rawdata', subjects[subject_id]))\n",
    "    for file in run_files:\n",
    "        runs.append(load_run(subject_id, file, describe))\n",
    "    return runs"
   ]
  },
  {
   "cell_type": "code",
   "execution_count": 6,
   "metadata": {},
   "outputs": [],
   "source": [
    "raw_runs = load_subject(subject_id = 0, describe = False)"
   ]
  },
  {
   "cell_type": "code",
   "execution_count": null,
   "metadata": {},
   "outputs": [],
   "source": []
  },
  {
   "cell_type": "code",
   "execution_count": 7,
   "metadata": {},
   "outputs": [],
   "source": [
    "def preprocess(orig):\n",
    "    run = orig.copy()\n",
    "\n",
    "    run.drop_channels(bad_channels)\n",
    "    run.drop_channels(not_ROI_channels)\n",
    "\n",
    "    run.filter(8, 25, fir_design='firwin')\n",
    "\n",
    "    run.set_eeg_reference('average', projection=False)\n",
    "\n",
    "    baseline = run._data[:, :-int(25*run.info['sfreq'])]\n",
    "    run._data = run._data - baseline.mean(axis=1, keepdims=True)\n",
    "\n",
    "    run = run.resample(200)\n",
    "\n",
    "    return run"
   ]
  },
  {
   "cell_type": "code",
   "execution_count": 8,
   "metadata": {},
   "outputs": [],
   "source": [
    "preprocessed_runs = []\n",
    "for run in raw_runs:\n",
    "    preprocessed_runs.append(preprocess(run))\n"
   ]
  },
  {
   "cell_type": "code",
   "execution_count": 9,
   "metadata": {},
   "outputs": [
    {
     "data": {
      "text/plain": [
       "(142, 45186)"
      ]
     },
     "execution_count": 9,
     "metadata": {},
     "output_type": "execute_result"
    }
   ],
   "source": [
    "preprocessed_runs[0]._data.shape"
   ]
  },
  {
   "cell_type": "code",
   "execution_count": 10,
   "metadata": {},
   "outputs": [],
   "source": [
    "# epochs = []\n",
    "# for run in preprocessed_runs:\n",
    "#     events, event_ids = mne.events_from_annotations(run)\n",
    "#     asd = mne.Epochs(run, events, baseline = (-1, -0.5), event_id= event_ids, tmin=-1, tmax=7, preload=True)\n",
    "#     epochs.append(asd)\n",
    "# epochs = mne.concatenate_epochs(epochs)\n",
    "# epochs = epochs.crop(tmin=-1.48, tmax=1.52)"
   ]
  },
  {
   "cell_type": "code",
   "execution_count": 34,
   "metadata": {},
   "outputs": [],
   "source": [
    "# No baseline correction\n",
    "epochs = []\n",
    "for run in preprocessed_runs:\n",
    "    events, event_ids = mne.events_from_annotations(run)\n",
    "    asd = mne.Epochs(run, events, baseline = None, event_id= event_ids, tmin=-0.5, tmax=2, preload=True)\n",
    "    epochs.append(asd)\n",
    "epochs = mne.concatenate_epochs(epochs)"
   ]
  },
  {
   "cell_type": "code",
   "execution_count": 35,
   "metadata": {},
   "outputs": [
    {
     "data": {
      "text/html": [
       "<table class=\"table table-hover table-striped table-sm table-responsive small\">\n",
       "    <tr>\n",
       "        <th>Number of events</th>\n",
       "        <td>260</td>\n",
       "    </tr>\n",
       "    <tr>\n",
       "        <th>Events</th>\n",
       "        \n",
       "        <td>Rest: 10<br/>index: 50<br/>little: 50<br/>middle: 50<br/>ring: 50<br/>thumb: 50</td>\n",
       "        \n",
       "    </tr>\n",
       "    <tr>\n",
       "        <th>Time range</th>\n",
       "        <td>-0.500 – 2.000 sec</td>\n",
       "    </tr>\n",
       "    <tr>\n",
       "        <th>Baseline</th>\n",
       "        <td>off</td>\n",
       "    </tr>\n",
       "</table>"
      ],
      "text/plain": [
       "<Epochs |  260 events (all good), -0.5 - 2 sec, baseline off, ~141.3 MB, data loaded,\n",
       " 'Rest': 10\n",
       " 'index': 50\n",
       " 'little': 50\n",
       " 'middle': 50\n",
       " 'ring': 50\n",
       " 'thumb': 50>"
      ]
     },
     "execution_count": 35,
     "metadata": {},
     "output_type": "execute_result"
    }
   ],
   "source": [
    "epochs"
   ]
  },
  {
   "cell_type": "code",
   "execution_count": 36,
   "metadata": {},
   "outputs": [
    {
     "data": {
      "text/plain": [
       "(1, 142, 501)"
      ]
     },
     "execution_count": 36,
     "metadata": {},
     "output_type": "execute_result"
    }
   ],
   "source": [
    "epochs[0].get_data().shape"
   ]
  },
  {
   "cell_type": "code",
   "execution_count": 68,
   "metadata": {},
   "outputs": [],
   "source": [
    "X = epochs.get_data()\n",
    "y = epochs.events[:, -1]\n"
   ]
  },
  {
   "cell_type": "code",
   "execution_count": 69,
   "metadata": {},
   "outputs": [],
   "source": [
    "def to_stft(time_domain):\n",
    "    bsd = []\n",
    "    total_powers = []\n",
    "    time_domain = time_domain**2\n",
    "    for ch in time_domain:\n",
    "        # Perform STFT\n",
    "        time = np.linspace(0, 10, len(ch))\n",
    "        \n",
    "        # Perform STFT\n",
    "        f, t, Zxx = stft(ch, fs=1/(time[1]-time[0]), nperseg=100)\n",
    "        #power = np.abs(Zxx) ** 2  # Compute power spectrum\n",
    "        power = np.abs(Zxx)\n",
    "\n",
    "        # Define frequency bands\n",
    "        freq_band_1 = (8, 12)  # Frequency band 1 (8-12 Hz)\n",
    "        freq_band_2 = (13, 25)  # Frequency band 2 (13-25 Hz)\n",
    "\n",
    "        # Find indices of frequency bins corresponding to the frequency bands\n",
    "        band_1_indices = np.where((f >= freq_band_1[0]) & (f <= freq_band_1[1]))[0]\n",
    "        band_2_indices = np.where((f >= freq_band_2[0]) & (f <= freq_band_2[1]))[0]\n",
    "\n",
    "        total_power_band_1 = np.sum(power[band_1_indices, :], axis=0)\n",
    "        total_power_band_2 = np.sum(power[band_2_indices, :], axis=0)\n",
    "\n",
    "        \n",
    "        # print(total_power_band_1.shape)\n",
    "       \n",
    "        # print(total_power_band_2.shape)\n",
    "     \n",
    "\n",
    "        total_power = np.concatenate((total_power_band_1, total_power_band_2))\n",
    "        #total_power = np.clip(total_power, 1e-10, np.inf)\n",
    "        #total_power = np.log10(total_power)\n",
    "        total_powers.append(total_power)\n",
    "    return np.array(total_powers)"
   ]
  },
  {
   "cell_type": "code",
   "execution_count": 70,
   "metadata": {},
   "outputs": [],
   "source": [
    "powers = []\n",
    "for i in range(len(X)):\n",
    "    powers.append(to_stft(X[i]))\n",
    "powers = np.array(powers)"
   ]
  },
  {
   "cell_type": "code",
   "execution_count": 71,
   "metadata": {},
   "outputs": [],
   "source": [
    "X = powers"
   ]
  },
  {
   "cell_type": "code",
   "execution_count": 72,
   "metadata": {},
   "outputs": [
    {
     "data": {
      "text/plain": [
       "(260, 142, 24)"
      ]
     },
     "execution_count": 72,
     "metadata": {},
     "output_type": "execute_result"
    }
   ],
   "source": [
    "powers.shape"
   ]
  },
  {
   "cell_type": "code",
   "execution_count": 73,
   "metadata": {},
   "outputs": [
    {
     "name": "stdout",
     "output_type": "stream",
     "text": [
      "(260, 3408)\n",
      "(260,)\n"
     ]
    }
   ],
   "source": [
    "\n",
    "X = X.reshape(X.shape[0], -1) # reshape to SVM\n",
    "\n",
    "print(X.shape)\n",
    "print(y.shape)\n"
   ]
  },
  {
   "cell_type": "code",
   "execution_count": 74,
   "metadata": {},
   "outputs": [],
   "source": [
    "scaler = StandardScaler()\n",
    "scaler.fit(X)\n",
    "X = scaler.transform(X)"
   ]
  },
  {
   "cell_type": "code",
   "execution_count": 75,
   "metadata": {},
   "outputs": [],
   "source": [
    "# thumb, index, middle, ring, and little finger respectively.\n",
    "\n",
    "thumb_indices = np.where(y == 2)\n",
    "index_indices = np.where(y == 3)\n",
    "middle_indices = np.where(y == 4)\n",
    "ring_indices = np.where(y == 5)\n",
    "little_indices = np.where(y == 6)\n",
    "\n",
    "thumb = X[thumb_indices]\n",
    "index = X[index_indices]\n",
    "middle = X[middle_indices]\n",
    "ring = X[ring_indices]\n",
    "little = X[little_indices]"
   ]
  },
  {
   "cell_type": "code",
   "execution_count": 76,
   "metadata": {},
   "outputs": [],
   "source": [
    "middle_vs_ring = np.concatenate((middle, ring), axis=0)\n",
    "y_middle_vs_ring = np.concatenate((np.zeros(middle.shape[0]), np.ones(ring.shape[0])), axis=0)\n",
    "X = middle_vs_ring\n",
    "y = y_middle_vs_ring\n"
   ]
  },
  {
   "cell_type": "code",
   "execution_count": 79,
   "metadata": {},
   "outputs": [
    {
     "name": "stdout",
     "output_type": "stream",
     "text": [
      "{'C': 10, 'gamma': 0.001, 'kernel': 'rbf'}\n",
      "0.62\n"
     ]
    }
   ],
   "source": [
    "# Grid search for best parameters\n",
    "\n",
    "\n",
    "# Set the parameters by cross-validation\n",
    "tuned_parameters = [{'kernel': ['rbf','linear'], 'gamma': [1e-1, 1e-2, 1e-3, 1e-4],\n",
    "                        'C': [0.001, 0.01, 0.1, 1, 10]}]\n",
    "grid = GridSearchCV(SVC(), tuned_parameters, cv=StratifiedKFold(n_splits=5), scoring='accuracy')\n",
    "grid.fit(X, y)\n",
    "print(grid.best_params_)\n",
    "print(grid.best_score_)\n",
    "\n"
   ]
  },
  {
   "cell_type": "code",
   "execution_count": 80,
   "metadata": {},
   "outputs": [
    {
     "name": "stdout",
     "output_type": "stream",
     "text": [
      "0.6\n",
      "0.8\n",
      "0.6\n",
      "0.6\n",
      "0.5\n",
      "0.5\n",
      "0.3\n",
      "0.4\n",
      "0.7\n",
      "0.4\n",
      "Average accuracy:  0.54\n"
     ]
    }
   ],
   "source": [
    "# K fold cross validation\n",
    "kf = KFold(n_splits=10, shuffle=True, random_state=42)\n",
    "accuracy_scores = []\n",
    "for train_index, test_index in kf.split(X):\n",
    "    X_train, X_test = X[train_index], X[test_index]\n",
    "    y_train, y_test = y[train_index], y[test_index]\n",
    "    svc = SVC()\n",
    "    svc.fit(X_train, y_train)\n",
    "    print(svc.score(X_test, y_test))\n",
    "    accuracy_scores.append(svc.score(X_test, y_test))\n",
    "avg_accuracy = np.mean(accuracy_scores)\n",
    "print(\"Average accuracy: \", avg_accuracy)"
   ]
  },
  {
   "cell_type": "code",
   "execution_count": null,
   "metadata": {},
   "outputs": [],
   "source": []
  },
  {
   "cell_type": "code",
   "execution_count": null,
   "metadata": {},
   "outputs": [],
   "source": []
  }
 ],
 "metadata": {
  "kernelspec": {
   "display_name": "Python 3",
   "language": "python",
   "name": "python3"
  },
  "language_info": {
   "codemirror_mode": {
    "name": "ipython",
    "version": 3
   },
   "file_extension": ".py",
   "mimetype": "text/x-python",
   "name": "python",
   "nbconvert_exporter": "python",
   "pygments_lexer": "ipython3",
   "version": "3.11.0"
  },
  "orig_nbformat": 4,
  "vscode": {
   "interpreter": {
    "hash": "9cefe38f745df9e33a66570f2e5a410ba71c4ae3bf929b6ad1b474ac5f904d76"
   }
  }
 },
 "nbformat": 4,
 "nbformat_minor": 2
}
