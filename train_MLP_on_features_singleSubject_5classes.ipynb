{
 "cells": [
  {
   "attachments": {},
   "cell_type": "markdown",
   "metadata": {},
   "source": [
    "Train MLP for all fingers!\\\n",
    "Using hyper param optimalization\n",
    "Data source: \\\n",
    "sliding windowed powers for mu and beta band\\\n",
    "Subject 1"
   ]
  },
  {
   "cell_type": "code",
   "execution_count": 1,
   "metadata": {},
   "outputs": [],
   "source": [
    "import os\n",
    "import numpy as np\n",
    "import h5py\n",
    "from scipy import stats\n",
    "import scipy.io\n",
    "import mne\n",
    "\n",
    "mne.set_log_level('error')\n",
    "\n",
    "from random import shuffle\n",
    "from sklearn.model_selection import train_test_split\n",
    "from sklearn.preprocessing import StandardScaler\n",
    "from sklearn.metrics import accuracy_score\n",
    "from sklearn.model_selection import KFold\n",
    "\n",
    "\n",
    "import torch\n",
    "import torch.nn as nn\n",
    "import torch.optim as optim\n",
    "\n",
    "import optuna\n",
    "\n",
    "\n",
    "from utils.load import Load\n",
    "from config.default import cfg\n",
    "\n",
    "%load_ext autoreload\n",
    "%autoreload 2\n"
   ]
  },
  {
   "cell_type": "code",
   "execution_count": 2,
   "metadata": {},
   "outputs": [],
   "source": [
    "subject_id = 0"
   ]
  },
  {
   "cell_type": "code",
   "execution_count": 3,
   "metadata": {},
   "outputs": [
    {
     "name": "stdout",
     "output_type": "stream",
     "text": [
      "cuda\n"
     ]
    }
   ],
   "source": [
    "device_name = 'cuda' if torch.cuda.is_available() else 'cpu'\n",
    "device = torch.device(device_name)\n",
    "print(device)"
   ]
  },
  {
   "cell_type": "code",
   "execution_count": 4,
   "metadata": {},
   "outputs": [
    {
     "name": "stdout",
     "output_type": "stream",
     "text": [
      "index (50, 158, 26, 2)\n",
      "little (50, 158, 26, 2)\n",
      "middle (50, 158, 26, 2)\n",
      "ring (50, 158, 26, 2)\n",
      "thumb (50, 158, 26, 2)\n"
     ]
    }
   ],
   "source": [
    "# Load the data  from the HDF5 file\n",
    "target_dir = 'features'\n",
    "tag = 'reproduced_with_bad'\n",
    "file_path = os.path.join(target_dir, tag+'_'+cfg['subjects'][subject_id] + '.h5')\n",
    "\n",
    "\n",
    "data = {}\n",
    "with h5py.File(file_path, 'r') as h5file:\n",
    "    for key in h5file.keys():\n",
    "        data[key] = np.array(h5file[key])\n",
    "\n",
    "# Print the loaded data dictionary\n",
    "for key, value in data.items():\n",
    "    print(key, value.shape)"
   ]
  },
  {
   "cell_type": "code",
   "execution_count": 5,
   "metadata": {},
   "outputs": [
    {
     "name": "stdout",
     "output_type": "stream",
     "text": [
      "Value mean -0.2339724015045144, std: 0.5695447701676682\n",
      "index (50, 8216)\n",
      "Value mean -0.2708822967951231, std: 0.5462566462697682\n",
      "little (50, 8216)\n",
      "Value mean -0.2442623948850108, std: 0.5700958201096925\n",
      "middle (50, 8216)\n",
      "Value mean -0.22332821025493294, std: 0.5757079219489506\n",
      "ring (50, 8216)\n",
      "Value mean -0.25530375728577215, std: 0.5697075097118033\n",
      "thumb (50, 8216)\n"
     ]
    }
   ],
   "source": [
    "for key, value in data.items():\n",
    "    data[key] = value.reshape(value.shape[0], -1)\n",
    "\n",
    "    \n",
    "# Print the loaded data dictionary\n",
    "for key, value in data.items():\n",
    "    print(f'Value mean {np.mean(value)}, std: {np.std(value)}')\n",
    "    print(key, value.shape)"
   ]
  },
  {
   "cell_type": "code",
   "execution_count": 6,
   "metadata": {},
   "outputs": [],
   "source": [
    "class SingleLayerMLP(nn.Module):\n",
    "    def __init__(self, input_size, hidden_size, output_size, activation):\n",
    "        super(SingleLayerMLP, self).__init__()\n",
    "        self.fc1 = nn.Linear(input_size, hidden_size)\n",
    "        self.activation = activation\n",
    "        self.fc2 = nn.Linear(hidden_size, output_size)\n",
    "\n",
    "    def forward(self, x):\n",
    "        x = self.fc1(x)\n",
    "        x = self.activation(x)\n",
    "        x = self.fc2(x)\n",
    "        x = nn.Softmax(dim=1)(x)\n",
    "        return x"
   ]
  },
  {
   "cell_type": "code",
   "execution_count": 7,
   "metadata": {},
   "outputs": [
    {
     "data": {
      "text/plain": [
       "dict_keys(['index', 'little', 'middle', 'ring', 'thumb'])"
      ]
     },
     "execution_count": 7,
     "metadata": {},
     "output_type": "execute_result"
    }
   ],
   "source": [
    "data.keys()"
   ]
  },
  {
   "cell_type": "code",
   "execution_count": 8,
   "metadata": {},
   "outputs": [],
   "source": [
    "def train(X_train, y_train, X_test, y_test, model, criterion, optimizer, num_epochs=100):\n",
    "    X_train = torch.tensor(X_train, dtype=torch.float32).to(device)\n",
    "    X_test = torch.tensor(X_test, dtype=torch.float32).to(device)\n",
    "    y_train = torch.tensor(y_train, dtype=torch.long).to(device)\n",
    "    y_test = torch.tensor(y_test, dtype=torch.long).to(device)\n",
    "\n",
    "\n",
    "    for epoch in range(num_epochs):\n",
    "        optimizer.zero_grad()\n",
    "        outputs = model(X_train)\n",
    "        loss = criterion(outputs, y_train)\n",
    "        loss.backward()\n",
    "        optimizer.step()\n",
    "\n",
    "        # # Shuffle X and y together\n",
    "        p = np.random.permutation(len(X_train))\n",
    "        X_train, y_train = X_train[p], y_train[p]\n",
    "\n",
    "    with torch.no_grad():\n",
    "        y_pred = model(X_test)\n",
    "        y_pred = torch.argmax(y_pred, dim=1)\n",
    "\n",
    "    acc = accuracy_score(y_test.to('cpu'), y_pred.to('cpu'))\n",
    "    return acc\n",
    "\n",
    "def objective(trial, X, y):\n",
    "    learning_rate = trial.suggest_float(\"learning_rate\", 1e-5, 1e-1, log=True)\n",
    "    num_epochs = trial.suggest_int(\"num_epochs\", 100, 2000)\n",
    "    hidden_size = trial.suggest_int(\"hidden_size\", 16, 128)\n",
    "    activation_name = trial.suggest_categorical(\"activation\", [\"relu\", \"elu\", \"leaky_relu\"])\n",
    "    optimizer = trial.suggest_categorical(\"optimizer\", [\"SGD\", \"Adam\"])\n",
    "\n",
    "    if activation_name == \"relu\":\n",
    "        activation = nn.ReLU()\n",
    "    elif activation_name == \"elu\":\n",
    "        activation = nn.ELU()\n",
    "    elif activation_name == \"leaky_relu\":\n",
    "        activation = nn.LeakyReLU()\n",
    "\n",
    "    if optimizer == \"SGD\":\n",
    "        optimizer = optim.SGD\n",
    "    elif optimizer == \"Adam\":\n",
    "        optimizer = optim.Adam\n",
    "\n",
    "    train_X, test_X, train_y, test_y = train_test_split(X, y, test_size=0.2, random_state=42)\n",
    "    model = SingleLayerMLP(train_X.shape[1], hidden_size, 5, activation)\n",
    "    model.to(device)\n",
    "    criterion = nn.CrossEntropyLoss()\n",
    "    optimizer = optimizer(model.parameters(), lr=learning_rate)\n",
    "    return train(train_X, train_y, test_X, test_y, model, criterion, optimizer, num_epochs=num_epochs)\n",
    "\n",
    "    # kf = KFold(n_splits=10, shuffle=True, random_state=42)\n",
    "    # fold_accuracies = []\n",
    "\n",
    "    # for train_index, test_index in kf.split(X):\n",
    "    #     X_train, X_test = X[train_index], X[test_index]\n",
    "    #     y_train, y_test = y[train_index], y[test_index]\n",
    "\n",
    "    #     model = SingleLayerMLP(X_train.shape[1], hidden_size, 2, activation)\n",
    "    #     criterion = nn.CrossEntropyLoss()\n",
    "    #     optimizer = optimizer(model.parameters(), lr=learning_rate)\n",
    "    #     acc = train(X_train, y_train, X_test, y_test, model, criterion, optimizer, num_epochs=num_epochs)\n",
    "    #     fold_accuracies.append(acc)\n",
    "\n",
    "    # mean_accuracy = np.mean(fold_accuracies)\n",
    "    # return mean_accuracy\n",
    "\n",
    "def train_MLP(n_trials = 100):\n",
    "    # Convert data into numpy arrays\n",
    "    X = np.concatenate(list(data.values()), axis=0)\n",
    "    y = np.concatenate([np.ones(data[finger].shape[0]) * i for i, finger in enumerate(data)], axis=0)\n",
    "\n",
    "    # Shuffle X and y together\n",
    "    # p = np.random.permutation(len(X))\n",
    "    # X, y = X[p], y[p]\n",
    "\n",
    "    scaler = StandardScaler()\n",
    "    X = scaler.fit_transform(X)\n",
    "\n",
    "    study = optuna.create_study(direction=\"maximize\")\n",
    "    study.optimize(lambda trial: objective(trial, X, y), n_trials=n_trials)\n",
    "\n",
    "    best_trial = study.best_trial\n",
    "\n",
    "    print(f'Best trial params: {best_trial.params}')\n",
    "    print(f'Best trial accuracy: {best_trial.value * 100:.2f}%')\n",
    "\n"
   ]
  },
  {
   "cell_type": "code",
   "execution_count": 9,
   "metadata": {},
   "outputs": [
    {
     "name": "stderr",
     "output_type": "stream",
     "text": [
      "\u001b[32m[I 2023-04-22 18:16:46,173]\u001b[0m A new study created in memory with name: no-name-ba171715-05af-41dc-8992-867d65d54e1e\u001b[0m\n",
      "\u001b[32m[I 2023-04-22 18:16:54,465]\u001b[0m Trial 0 finished with value: 0.38 and parameters: {'learning_rate': 3.679069943290924e-05, 'num_epochs': 790, 'hidden_size': 119, 'activation': 'relu', 'optimizer': 'Adam'}. Best is trial 0 with value: 0.38.\u001b[0m\n",
      "\u001b[32m[I 2023-04-22 18:17:01,393]\u001b[0m Trial 1 finished with value: 0.38 and parameters: {'learning_rate': 6.839071764072327e-05, 'num_epochs': 1371, 'hidden_size': 126, 'activation': 'relu', 'optimizer': 'Adam'}. Best is trial 0 with value: 0.38.\u001b[0m\n",
      "\u001b[32m[I 2023-04-22 18:17:06,973]\u001b[0m Trial 2 finished with value: 0.38 and parameters: {'learning_rate': 1.941415511717045e-05, 'num_epochs': 1321, 'hidden_size': 121, 'activation': 'leaky_relu', 'optimizer': 'Adam'}. Best is trial 0 with value: 0.38.\u001b[0m\n",
      "\u001b[32m[I 2023-04-22 18:17:12,056]\u001b[0m Trial 3 finished with value: 0.34 and parameters: {'learning_rate': 0.04445898426370248, 'num_epochs': 1995, 'hidden_size': 45, 'activation': 'relu', 'optimizer': 'SGD'}. Best is trial 0 with value: 0.38.\u001b[0m\n",
      "\u001b[32m[I 2023-04-22 18:17:14,686]\u001b[0m Trial 4 finished with value: 0.34 and parameters: {'learning_rate': 0.0005681559200456128, 'num_epochs': 819, 'hidden_size': 92, 'activation': 'leaky_relu', 'optimizer': 'Adam'}. Best is trial 0 with value: 0.38.\u001b[0m\n",
      "\u001b[32m[I 2023-04-22 18:17:15,422]\u001b[0m Trial 5 finished with value: 0.42 and parameters: {'learning_rate': 0.010967377670342202, 'num_epochs': 288, 'hidden_size': 122, 'activation': 'leaky_relu', 'optimizer': 'SGD'}. Best is trial 5 with value: 0.42.\u001b[0m\n",
      "\u001b[32m[I 2023-04-22 18:17:16,358]\u001b[0m Trial 6 finished with value: 0.44 and parameters: {'learning_rate': 0.009997052618235712, 'num_epochs': 296, 'hidden_size': 85, 'activation': 'leaky_relu', 'optimizer': 'Adam'}. Best is trial 6 with value: 0.44.\u001b[0m\n",
      "\u001b[32m[I 2023-04-22 18:17:17,221]\u001b[0m Trial 7 finished with value: 0.32 and parameters: {'learning_rate': 0.02543457806412769, 'num_epochs': 189, 'hidden_size': 73, 'activation': 'relu', 'optimizer': 'Adam'}. Best is trial 6 with value: 0.44.\u001b[0m\n",
      "\u001b[32m[I 2023-04-22 18:17:20,140]\u001b[0m Trial 8 finished with value: 0.36 and parameters: {'learning_rate': 0.002541141537933638, 'num_epochs': 914, 'hidden_size': 60, 'activation': 'relu', 'optimizer': 'SGD'}. Best is trial 6 with value: 0.44.\u001b[0m\n",
      "\u001b[32m[I 2023-04-22 18:17:22,859]\u001b[0m Trial 9 finished with value: 0.36 and parameters: {'learning_rate': 0.0019015698023794336, 'num_epochs': 742, 'hidden_size': 99, 'activation': 'leaky_relu', 'optimizer': 'Adam'}. Best is trial 6 with value: 0.44.\u001b[0m\n",
      "\u001b[32m[I 2023-04-22 18:17:25,295]\u001b[0m Trial 10 finished with value: 0.24 and parameters: {'learning_rate': 0.09550626638864423, 'num_epochs': 413, 'hidden_size': 23, 'activation': 'elu', 'optimizer': 'Adam'}. Best is trial 6 with value: 0.44.\u001b[0m\n",
      "\u001b[32m[I 2023-04-22 18:17:25,985]\u001b[0m Trial 11 finished with value: 0.34 and parameters: {'learning_rate': 0.01349174943787892, 'num_epochs': 105, 'hidden_size': 95, 'activation': 'leaky_relu', 'optimizer': 'SGD'}. Best is trial 6 with value: 0.44.\u001b[0m\n",
      "\u001b[32m[I 2023-04-22 18:17:28,136]\u001b[0m Trial 12 finished with value: 0.36 and parameters: {'learning_rate': 0.007374964218897157, 'num_epochs': 444, 'hidden_size': 75, 'activation': 'leaky_relu', 'optimizer': 'SGD'}. Best is trial 6 with value: 0.44.\u001b[0m\n",
      "\u001b[32m[I 2023-04-22 18:17:29,641]\u001b[0m Trial 13 finished with value: 0.38 and parameters: {'learning_rate': 0.007055810792471478, 'num_epochs': 435, 'hidden_size': 103, 'activation': 'elu', 'optimizer': 'SGD'}. Best is trial 6 with value: 0.44.\u001b[0m\n",
      "\u001b[32m[I 2023-04-22 18:17:32,918]\u001b[0m Trial 14 finished with value: 0.28 and parameters: {'learning_rate': 0.0005009682828887929, 'num_epochs': 1272, 'hidden_size': 55, 'activation': 'leaky_relu', 'optimizer': 'SGD'}. Best is trial 6 with value: 0.44.\u001b[0m\n",
      "\u001b[32m[I 2023-04-22 18:17:35,274]\u001b[0m Trial 15 finished with value: 0.3 and parameters: {'learning_rate': 0.021652264463699056, 'num_epochs': 587, 'hidden_size': 111, 'activation': 'leaky_relu', 'optimizer': 'SGD'}. Best is trial 6 with value: 0.44.\u001b[0m\n",
      "\u001b[32m[I 2023-04-22 18:17:36,289]\u001b[0m Trial 16 finished with value: 0.32 and parameters: {'learning_rate': 0.0037875260268015647, 'num_epochs': 268, 'hidden_size': 79, 'activation': 'elu', 'optimizer': 'Adam'}. Best is trial 6 with value: 0.44.\u001b[0m\n",
      "\u001b[32m[I 2023-04-22 18:17:40,205]\u001b[0m Trial 17 finished with value: 0.38 and parameters: {'learning_rate': 0.09874036018134935, 'num_epochs': 1642, 'hidden_size': 36, 'activation': 'leaky_relu', 'optimizer': 'SGD'}. Best is trial 6 with value: 0.44.\u001b[0m\n",
      "\u001b[32m[I 2023-04-22 18:17:42,759]\u001b[0m Trial 18 finished with value: 0.32 and parameters: {'learning_rate': 0.009379570515224093, 'num_epochs': 1019, 'hidden_size': 88, 'activation': 'leaky_relu', 'optimizer': 'SGD'}. Best is trial 6 with value: 0.44.\u001b[0m\n",
      "\u001b[32m[I 2023-04-22 18:17:45,091]\u001b[0m Trial 19 finished with value: 0.36 and parameters: {'learning_rate': 0.0012870440398242346, 'num_epochs': 643, 'hidden_size': 111, 'activation': 'leaky_relu', 'optimizer': 'Adam'}. Best is trial 6 with value: 0.44.\u001b[0m\n",
      "\u001b[32m[I 2023-04-22 18:17:45,981]\u001b[0m Trial 20 finished with value: 0.36 and parameters: {'learning_rate': 0.004732682938529504, 'num_epochs': 318, 'hidden_size': 62, 'activation': 'elu', 'optimizer': 'Adam'}. Best is trial 6 with value: 0.44.\u001b[0m\n",
      "\u001b[32m[I 2023-04-22 18:17:48,430]\u001b[0m Trial 21 finished with value: 0.34 and parameters: {'learning_rate': 0.00019050281491812023, 'num_epochs': 588, 'hidden_size': 114, 'activation': 'relu', 'optimizer': 'Adam'}. Best is trial 6 with value: 0.44.\u001b[0m\n",
      "\u001b[32m[I 2023-04-22 18:17:52,816]\u001b[0m Trial 22 finished with value: 0.38 and parameters: {'learning_rate': 2.1669677559983457e-05, 'num_epochs': 1099, 'hidden_size': 123, 'activation': 'relu', 'optimizer': 'Adam'}. Best is trial 6 with value: 0.44.\u001b[0m\n",
      "\u001b[32m[I 2023-04-22 18:17:55,891]\u001b[0m Trial 23 finished with value: 0.36 and parameters: {'learning_rate': 0.000885780715684447, 'num_epochs': 528, 'hidden_size': 85, 'activation': 'relu', 'optimizer': 'Adam'}. Best is trial 6 with value: 0.44.\u001b[0m\n",
      "\u001b[32m[I 2023-04-22 18:17:56,704]\u001b[0m Trial 24 finished with value: 0.38 and parameters: {'learning_rate': 0.0032690346229372978, 'num_epochs': 113, 'hidden_size': 103, 'activation': 'leaky_relu', 'optimizer': 'Adam'}. Best is trial 6 with value: 0.44.\u001b[0m\n",
      "\u001b[32m[I 2023-04-22 18:17:58,416]\u001b[0m Trial 25 finished with value: 0.36 and parameters: {'learning_rate': 1.056342358433385e-05, 'num_epochs': 308, 'hidden_size': 120, 'activation': 'relu', 'optimizer': 'Adam'}. Best is trial 6 with value: 0.44.\u001b[0m\n",
      "\u001b[32m[I 2023-04-22 18:18:00,094]\u001b[0m Trial 26 finished with value: 0.28 and parameters: {'learning_rate': 0.00023545607854995706, 'num_epochs': 734, 'hidden_size': 111, 'activation': 'leaky_relu', 'optimizer': 'SGD'}. Best is trial 6 with value: 0.44.\u001b[0m\n",
      "\u001b[32m[I 2023-04-22 18:18:03,452]\u001b[0m Trial 27 finished with value: 0.26 and parameters: {'learning_rate': 0.01214027020145884, 'num_epochs': 891, 'hidden_size': 126, 'activation': 'leaky_relu', 'optimizer': 'Adam'}. Best is trial 6 with value: 0.44.\u001b[0m\n",
      "\u001b[32m[I 2023-04-22 18:18:07,760]\u001b[0m Trial 28 finished with value: 0.38 and parameters: {'learning_rate': 0.0032547289823842956, 'num_epochs': 1136, 'hidden_size': 104, 'activation': 'relu', 'optimizer': 'SGD'}. Best is trial 6 with value: 0.44.\u001b[0m\n",
      "\u001b[32m[I 2023-04-22 18:18:15,186]\u001b[0m Trial 29 finished with value: 0.34 and parameters: {'learning_rate': 6.288367225204693e-05, 'num_epochs': 1600, 'hidden_size': 126, 'activation': 'elu', 'optimizer': 'Adam'}. Best is trial 6 with value: 0.44.\u001b[0m\n",
      "\u001b[32m[I 2023-04-22 18:18:23,377]\u001b[0m Trial 30 finished with value: 0.36 and parameters: {'learning_rate': 8.152741701568016e-05, 'num_epochs': 1519, 'hidden_size': 67, 'activation': 'relu', 'optimizer': 'Adam'}. Best is trial 6 with value: 0.44.\u001b[0m\n",
      "\u001b[32m[I 2023-04-22 18:18:31,622]\u001b[0m Trial 31 finished with value: 0.34 and parameters: {'learning_rate': 3.4620439322360646e-05, 'num_epochs': 1404, 'hidden_size': 119, 'activation': 'relu', 'optimizer': 'Adam'}. Best is trial 6 with value: 0.44.\u001b[0m\n",
      "\u001b[32m[I 2023-04-22 18:18:44,189]\u001b[0m Trial 32 finished with value: 0.32 and parameters: {'learning_rate': 1.0901780377770572e-05, 'num_epochs': 1861, 'hidden_size': 128, 'activation': 'relu', 'optimizer': 'Adam'}. Best is trial 6 with value: 0.44.\u001b[0m\n",
      "\u001b[32m[I 2023-04-22 18:18:50,897]\u001b[0m Trial 33 finished with value: 0.36 and parameters: {'learning_rate': 4.719895525020195e-05, 'num_epochs': 1224, 'hidden_size': 116, 'activation': 'relu', 'optimizer': 'Adam'}. Best is trial 6 with value: 0.44.\u001b[0m\n",
      "\u001b[32m[I 2023-04-22 18:18:57,654]\u001b[0m Trial 34 finished with value: 0.3 and parameters: {'learning_rate': 9.888649601788638e-05, 'num_epochs': 1006, 'hidden_size': 107, 'activation': 'relu', 'optimizer': 'Adam'}. Best is trial 6 with value: 0.44.\u001b[0m\n",
      "\u001b[32m[I 2023-04-22 18:19:03,365]\u001b[0m Trial 35 finished with value: 0.36 and parameters: {'learning_rate': 2.708454002280405e-05, 'num_epochs': 1786, 'hidden_size': 94, 'activation': 'leaky_relu', 'optimizer': 'Adam'}. Best is trial 6 with value: 0.44.\u001b[0m\n",
      "\u001b[32m[I 2023-04-22 18:19:08,311]\u001b[0m Trial 36 finished with value: 0.36 and parameters: {'learning_rate': 4.1709661333676186e-05, 'num_epochs': 1399, 'hidden_size': 121, 'activation': 'relu', 'optimizer': 'Adam'}. Best is trial 6 with value: 0.44.\u001b[0m\n",
      "\u001b[32m[I 2023-04-22 18:19:08,940]\u001b[0m Trial 37 finished with value: 0.36 and parameters: {'learning_rate': 0.039061771617851265, 'num_epochs': 240, 'hidden_size': 84, 'activation': 'leaky_relu', 'optimizer': 'SGD'}. Best is trial 6 with value: 0.44.\u001b[0m\n",
      "\u001b[32m[I 2023-04-22 18:19:10,874]\u001b[0m Trial 38 finished with value: 0.48 and parameters: {'learning_rate': 0.0021345711699235683, 'num_epochs': 732, 'hidden_size': 37, 'activation': 'relu', 'optimizer': 'Adam'}. Best is trial 38 with value: 0.48.\u001b[0m\n",
      "\u001b[32m[I 2023-04-22 18:19:13,937]\u001b[0m Trial 39 finished with value: 0.28 and parameters: {'learning_rate': 0.001832293581750305, 'num_epochs': 799, 'hidden_size': 21, 'activation': 'relu', 'optimizer': 'Adam'}. Best is trial 38 with value: 0.48.\u001b[0m\n",
      "\u001b[32m[I 2023-04-22 18:19:16,330]\u001b[0m Trial 40 finished with value: 0.32 and parameters: {'learning_rate': 0.0067618394275450995, 'num_epochs': 695, 'hidden_size': 36, 'activation': 'leaky_relu', 'optimizer': 'SGD'}. Best is trial 38 with value: 0.48.\u001b[0m\n",
      "\u001b[32m[I 2023-04-22 18:19:20,337]\u001b[0m Trial 41 finished with value: 0.24 and parameters: {'learning_rate': 0.016841335130037268, 'num_epochs': 917, 'hidden_size': 43, 'activation': 'relu', 'optimizer': 'Adam'}. Best is trial 38 with value: 0.48.\u001b[0m\n",
      "\u001b[32m[I 2023-04-22 18:19:22,822]\u001b[0m Trial 42 finished with value: 0.26 and parameters: {'learning_rate': 0.0050532167086438625, 'num_epochs': 492, 'hidden_size': 50, 'activation': 'relu', 'optimizer': 'Adam'}. Best is trial 38 with value: 0.48.\u001b[0m\n",
      "\u001b[32m[I 2023-04-22 18:19:24,671]\u001b[0m Trial 43 finished with value: 0.38 and parameters: {'learning_rate': 0.002246439342703599, 'num_epochs': 378, 'hidden_size': 16, 'activation': 'relu', 'optimizer': 'Adam'}. Best is trial 38 with value: 0.48.\u001b[0m\n",
      "\u001b[32m[I 2023-04-22 18:19:25,687]\u001b[0m Trial 44 finished with value: 0.2 and parameters: {'learning_rate': 0.02763785394315747, 'num_epochs': 170, 'hidden_size': 98, 'activation': 'relu', 'optimizer': 'Adam'}. Best is trial 38 with value: 0.48.\u001b[0m\n",
      "\u001b[32m[I 2023-04-22 18:19:29,228]\u001b[0m Trial 45 finished with value: 0.36 and parameters: {'learning_rate': 0.012595462396494683, 'num_epochs': 851, 'hidden_size': 71, 'activation': 'elu', 'optimizer': 'SGD'}. Best is trial 38 with value: 0.48.\u001b[0m\n",
      "\u001b[32m[I 2023-04-22 18:19:30,192]\u001b[0m Trial 46 finished with value: 0.34 and parameters: {'learning_rate': 1.821282357262254e-05, 'num_epochs': 373, 'hidden_size': 116, 'activation': 'leaky_relu', 'optimizer': 'Adam'}. Best is trial 38 with value: 0.48.\u001b[0m\n",
      "\u001b[32m[I 2023-04-22 18:19:33,909]\u001b[0m Trial 47 finished with value: 0.38 and parameters: {'learning_rate': 0.0007464274559625616, 'num_epochs': 1196, 'hidden_size': 32, 'activation': 'leaky_relu', 'optimizer': 'SGD'}. Best is trial 38 with value: 0.48.\u001b[0m\n",
      "\u001b[32m[I 2023-04-22 18:19:37,459]\u001b[0m Trial 48 finished with value: 0.36 and parameters: {'learning_rate': 0.0014697629112388156, 'num_epochs': 976, 'hidden_size': 78, 'activation': 'relu', 'optimizer': 'Adam'}. Best is trial 38 with value: 0.48.\u001b[0m\n",
      "\u001b[32m[I 2023-04-22 18:19:40,224]\u001b[0m Trial 49 finished with value: 0.4 and parameters: {'learning_rate': 0.0026365471868230184, 'num_epochs': 647, 'hidden_size': 90, 'activation': 'elu', 'optimizer': 'Adam'}. Best is trial 38 with value: 0.48.\u001b[0m\n",
      "\u001b[32m[I 2023-04-22 18:19:43,590]\u001b[0m Trial 50 finished with value: 0.3 and parameters: {'learning_rate': 0.002406459636915698, 'num_epochs': 615, 'hidden_size': 90, 'activation': 'elu', 'optimizer': 'Adam'}. Best is trial 38 with value: 0.48.\u001b[0m\n",
      "\u001b[32m[I 2023-04-22 18:19:47,050]\u001b[0m Trial 51 finished with value: 0.36 and parameters: {'learning_rate': 0.005731486039625056, 'num_epochs': 509, 'hidden_size': 81, 'activation': 'elu', 'optimizer': 'Adam'}. Best is trial 38 with value: 0.48.\u001b[0m\n",
      "\u001b[32m[I 2023-04-22 18:19:52,109]\u001b[0m Trial 52 finished with value: 0.34 and parameters: {'learning_rate': 0.004000063793344541, 'num_epochs': 813, 'hidden_size': 108, 'activation': 'elu', 'optimizer': 'Adam'}. Best is trial 38 with value: 0.48.\u001b[0m\n",
      "\u001b[32m[I 2023-04-22 18:19:58,044]\u001b[0m Trial 53 finished with value: 0.36 and parameters: {'learning_rate': 0.009456345784211617, 'num_epochs': 706, 'hidden_size': 99, 'activation': 'elu', 'optimizer': 'Adam'}. Best is trial 38 with value: 0.48.\u001b[0m\n",
      "\u001b[32m[I 2023-04-22 18:19:59,279]\u001b[0m Trial 54 finished with value: 0.36 and parameters: {'learning_rate': 0.0014389409116345982, 'num_epochs': 437, 'hidden_size': 58, 'activation': 'elu', 'optimizer': 'SGD'}. Best is trial 38 with value: 0.48.\u001b[0m\n",
      "\u001b[32m[I 2023-04-22 18:20:01,973]\u001b[0m Trial 55 finished with value: 0.38 and parameters: {'learning_rate': 0.0005499370229242914, 'num_epochs': 554, 'hidden_size': 67, 'activation': 'leaky_relu', 'optimizer': 'Adam'}. Best is trial 38 with value: 0.48.\u001b[0m\n",
      "\u001b[32m[I 2023-04-22 18:20:04,655]\u001b[0m Trial 56 finished with value: 0.34 and parameters: {'learning_rate': 0.008485438625295853, 'num_epochs': 643, 'hidden_size': 123, 'activation': 'leaky_relu', 'optimizer': 'Adam'}. Best is trial 38 with value: 0.48.\u001b[0m\n",
      "\u001b[32m[I 2023-04-22 18:20:05,275]\u001b[0m Trial 57 finished with value: 0.34 and parameters: {'learning_rate': 0.002694872543973802, 'num_epochs': 194, 'hidden_size': 74, 'activation': 'relu', 'optimizer': 'SGD'}. Best is trial 38 with value: 0.48.\u001b[0m\n",
      "\u001b[32m[I 2023-04-22 18:20:09,417]\u001b[0m Trial 58 finished with value: 0.34 and parameters: {'learning_rate': 0.005585659879702439, 'num_epochs': 1081, 'hidden_size': 89, 'activation': 'elu', 'optimizer': 'Adam'}. Best is trial 38 with value: 0.48.\u001b[0m\n",
      "\u001b[32m[I 2023-04-22 18:20:10,675]\u001b[0m Trial 59 finished with value: 0.36 and parameters: {'learning_rate': 0.0011665302397162183, 'num_epochs': 307, 'hidden_size': 114, 'activation': 'leaky_relu', 'optimizer': 'Adam'}. Best is trial 38 with value: 0.48.\u001b[0m\n",
      "\u001b[32m[I 2023-04-22 18:20:13,331]\u001b[0m Trial 60 finished with value: 0.34 and parameters: {'learning_rate': 0.003981502235629094, 'num_epochs': 745, 'hidden_size': 95, 'activation': 'relu', 'optimizer': 'Adam'}. Best is trial 38 with value: 0.48.\u001b[0m\n",
      "\u001b[32m[I 2023-04-22 18:20:20,343]\u001b[0m Trial 61 finished with value: 0.34 and parameters: {'learning_rate': 2.0634501696301543e-05, 'num_epochs': 1277, 'hidden_size': 124, 'activation': 'leaky_relu', 'optimizer': 'Adam'}. Best is trial 38 with value: 0.48.\u001b[0m\n",
      "\u001b[32m[I 2023-04-22 18:20:26,617]\u001b[0m Trial 62 finished with value: 0.36 and parameters: {'learning_rate': 0.0031321880096775133, 'num_epochs': 1354, 'hidden_size': 119, 'activation': 'leaky_relu', 'optimizer': 'Adam'}. Best is trial 38 with value: 0.48.\u001b[0m\n",
      "\u001b[32m[I 2023-04-22 18:20:32,284]\u001b[0m Trial 63 finished with value: 0.34 and parameters: {'learning_rate': 0.0008219839200151345, 'num_epochs': 1303, 'hidden_size': 128, 'activation': 'leaky_relu', 'optimizer': 'Adam'}. Best is trial 38 with value: 0.48.\u001b[0m\n",
      "\u001b[32m[I 2023-04-22 18:20:37,845]\u001b[0m Trial 64 finished with value: 0.34 and parameters: {'learning_rate': 1.3131445003039353e-05, 'num_epochs': 1498, 'hidden_size': 104, 'activation': 'leaky_relu', 'optimizer': 'Adam'}. Best is trial 38 with value: 0.48.\u001b[0m\n",
      "\u001b[32m[I 2023-04-22 18:20:41,194]\u001b[0m Trial 65 finished with value: 0.16 and parameters: {'learning_rate': 2.9372099273102135e-05, 'num_epochs': 1154, 'hidden_size': 111, 'activation': 'relu', 'optimizer': 'SGD'}. Best is trial 38 with value: 0.48.\u001b[0m\n",
      "\u001b[32m[I 2023-04-22 18:20:44,445]\u001b[0m Trial 66 finished with value: 0.36 and parameters: {'learning_rate': 0.0004196946588726529, 'num_epochs': 928, 'hidden_size': 117, 'activation': 'leaky_relu', 'optimizer': 'Adam'}. Best is trial 38 with value: 0.48.\u001b[0m\n",
      "\u001b[32m[I 2023-04-22 18:20:49,790]\u001b[0m Trial 67 finished with value: 0.34 and parameters: {'learning_rate': 0.0019099186729612705, 'num_epochs': 1476, 'hidden_size': 108, 'activation': 'relu', 'optimizer': 'Adam'}. Best is trial 38 with value: 0.48.\u001b[0m\n",
      "\u001b[32m[I 2023-04-22 18:20:50,098]\u001b[0m Trial 68 finished with value: 0.22 and parameters: {'learning_rate': 5.308872140282495e-05, 'num_epochs': 102, 'hidden_size': 113, 'activation': 'leaky_relu', 'optimizer': 'SGD'}. Best is trial 38 with value: 0.48.\u001b[0m\n",
      "\u001b[32m[I 2023-04-22 18:20:52,054]\u001b[0m Trial 69 finished with value: 0.32 and parameters: {'learning_rate': 3.810508635026436e-05, 'num_epochs': 460, 'hidden_size': 86, 'activation': 'elu', 'optimizer': 'Adam'}. Best is trial 38 with value: 0.48.\u001b[0m\n",
      "\u001b[32m[I 2023-04-22 18:21:01,565]\u001b[0m Trial 70 finished with value: 0.34 and parameters: {'learning_rate': 7.956671051204063e-05, 'num_epochs': 1611, 'hidden_size': 123, 'activation': 'relu', 'optimizer': 'Adam'}. Best is trial 38 with value: 0.48.\u001b[0m\n",
      "\u001b[32m[I 2023-04-22 18:21:02,648]\u001b[0m Trial 71 finished with value: 0.32 and parameters: {'learning_rate': 0.00783413027554878, 'num_epochs': 352, 'hidden_size': 100, 'activation': 'elu', 'optimizer': 'SGD'}. Best is trial 38 with value: 0.48.\u001b[0m\n",
      "\u001b[32m[I 2023-04-22 18:21:04,155]\u001b[0m Trial 72 finished with value: 0.36 and parameters: {'learning_rate': 0.014073560431399021, 'num_epochs': 251, 'hidden_size': 120, 'activation': 'elu', 'optimizer': 'SGD'}. Best is trial 38 with value: 0.48.\u001b[0m\n",
      "\u001b[32m[I 2023-04-22 18:21:07,187]\u001b[0m Trial 73 finished with value: 0.36 and parameters: {'learning_rate': 0.010068668893758681, 'num_epochs': 544, 'hidden_size': 92, 'activation': 'elu', 'optimizer': 'SGD'}. Best is trial 38 with value: 0.48.\u001b[0m\n",
      "\u001b[32m[I 2023-04-22 18:21:09,333]\u001b[0m Trial 74 finished with value: 0.16 and parameters: {'learning_rate': 1.659455793281834e-05, 'num_epochs': 395, 'hidden_size': 128, 'activation': 'elu', 'optimizer': 'SGD'}. Best is trial 38 with value: 0.48.\u001b[0m\n",
      "\u001b[32m[I 2023-04-22 18:21:11,384]\u001b[0m Trial 75 finished with value: 0.38 and parameters: {'learning_rate': 0.006605066192218934, 'num_epochs': 672, 'hidden_size': 83, 'activation': 'leaky_relu', 'optimizer': 'SGD'}. Best is trial 38 with value: 0.48.\u001b[0m\n",
      "\u001b[32m[I 2023-04-22 18:21:14,275]\u001b[0m Trial 76 finished with value: 0.38 and parameters: {'learning_rate': 2.3065646157066594e-05, 'num_epochs': 590, 'hidden_size': 101, 'activation': 'relu', 'optimizer': 'Adam'}. Best is trial 38 with value: 0.48.\u001b[0m\n",
      "\u001b[32m[I 2023-04-22 18:21:21,875]\u001b[0m Trial 77 finished with value: 0.36 and parameters: {'learning_rate': 2.9095550335282766e-05, 'num_epochs': 1730, 'hidden_size': 125, 'activation': 'relu', 'optimizer': 'Adam'}. Best is trial 38 with value: 0.48.\u001b[0m\n",
      "\u001b[32m[I 2023-04-22 18:21:25,325]\u001b[0m Trial 78 finished with value: 0.38 and parameters: {'learning_rate': 0.019109827868121165, 'num_epochs': 747, 'hidden_size': 110, 'activation': 'leaky_relu', 'optimizer': 'SGD'}. Best is trial 38 with value: 0.48.\u001b[0m\n",
      "\u001b[32m[I 2023-04-22 18:21:28,155]\u001b[0m Trial 79 finished with value: 0.3 and parameters: {'learning_rate': 0.010895576190132886, 'num_epochs': 299, 'hidden_size': 96, 'activation': 'elu', 'optimizer': 'Adam'}. Best is trial 38 with value: 0.48.\u001b[0m\n",
      "\u001b[32m[I 2023-04-22 18:21:28,980]\u001b[0m Trial 80 finished with value: 0.3 and parameters: {'learning_rate': 0.0047028044307144135, 'num_epochs': 169, 'hidden_size': 104, 'activation': 'relu', 'optimizer': 'Adam'}. Best is trial 38 with value: 0.48.\u001b[0m\n",
      "\u001b[32m[I 2023-04-22 18:21:32,623]\u001b[0m Trial 81 finished with value: 0.34 and parameters: {'learning_rate': 0.0169979062542969, 'num_epochs': 1935, 'hidden_size': 37, 'activation': 'leaky_relu', 'optimizer': 'SGD'}. Best is trial 38 with value: 0.48.\u001b[0m\n",
      "\u001b[32m[I 2023-04-22 18:21:36,574]\u001b[0m Trial 82 finished with value: 0.32 and parameters: {'learning_rate': 0.07364471294844441, 'num_epochs': 1714, 'hidden_size': 32, 'activation': 'leaky_relu', 'optimizer': 'SGD'}. Best is trial 38 with value: 0.48.\u001b[0m\n",
      "\u001b[32m[I 2023-04-22 18:21:40,282]\u001b[0m Trial 83 finished with value: 0.32 and parameters: {'learning_rate': 0.027640381495884762, 'num_epochs': 1609, 'hidden_size': 47, 'activation': 'leaky_relu', 'optimizer': 'SGD'}. Best is trial 38 with value: 0.48.\u001b[0m\n",
      "\u001b[32m[I 2023-04-22 18:21:43,916]\u001b[0m Trial 84 finished with value: 0.36 and parameters: {'learning_rate': 0.054170157752746036, 'num_epochs': 1544, 'hidden_size': 37, 'activation': 'leaky_relu', 'optimizer': 'SGD'}. Best is trial 38 with value: 0.48.\u001b[0m\n",
      "\u001b[32m[I 2023-04-22 18:21:44,977]\u001b[0m Trial 85 finished with value: 0.26 and parameters: {'learning_rate': 0.014111696421109165, 'num_epochs': 473, 'hidden_size': 25, 'activation': 'leaky_relu', 'optimizer': 'SGD'}. Best is trial 38 with value: 0.48.\u001b[0m\n",
      "\u001b[32m[I 2023-04-22 18:21:47,888]\u001b[0m Trial 86 finished with value: 0.14 and parameters: {'learning_rate': 0.025297762500717167, 'num_epochs': 865, 'hidden_size': 77, 'activation': 'relu', 'optimizer': 'Adam'}. Best is trial 38 with value: 0.48.\u001b[0m\n",
      "\u001b[32m[I 2023-04-22 18:21:55,558]\u001b[0m Trial 87 finished with value: 0.32 and parameters: {'learning_rate': 0.008709428627109272, 'num_epochs': 1438, 'hidden_size': 117, 'activation': 'elu', 'optimizer': 'Adam'}. Best is trial 38 with value: 0.48.\u001b[0m\n",
      "\u001b[32m[I 2023-04-22 18:21:58,068]\u001b[0m Trial 88 finished with value: 0.4 and parameters: {'learning_rate': 0.007013711533041027, 'num_epochs': 425, 'hidden_size': 122, 'activation': 'leaky_relu', 'optimizer': 'SGD'}. Best is trial 38 with value: 0.48.\u001b[0m\n",
      "\u001b[32m[I 2023-04-22 18:21:59,077]\u001b[0m Trial 89 finished with value: 0.3 and parameters: {'learning_rate': 0.0044434728692812914, 'num_epochs': 213, 'hidden_size': 121, 'activation': 'leaky_relu', 'optimizer': 'SGD'}. Best is trial 38 with value: 0.48.\u001b[0m\n",
      "\u001b[32m[I 2023-04-22 18:22:00,153]\u001b[0m Trial 90 finished with value: 0.34 and parameters: {'learning_rate': 0.006440046941171127, 'num_epochs': 410, 'hidden_size': 69, 'activation': 'relu', 'optimizer': 'Adam'}. Best is trial 38 with value: 0.48.\u001b[0m\n",
      "\u001b[32m[I 2023-04-22 18:22:01,203]\u001b[0m Trial 91 finished with value: 0.3 and parameters: {'learning_rate': 0.002795424214865886, 'num_epochs': 342, 'hidden_size': 43, 'activation': 'leaky_relu', 'optimizer': 'SGD'}. Best is trial 38 with value: 0.48.\u001b[0m\n",
      "\u001b[32m[I 2023-04-22 18:22:05,563]\u001b[0m Trial 92 finished with value: 0.42 and parameters: {'learning_rate': 0.0037947427714920016, 'num_epochs': 1661, 'hidden_size': 114, 'activation': 'leaky_relu', 'optimizer': 'SGD'}. Best is trial 38 with value: 0.48.\u001b[0m\n",
      "\u001b[32m[I 2023-04-22 18:22:07,641]\u001b[0m Trial 93 finished with value: 0.34 and parameters: {'learning_rate': 0.005836120692265315, 'num_epochs': 650, 'hidden_size': 114, 'activation': 'leaky_relu', 'optimizer': 'SGD'}. Best is trial 38 with value: 0.48.\u001b[0m\n",
      "\u001b[32m[I 2023-04-22 18:22:09,871]\u001b[0m Trial 94 finished with value: 0.38 and parameters: {'learning_rate': 0.0036207193759408645, 'num_epochs': 782, 'hidden_size': 121, 'activation': 'leaky_relu', 'optimizer': 'SGD'}. Best is trial 38 with value: 0.48.\u001b[0m\n",
      "\u001b[32m[I 2023-04-22 18:22:10,713]\u001b[0m Trial 95 finished with value: 0.38 and parameters: {'learning_rate': 0.003247699934804258, 'num_epochs': 287, 'hidden_size': 117, 'activation': 'leaky_relu', 'optimizer': 'SGD'}. Best is trial 38 with value: 0.48.\u001b[0m\n",
      "\u001b[32m[I 2023-04-22 18:22:14,547]\u001b[0m Trial 96 finished with value: 0.28 and parameters: {'learning_rate': 0.003906020464910217, 'num_epochs': 968, 'hidden_size': 126, 'activation': 'leaky_relu', 'optimizer': 'Adam'}. Best is trial 38 with value: 0.48.\u001b[0m\n",
      "\u001b[32m[I 2023-04-22 18:22:16,090]\u001b[0m Trial 97 finished with value: 0.36 and parameters: {'learning_rate': 0.005025009470753326, 'num_epochs': 521, 'hidden_size': 123, 'activation': 'elu', 'optimizer': 'SGD'}. Best is trial 38 with value: 0.48.\u001b[0m\n",
      "\u001b[32m[I 2023-04-22 18:22:17,392]\u001b[0m Trial 98 finished with value: 0.42 and parameters: {'learning_rate': 0.008020516605486003, 'num_epochs': 441, 'hidden_size': 106, 'activation': 'relu', 'optimizer': 'Adam'}. Best is trial 38 with value: 0.48.\u001b[0m\n",
      "\u001b[32m[I 2023-04-22 18:22:20,987]\u001b[0m Trial 99 finished with value: 0.32 and parameters: {'learning_rate': 0.0019777472882075526, 'num_epochs': 1032, 'hidden_size': 119, 'activation': 'relu', 'optimizer': 'Adam'}. Best is trial 38 with value: 0.48.\u001b[0m\n"
     ]
    },
    {
     "name": "stdout",
     "output_type": "stream",
     "text": [
      "Best trial params: {'learning_rate': 0.0021345711699235683, 'num_epochs': 732, 'hidden_size': 37, 'activation': 'relu', 'optimizer': 'Adam'}\n",
      "Best trial accuracy: 48.00%\n"
     ]
    }
   ],
   "source": [
    "train_MLP(n_trials=100)"
   ]
  },
  {
   "cell_type": "code",
   "execution_count": 10,
   "metadata": {},
   "outputs": [
    {
     "data": {
      "text/plain": [
       "\"\\ntag = 'gpt4freq_all'\\nBest trial params: {'learning_rate': 0.009669058999906542, 'num_epochs': 1671, 'hidden_size': 111, 'activation': 'relu', 'optimizer': 'SGD'}\\nBest trial accuracy: 48.00%\\n\""
      ]
     },
     "execution_count": 10,
     "metadata": {},
     "output_type": "execute_result"
    }
   ],
   "source": [
    "'''\n",
    "tag = 'gpt4freq_all'\n",
    "Best trial params: {'learning_rate': 0.009669058999906542, 'num_epochs': 1671, 'hidden_size': 111, 'activation': 'relu', 'optimizer': 'SGD'}\n",
    "Best trial accuracy: 48.00%\n",
    "\n",
    "tag = 'reproduced_with_bad'\n",
    "Best trial params: {'learning_rate': 0.0021345711699235683, 'num_epochs': 732, 'hidden_size': 37, 'activation': 'relu', 'optimizer': 'Adam'}\n",
    "Best trial accuracy: 48.00%\n",
    "'''\n"
   ]
  }
 ],
 "metadata": {
  "kernelspec": {
   "display_name": "Python 3",
   "language": "python",
   "name": "python3"
  },
  "language_info": {
   "codemirror_mode": {
    "name": "ipython",
    "version": 3
   },
   "file_extension": ".py",
   "mimetype": "text/x-python",
   "name": "python",
   "nbconvert_exporter": "python",
   "pygments_lexer": "ipython3",
   "version": "3.11.0"
  },
  "orig_nbformat": 4,
  "vscode": {
   "interpreter": {
    "hash": "9cefe38f745df9e33a66570f2e5a410ba71c4ae3bf929b6ad1b474ac5f904d76"
   }
  }
 },
 "nbformat": 4,
 "nbformat_minor": 2
}
