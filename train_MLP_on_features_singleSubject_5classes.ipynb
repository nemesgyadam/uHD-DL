{
 "cells": [
  {
   "attachments": {},
   "cell_type": "markdown",
   "metadata": {},
   "source": [
    "Train MLP for all fingers!\\\n",
    "Using hyper param optimalization\n",
    "Data source: \\\n",
    "sliding windowed powers for mu and beta band\\\n",
    "Subject 1"
   ]
  },
  {
   "cell_type": "code",
   "execution_count": 8,
   "metadata": {},
   "outputs": [
    {
     "name": "stdout",
     "output_type": "stream",
     "text": [
      "The autoreload extension is already loaded. To reload it, use:\n",
      "  %reload_ext autoreload\n"
     ]
    }
   ],
   "source": [
    "import os\n",
    "import numpy as np\n",
    "import h5py\n",
    "from scipy import stats\n",
    "import scipy.io\n",
    "import mne\n",
    "\n",
    "mne.set_log_level('error')\n",
    "\n",
    "from random import shuffle\n",
    "from sklearn.model_selection import train_test_split\n",
    "from sklearn.preprocessing import StandardScaler\n",
    "from sklearn.metrics import accuracy_score\n",
    "from sklearn.model_selection import KFold\n",
    "\n",
    "\n",
    "import torch\n",
    "import torch.nn as nn\n",
    "import torch.optim as optim\n",
    "\n",
    "import optuna\n",
    "\n",
    "\n",
    "from utils.load import Load\n",
    "from config.default import cfg\n",
    "\n",
    "%load_ext autoreload\n",
    "%autoreload 2\n"
   ]
  },
  {
   "cell_type": "code",
   "execution_count": 9,
   "metadata": {},
   "outputs": [],
   "source": [
    "subject_id = 0"
   ]
  },
  {
   "cell_type": "code",
   "execution_count": 10,
   "metadata": {},
   "outputs": [
    {
     "name": "stdout",
     "output_type": "stream",
     "text": [
      "index (50, 6732)\n",
      "little (50, 6732)\n",
      "middle (50, 6732)\n",
      "ring (50, 6732)\n",
      "thumb (50, 6732)\n"
     ]
    }
   ],
   "source": [
    "# Load the data  from the HDF5 file\n",
    "target_dir = 'features'\n",
    "file_path = os.path.join(target_dir, cfg['subjects'][subject_id] + '.h5')\n",
    "\n",
    "\n",
    "data = {}\n",
    "with h5py.File(file_path, 'r') as h5file:\n",
    "    for key in h5file.keys():\n",
    "        data[key] = np.array(h5file[key])\n",
    "\n",
    "# Print the loaded data dictionary\n",
    "for key, value in data.items():\n",
    "    print(key, value.shape)"
   ]
  },
  {
   "cell_type": "code",
   "execution_count": 32,
   "metadata": {},
   "outputs": [],
   "source": [
    "class SingleLayerMLP(nn.Module):\n",
    "    def __init__(self, input_size, hidden_size, output_size, activation):\n",
    "        super(SingleLayerMLP, self).__init__()\n",
    "        self.fc1 = nn.Linear(input_size, hidden_size)\n",
    "        self.activation = activation\n",
    "        self.fc2 = nn.Linear(hidden_size, output_size)\n",
    "\n",
    "    def forward(self, x):\n",
    "        x = self.fc1(x)\n",
    "        x = self.activation(x)\n",
    "        x = self.fc2(x)\n",
    "        x = nn.Softmax(dim=1)(x)\n",
    "        return x"
   ]
  },
  {
   "cell_type": "code",
   "execution_count": 33,
   "metadata": {},
   "outputs": [
    {
     "data": {
      "text/plain": [
       "dict_keys(['index', 'little', 'middle', 'ring', 'thumb'])"
      ]
     },
     "execution_count": 33,
     "metadata": {},
     "output_type": "execute_result"
    }
   ],
   "source": [
    "data.keys()"
   ]
  },
  {
   "cell_type": "code",
   "execution_count": 34,
   "metadata": {},
   "outputs": [],
   "source": [
    "def train(X_train, y_train, X_test, y_test, model, criterion, optimizer, num_epochs=100):\n",
    "    X_train = torch.tensor(X_train, dtype=torch.float32)\n",
    "    X_test = torch.tensor(X_test, dtype=torch.float32)\n",
    "    y_train = torch.tensor(y_train, dtype=torch.long)\n",
    "    y_test = torch.tensor(y_test, dtype=torch.long)\n",
    "\n",
    "\n",
    "    for epoch in range(num_epochs):\n",
    "        optimizer.zero_grad()\n",
    "        outputs = model(X_train)\n",
    "        loss = criterion(outputs, y_train)\n",
    "        loss.backward()\n",
    "        optimizer.step()\n",
    "\n",
    "        # # Shuffle X and y together\n",
    "        p = np.random.permutation(len(X_train))\n",
    "        X_train, y_train = X_train[p], y_train[p]\n",
    "\n",
    "    with torch.no_grad():\n",
    "        y_pred = model(X_test)\n",
    "        y_pred = torch.argmax(y_pred, dim=1)\n",
    "\n",
    "    acc = accuracy_score(y_test, y_pred)\n",
    "    return acc\n",
    "\n",
    "def objective(trial, X, y):\n",
    "    learning_rate = trial.suggest_float(\"learning_rate\", 1e-5, 1e-1, log=True)\n",
    "    num_epochs = trial.suggest_int(\"num_epochs\", 100, 2000)\n",
    "    hidden_size = trial.suggest_int(\"hidden_size\", 16, 128)\n",
    "    activation_name = trial.suggest_categorical(\"activation\", [\"relu\", \"elu\", \"leaky_relu\"])\n",
    "    optimizer = trial.suggest_categorical(\"optimizer\", [\"SGD\", \"Adam\"])\n",
    "\n",
    "    if activation_name == \"relu\":\n",
    "        activation = nn.ReLU()\n",
    "    elif activation_name == \"elu\":\n",
    "        activation = nn.ELU()\n",
    "    elif activation_name == \"leaky_relu\":\n",
    "        activation = nn.LeakyReLU()\n",
    "\n",
    "    if optimizer == \"SGD\":\n",
    "        optimizer = optim.SGD\n",
    "    elif optimizer == \"Adam\":\n",
    "        optimizer = optim.Adam\n",
    "\n",
    "    train_X, test_X, train_y, test_y = train_test_split(X, y, test_size=0.2, random_state=42)\n",
    "    model = SingleLayerMLP(train_X.shape[1], hidden_size, 5, activation)\n",
    "    criterion = nn.CrossEntropyLoss()\n",
    "    optimizer = optimizer(model.parameters(), lr=learning_rate)\n",
    "    return train(train_X, train_y, test_X, test_y, model, criterion, optimizer, num_epochs=num_epochs)\n",
    "\n",
    "    # kf = KFold(n_splits=10, shuffle=True, random_state=42)\n",
    "    # fold_accuracies = []\n",
    "\n",
    "    # for train_index, test_index in kf.split(X):\n",
    "    #     X_train, X_test = X[train_index], X[test_index]\n",
    "    #     y_train, y_test = y[train_index], y[test_index]\n",
    "\n",
    "    #     model = SingleLayerMLP(X_train.shape[1], hidden_size, 2, activation)\n",
    "    #     criterion = nn.CrossEntropyLoss()\n",
    "    #     optimizer = optimizer(model.parameters(), lr=learning_rate)\n",
    "    #     acc = train(X_train, y_train, X_test, y_test, model, criterion, optimizer, num_epochs=num_epochs)\n",
    "    #     fold_accuracies.append(acc)\n",
    "\n",
    "    # mean_accuracy = np.mean(fold_accuracies)\n",
    "    # return mean_accuracy\n",
    "\n",
    "def train_MLP(verbose = True):\n",
    "    # Convert data into numpy arrays\n",
    "    X = np.concatenate(list(data.values()), axis=0)\n",
    "    y = np.concatenate([np.ones(data[finger].shape[0]) * i for i, finger in enumerate(data)], axis=0)\n",
    "\n",
    "    # Shuffle X and y together\n",
    "    # p = np.random.permutation(len(X))\n",
    "    # X, y = X[p], y[p]\n",
    "\n",
    "    scaler = StandardScaler()\n",
    "    X = scaler.fit_transform(X)\n",
    "\n",
    "    study = optuna.create_study(direction=\"maximize\")\n",
    "    study.optimize(lambda trial: objective(trial, X, y), n_trials=100)\n",
    "\n",
    "    best_trial = study.best_trial\n",
    "\n",
    "    print(f'Best trial params: {best_trial.params}')\n",
    "    print(f'Best trial accuracy: {best_trial.value * 100:.2f}%')\n",
    "\n"
   ]
  },
  {
   "cell_type": "code",
   "execution_count": 35,
   "metadata": {},
   "outputs": [
    {
     "name": "stderr",
     "output_type": "stream",
     "text": [
      "\u001b[32m[I 2023-04-14 17:37:03,225]\u001b[0m A new study created in memory with name: no-name-683cb7b0-cf6c-495c-8da9-e6dd95977dad\u001b[0m\n",
      "\u001b[32m[I 2023-04-14 17:37:05,282]\u001b[0m Trial 0 finished with value: 0.28 and parameters: {'learning_rate': 0.05398139258952086, 'num_epochs': 417, 'hidden_size': 19, 'activation': 'elu', 'optimizer': 'Adam'}. Best is trial 0 with value: 0.28.\u001b[0m\n",
      "\u001b[32m[I 2023-04-14 17:37:11,322]\u001b[0m Trial 1 finished with value: 0.24 and parameters: {'learning_rate': 8.170193615853764e-05, 'num_epochs': 1131, 'hidden_size': 58, 'activation': 'relu', 'optimizer': 'SGD'}. Best is trial 0 with value: 0.28.\u001b[0m\n",
      "\u001b[32m[I 2023-04-14 17:37:23,848]\u001b[0m Trial 2 finished with value: 0.26 and parameters: {'learning_rate': 4.113958378658848e-05, 'num_epochs': 1270, 'hidden_size': 124, 'activation': 'leaky_relu', 'optimizer': 'SGD'}. Best is trial 0 with value: 0.28.\u001b[0m\n",
      "\u001b[32m[I 2023-04-14 17:37:28,701]\u001b[0m Trial 3 finished with value: 0.16 and parameters: {'learning_rate': 5.6167326109395136e-05, 'num_epochs': 1452, 'hidden_size': 20, 'activation': 'relu', 'optimizer': 'SGD'}. Best is trial 0 with value: 0.28.\u001b[0m\n",
      "\u001b[32m[I 2023-04-14 17:37:34,533]\u001b[0m Trial 4 finished with value: 0.36 and parameters: {'learning_rate': 0.008459589029963977, 'num_epochs': 1012, 'hidden_size': 81, 'activation': 'leaky_relu', 'optimizer': 'SGD'}. Best is trial 4 with value: 0.36.\u001b[0m\n",
      "\u001b[32m[I 2023-04-14 17:37:48,508]\u001b[0m Trial 5 finished with value: 0.46 and parameters: {'learning_rate': 0.008098366389804932, 'num_epochs': 1988, 'hidden_size': 103, 'activation': 'elu', 'optimizer': 'SGD'}. Best is trial 5 with value: 0.46.\u001b[0m\n",
      "\u001b[32m[I 2023-04-14 17:37:51,864]\u001b[0m Trial 6 finished with value: 0.42 and parameters: {'learning_rate': 0.0032175140780920687, 'num_epochs': 689, 'hidden_size': 31, 'activation': 'leaky_relu', 'optimizer': 'Adam'}. Best is trial 5 with value: 0.46.\u001b[0m\n",
      "\u001b[32m[I 2023-04-14 17:37:54,529]\u001b[0m Trial 7 finished with value: 0.3 and parameters: {'learning_rate': 0.09551222413581938, 'num_epochs': 312, 'hidden_size': 47, 'activation': 'elu', 'optimizer': 'Adam'}. Best is trial 5 with value: 0.46.\u001b[0m\n",
      "\u001b[32m[I 2023-04-14 17:37:56,672]\u001b[0m Trial 8 finished with value: 0.44 and parameters: {'learning_rate': 0.0009824331803375838, 'num_epochs': 216, 'hidden_size': 103, 'activation': 'relu', 'optimizer': 'Adam'}. Best is trial 5 with value: 0.46.\u001b[0m\n",
      "\u001b[32m[I 2023-04-14 17:38:07,969]\u001b[0m Trial 9 finished with value: 0.28 and parameters: {'learning_rate': 0.06635918524018992, 'num_epochs': 1245, 'hidden_size': 67, 'activation': 'relu', 'optimizer': 'Adam'}. Best is trial 5 with value: 0.46.\u001b[0m\n",
      "\u001b[32m[I 2023-04-14 17:38:19,987]\u001b[0m Trial 10 finished with value: 0.36 and parameters: {'learning_rate': 0.0004930025701367599, 'num_epochs': 1813, 'hidden_size': 93, 'activation': 'elu', 'optimizer': 'SGD'}. Best is trial 5 with value: 0.46.\u001b[0m\n",
      "\u001b[32m[I 2023-04-14 17:38:40,190]\u001b[0m Trial 11 finished with value: 0.38 and parameters: {'learning_rate': 0.0008348600994114669, 'num_epochs': 1996, 'hidden_size': 111, 'activation': 'relu', 'optimizer': 'Adam'}. Best is trial 5 with value: 0.46.\u001b[0m\n",
      "\u001b[32m[I 2023-04-14 17:38:41,212]\u001b[0m Trial 12 finished with value: 0.32 and parameters: {'learning_rate': 0.003938464302500673, 'num_epochs': 145, 'hidden_size': 100, 'activation': 'elu', 'optimizer': 'SGD'}. Best is trial 5 with value: 0.46.\u001b[0m\n",
      "\u001b[32m[I 2023-04-14 17:38:50,481]\u001b[0m Trial 13 finished with value: 0.3 and parameters: {'learning_rate': 0.01211722292712181, 'num_epochs': 737, 'hidden_size': 127, 'activation': 'relu', 'optimizer': 'Adam'}. Best is trial 5 with value: 0.46.\u001b[0m\n",
      "\u001b[32m[I 2023-04-14 17:39:04,540]\u001b[0m Trial 14 finished with value: 0.38 and parameters: {'learning_rate': 0.0002697075369200213, 'num_epochs': 1550, 'hidden_size': 89, 'activation': 'elu', 'optimizer': 'Adam'}. Best is trial 5 with value: 0.46.\u001b[0m\n",
      "\u001b[32m[I 2023-04-14 17:39:10,230]\u001b[0m Trial 15 finished with value: 0.36 and parameters: {'learning_rate': 0.0012347808135396193, 'num_epochs': 852, 'hidden_size': 108, 'activation': 'relu', 'optimizer': 'SGD'}. Best is trial 5 with value: 0.46.\u001b[0m\n",
      "\u001b[32m[I 2023-04-14 17:39:19,882]\u001b[0m Trial 16 finished with value: 0.2 and parameters: {'learning_rate': 1.2546118701015693e-05, 'num_epochs': 1675, 'hidden_size': 73, 'activation': 'elu', 'optimizer': 'SGD'}. Best is trial 5 with value: 0.46.\u001b[0m\n",
      "\u001b[32m[I 2023-04-14 17:39:27,016]\u001b[0m Trial 17 finished with value: 0.28 and parameters: {'learning_rate': 0.02006431817606142, 'num_epochs': 545, 'hidden_size': 112, 'activation': 'elu', 'optimizer': 'Adam'}. Best is trial 5 with value: 0.46.\u001b[0m\n",
      "\u001b[32m[I 2023-04-14 17:39:32,910]\u001b[0m Trial 18 finished with value: 0.38 and parameters: {'learning_rate': 0.002177348041935245, 'num_epochs': 995, 'hidden_size': 96, 'activation': 'relu', 'optimizer': 'SGD'}. Best is trial 5 with value: 0.46.\u001b[0m\n",
      "\u001b[32m[I 2023-04-14 17:39:34,183]\u001b[0m Trial 19 finished with value: 0.28 and parameters: {'learning_rate': 0.004211383222693792, 'num_epochs': 146, 'hidden_size': 81, 'activation': 'leaky_relu', 'optimizer': 'Adam'}. Best is trial 5 with value: 0.46.\u001b[0m\n",
      "\u001b[32m[I 2023-04-14 17:39:48,962]\u001b[0m Trial 20 finished with value: 0.42 and parameters: {'learning_rate': 0.023248026590482748, 'num_epochs': 1921, 'hidden_size': 118, 'activation': 'elu', 'optimizer': 'SGD'}. Best is trial 5 with value: 0.46.\u001b[0m\n",
      "\u001b[32m[I 2023-04-14 17:39:52,184]\u001b[0m Trial 21 finished with value: 0.36 and parameters: {'learning_rate': 0.0027401380854726633, 'num_epochs': 656, 'hidden_size': 36, 'activation': 'leaky_relu', 'optimizer': 'Adam'}. Best is trial 5 with value: 0.46.\u001b[0m\n",
      "\u001b[32m[I 2023-04-14 17:39:54,201]\u001b[0m Trial 22 finished with value: 0.36 and parameters: {'learning_rate': 0.008490506831046983, 'num_epochs': 387, 'hidden_size': 36, 'activation': 'leaky_relu', 'optimizer': 'Adam'}. Best is trial 5 with value: 0.46.\u001b[0m\n",
      "\u001b[32m[I 2023-04-14 17:39:59,751]\u001b[0m Trial 23 finished with value: 0.42 and parameters: {'learning_rate': 0.001209475734471263, 'num_epochs': 813, 'hidden_size': 58, 'activation': 'leaky_relu', 'optimizer': 'Adam'}. Best is trial 5 with value: 0.46.\u001b[0m\n",
      "\u001b[32m[I 2023-04-14 17:40:06,777]\u001b[0m Trial 24 finished with value: 0.34 and parameters: {'learning_rate': 0.004848769518253316, 'num_epochs': 568, 'hidden_size': 105, 'activation': 'leaky_relu', 'optimizer': 'Adam'}. Best is trial 5 with value: 0.46.\u001b[0m\n",
      "\u001b[32m[I 2023-04-14 17:40:08,977]\u001b[0m Trial 25 finished with value: 0.4 and parameters: {'learning_rate': 0.0020554678586642804, 'num_epochs': 252, 'hidden_size': 81, 'activation': 'leaky_relu', 'optimizer': 'Adam'}. Best is trial 5 with value: 0.46.\u001b[0m\n",
      "\u001b[32m[I 2023-04-14 17:40:11,512]\u001b[0m Trial 26 finished with value: 0.32 and parameters: {'learning_rate': 0.0005153088857953942, 'num_epochs': 516, 'hidden_size': 30, 'activation': 'relu', 'optimizer': 'Adam'}. Best is trial 5 with value: 0.46.\u001b[0m\n",
      "\u001b[32m[I 2023-04-14 17:40:22,054]\u001b[0m Trial 27 finished with value: 0.32 and parameters: {'learning_rate': 0.006075024963841702, 'num_epochs': 881, 'hidden_size': 66, 'activation': 'elu', 'optimizer': 'Adam'}. Best is trial 5 with value: 0.46.\u001b[0m\n",
      "\u001b[32m[I 2023-04-14 17:40:32,190]\u001b[0m Trial 28 finished with value: 0.38 and parameters: {'learning_rate': 0.0020887915324439557, 'num_epochs': 1485, 'hidden_size': 87, 'activation': 'leaky_relu', 'optimizer': 'SGD'}. Best is trial 5 with value: 0.46.\u001b[0m\n",
      "\u001b[32m[I 2023-04-14 17:40:34,130]\u001b[0m Trial 29 finished with value: 0.4 and parameters: {'learning_rate': 0.04111716224709236, 'num_epochs': 431, 'hidden_size': 17, 'activation': 'relu', 'optimizer': 'Adam'}. Best is trial 5 with value: 0.46.\u001b[0m\n",
      "\u001b[32m[I 2023-04-14 17:40:48,793]\u001b[0m Trial 30 finished with value: 0.36 and parameters: {'learning_rate': 0.01148817332764244, 'num_epochs': 1173, 'hidden_size': 101, 'activation': 'elu', 'optimizer': 'Adam'}. Best is trial 5 with value: 0.46.\u001b[0m\n",
      "\u001b[32m[I 2023-04-14 17:41:04,858]\u001b[0m Trial 31 finished with value: 0.44 and parameters: {'learning_rate': 0.025023175079974654, 'num_epochs': 1978, 'hidden_size': 120, 'activation': 'elu', 'optimizer': 'SGD'}. Best is trial 5 with value: 0.46.\u001b[0m\n",
      "\u001b[32m[I 2023-04-14 17:41:19,816]\u001b[0m Trial 32 finished with value: 0.38 and parameters: {'learning_rate': 0.025365273243423008, 'num_epochs': 1862, 'hidden_size': 120, 'activation': 'elu', 'optimizer': 'SGD'}. Best is trial 5 with value: 0.46.\u001b[0m\n",
      "\u001b[32m[I 2023-04-14 17:41:33,444]\u001b[0m Trial 33 finished with value: 0.36 and parameters: {'learning_rate': 0.015105379103023685, 'num_epochs': 1730, 'hidden_size': 115, 'activation': 'elu', 'optimizer': 'SGD'}. Best is trial 5 with value: 0.46.\u001b[0m\n",
      "\u001b[32m[I 2023-04-14 17:41:45,023]\u001b[0m Trial 34 finished with value: 0.44 and parameters: {'learning_rate': 0.03867185271748854, 'num_epochs': 1389, 'hidden_size': 126, 'activation': 'elu', 'optimizer': 'SGD'}. Best is trial 5 with value: 0.46.\u001b[0m\n",
      "\u001b[32m[I 2023-04-14 17:42:00,489]\u001b[0m Trial 35 finished with value: 0.42 and parameters: {'learning_rate': 0.03842649963661072, 'num_epochs': 1620, 'hidden_size': 127, 'activation': 'elu', 'optimizer': 'SGD'}. Best is trial 5 with value: 0.46.\u001b[0m\n",
      "\u001b[32m[I 2023-04-14 17:42:12,579]\u001b[0m Trial 36 finished with value: 0.44 and parameters: {'learning_rate': 0.05503486088229281, 'num_epochs': 1363, 'hidden_size': 118, 'activation': 'elu', 'optimizer': 'SGD'}. Best is trial 5 with value: 0.46.\u001b[0m\n",
      "\u001b[32m[I 2023-04-14 17:42:25,751]\u001b[0m Trial 37 finished with value: 0.4 and parameters: {'learning_rate': 0.031893806839841526, 'num_epochs': 1384, 'hidden_size': 122, 'activation': 'elu', 'optimizer': 'SGD'}. Best is trial 5 with value: 0.46.\u001b[0m\n",
      "\u001b[32m[I 2023-04-14 17:42:42,943]\u001b[0m Trial 38 finished with value: 0.4 and parameters: {'learning_rate': 0.09472882974692094, 'num_epochs': 1767, 'hidden_size': 105, 'activation': 'elu', 'optimizer': 'SGD'}. Best is trial 5 with value: 0.46.\u001b[0m\n",
      "\u001b[32m[I 2023-04-14 17:43:02,158]\u001b[0m Trial 39 finished with value: 0.42 and parameters: {'learning_rate': 0.016862652339534306, 'num_epochs': 1943, 'hidden_size': 114, 'activation': 'relu', 'optimizer': 'SGD'}. Best is trial 5 with value: 0.46.\u001b[0m\n",
      "\u001b[32m[I 2023-04-14 17:43:19,298]\u001b[0m Trial 40 finished with value: 0.44 and parameters: {'learning_rate': 0.006197327763607658, 'num_epochs': 1626, 'hidden_size': 128, 'activation': 'elu', 'optimizer': 'SGD'}. Best is trial 5 with value: 0.46.\u001b[0m\n",
      "\u001b[32m[I 2023-04-14 17:43:32,775]\u001b[0m Trial 41 finished with value: 0.4 and parameters: {'learning_rate': 0.056539588003476485, 'num_epochs': 1342, 'hidden_size': 120, 'activation': 'elu', 'optimizer': 'SGD'}. Best is trial 5 with value: 0.46.\u001b[0m\n",
      "\u001b[32m[I 2023-04-14 17:43:42,448]\u001b[0m Trial 42 finished with value: 0.4 and parameters: {'learning_rate': 0.05662325244261517, 'num_epochs': 1105, 'hidden_size': 102, 'activation': 'elu', 'optimizer': 'SGD'}. Best is trial 5 with value: 0.46.\u001b[0m\n",
      "\u001b[32m[I 2023-04-14 17:43:56,199]\u001b[0m Trial 43 finished with value: 0.38 and parameters: {'learning_rate': 0.0300403770370934, 'num_epochs': 1235, 'hidden_size': 108, 'activation': 'elu', 'optimizer': 'SGD'}. Best is trial 5 with value: 0.46.\u001b[0m\n",
      "\u001b[32m[I 2023-04-14 17:44:13,627]\u001b[0m Trial 44 finished with value: 0.42 and parameters: {'learning_rate': 0.04304403661379708, 'num_epochs': 1857, 'hidden_size': 116, 'activation': 'elu', 'optimizer': 'SGD'}. Best is trial 5 with value: 0.46.\u001b[0m\n",
      "\u001b[32m[I 2023-04-14 17:44:33,277]\u001b[0m Trial 45 finished with value: 0.4 and parameters: {'learning_rate': 0.010729765047058025, 'num_epochs': 1998, 'hidden_size': 95, 'activation': 'elu', 'optimizer': 'SGD'}. Best is trial 5 with value: 0.46.\u001b[0m\n",
      "\u001b[32m[I 2023-04-14 17:44:48,447]\u001b[0m Trial 46 finished with value: 0.4 and parameters: {'learning_rate': 0.07378825087444807, 'num_epochs': 1522, 'hidden_size': 124, 'activation': 'relu', 'optimizer': 'SGD'}. Best is trial 5 with value: 0.46.\u001b[0m\n",
      "\u001b[32m[I 2023-04-14 17:45:01,937]\u001b[0m Trial 47 finished with value: 0.42 and parameters: {'learning_rate': 0.0173724900027995, 'num_epochs': 1400, 'hidden_size': 112, 'activation': 'elu', 'optimizer': 'SGD'}. Best is trial 5 with value: 0.46.\u001b[0m\n",
      "\u001b[32m[I 2023-04-14 17:45:10,911]\u001b[0m Trial 48 finished with value: 0.38 and parameters: {'learning_rate': 0.024912052461213884, 'num_epochs': 1010, 'hidden_size': 108, 'activation': 'relu', 'optimizer': 'SGD'}. Best is trial 5 with value: 0.46.\u001b[0m\n",
      "\u001b[32m[I 2023-04-14 17:45:27,236]\u001b[0m Trial 49 finished with value: 0.42 and parameters: {'learning_rate': 0.09220359964449823, 'num_epochs': 1673, 'hidden_size': 90, 'activation': 'elu', 'optimizer': 'SGD'}. Best is trial 5 with value: 0.46.\u001b[0m\n",
      "\u001b[32m[I 2023-04-14 17:45:44,903]\u001b[0m Trial 50 finished with value: 0.38 and parameters: {'learning_rate': 0.045689752417254, 'num_epochs': 1573, 'hidden_size': 124, 'activation': 'elu', 'optimizer': 'SGD'}. Best is trial 5 with value: 0.46.\u001b[0m\n",
      "\u001b[32m[I 2023-04-14 17:45:57,328]\u001b[0m Trial 51 finished with value: 0.38 and parameters: {'learning_rate': 0.013850550405923789, 'num_epochs': 1299, 'hidden_size': 128, 'activation': 'elu', 'optimizer': 'SGD'}. Best is trial 5 with value: 0.46.\u001b[0m\n",
      "\u001b[32m[I 2023-04-14 17:46:17,319]\u001b[0m Trial 52 finished with value: 0.4 and parameters: {'learning_rate': 0.007012210261749641, 'num_epochs': 1769, 'hidden_size': 118, 'activation': 'elu', 'optimizer': 'SGD'}. Best is trial 5 with value: 0.46.\u001b[0m\n",
      "\u001b[32m[I 2023-04-14 17:46:34,489]\u001b[0m Trial 53 finished with value: 0.4 and parameters: {'learning_rate': 0.020450099973542114, 'num_epochs': 1641, 'hidden_size': 128, 'activation': 'elu', 'optimizer': 'SGD'}. Best is trial 5 with value: 0.46.\u001b[0m\n",
      "\u001b[32m[I 2023-04-14 17:46:54,604]\u001b[0m Trial 54 finished with value: 0.42 and parameters: {'learning_rate': 0.009592348223797979, 'num_epochs': 1883, 'hidden_size': 123, 'activation': 'elu', 'optimizer': 'SGD'}. Best is trial 5 with value: 0.46.\u001b[0m\n",
      "\u001b[32m[I 2023-04-14 17:47:10,168]\u001b[0m Trial 55 finished with value: 0.4 and parameters: {'learning_rate': 0.006621466244834644, 'num_epochs': 1452, 'hidden_size': 112, 'activation': 'elu', 'optimizer': 'SGD'}. Best is trial 5 with value: 0.46.\u001b[0m\n",
      "\u001b[32m[I 2023-04-14 17:47:19,891]\u001b[0m Trial 56 finished with value: 0.36 and parameters: {'learning_rate': 0.03211727111700435, 'num_epochs': 1203, 'hidden_size': 98, 'activation': 'relu', 'optimizer': 'SGD'}. Best is trial 5 with value: 0.46.\u001b[0m\n",
      "\u001b[32m[I 2023-04-14 17:47:31,274]\u001b[0m Trial 57 finished with value: 0.44 and parameters: {'learning_rate': 0.0033431814776533784, 'num_epochs': 934, 'hidden_size': 118, 'activation': 'elu', 'optimizer': 'SGD'}. Best is trial 5 with value: 0.46.\u001b[0m\n",
      "\u001b[32m[I 2023-04-14 17:47:45,471]\u001b[0m Trial 58 finished with value: 0.44 and parameters: {'learning_rate': 0.06615422218578318, 'num_epochs': 1584, 'hidden_size': 105, 'activation': 'elu', 'optimizer': 'SGD'}. Best is trial 5 with value: 0.46.\u001b[0m\n",
      "\u001b[32m[I 2023-04-14 17:47:55,037]\u001b[0m Trial 59 finished with value: 0.4 and parameters: {'learning_rate': 0.0055468764307328375, 'num_epochs': 1088, 'hidden_size': 74, 'activation': 'relu', 'optimizer': 'SGD'}. Best is trial 5 with value: 0.46.\u001b[0m\n",
      "\u001b[32m[I 2023-04-14 17:48:10,956]\u001b[0m Trial 60 finished with value: 0.36 and parameters: {'learning_rate': 0.008917286552721872, 'num_epochs': 1721, 'hidden_size': 109, 'activation': 'elu', 'optimizer': 'SGD'}. Best is trial 5 with value: 0.46.\u001b[0m\n",
      "\u001b[32m[I 2023-04-14 17:48:21,757]\u001b[0m Trial 61 finished with value: 0.4 and parameters: {'learning_rate': 0.0037334183797961247, 'num_epochs': 940, 'hidden_size': 116, 'activation': 'elu', 'optimizer': 'SGD'}. Best is trial 5 with value: 0.46.\u001b[0m\n",
      "\u001b[32m[I 2023-04-14 17:48:41,060]\u001b[0m Trial 62 finished with value: 0.36 and parameters: {'learning_rate': 0.0028704288623902985, 'num_epochs': 1934, 'hidden_size': 120, 'activation': 'elu', 'optimizer': 'SGD'}. Best is trial 5 with value: 0.46.\u001b[0m\n",
      "\u001b[32m[I 2023-04-14 17:48:43,747]\u001b[0m Trial 63 finished with value: 0.34 and parameters: {'learning_rate': 0.004122519695110645, 'num_epochs': 210, 'hidden_size': 125, 'activation': 'elu', 'optimizer': 'SGD'}. Best is trial 5 with value: 0.46.\u001b[0m\n",
      "\u001b[32m[I 2023-04-14 17:49:03,032]\u001b[0m Trial 64 finished with value: 0.34 and parameters: {'learning_rate': 0.0017722313242982083, 'num_epochs': 1283, 'hidden_size': 118, 'activation': 'elu', 'optimizer': 'Adam'}. Best is trial 5 with value: 0.46.\u001b[0m\n",
      "\u001b[32m[I 2023-04-14 17:49:25,740]\u001b[0m Trial 65 finished with value: 0.4 and parameters: {'learning_rate': 0.012703413777598758, 'num_epochs': 1808, 'hidden_size': 122, 'activation': 'elu', 'optimizer': 'SGD'}. Best is trial 5 with value: 0.46.\u001b[0m\n",
      "\u001b[32m[I 2023-04-14 17:49:32,041]\u001b[0m Trial 66 finished with value: 0.38 and parameters: {'learning_rate': 0.007844751319093554, 'num_epochs': 729, 'hidden_size': 114, 'activation': 'relu', 'optimizer': 'SGD'}. Best is trial 5 with value: 0.46.\u001b[0m\n",
      "\u001b[32m[I 2023-04-14 17:49:53,639]\u001b[0m Trial 67 finished with value: 0.34 and parameters: {'learning_rate': 0.000835518881130072, 'num_epochs': 1449, 'hidden_size': 104, 'activation': 'elu', 'optimizer': 'Adam'}. Best is trial 5 with value: 0.46.\u001b[0m\n",
      "\u001b[32m[I 2023-04-14 17:50:03,917]\u001b[0m Trial 68 finished with value: 0.42 and parameters: {'learning_rate': 0.00461309366355416, 'num_epochs': 1156, 'hidden_size': 110, 'activation': 'elu', 'optimizer': 'SGD'}. Best is trial 5 with value: 0.46.\u001b[0m\n",
      "\u001b[32m[I 2023-04-14 17:50:08,440]\u001b[0m Trial 69 finished with value: 0.3 and parameters: {'learning_rate': 0.020043399331563946, 'num_epochs': 339, 'hidden_size': 91, 'activation': 'leaky_relu', 'optimizer': 'Adam'}. Best is trial 5 with value: 0.46.\u001b[0m\n",
      "\u001b[32m[I 2023-04-14 17:50:20,455]\u001b[0m Trial 70 finished with value: 0.42 and parameters: {'learning_rate': 0.0031664591887768457, 'num_epochs': 1505, 'hidden_size': 53, 'activation': 'elu', 'optimizer': 'SGD'}. Best is trial 5 with value: 0.46.\u001b[0m\n",
      "\u001b[32m[I 2023-04-14 17:50:34,953]\u001b[0m Trial 71 finished with value: 0.4 and parameters: {'learning_rate': 0.06931320345939898, 'num_epochs': 1605, 'hidden_size': 101, 'activation': 'elu', 'optimizer': 'SGD'}. Best is trial 5 with value: 0.46.\u001b[0m\n",
      "\u001b[32m[I 2023-04-14 17:50:50,540]\u001b[0m Trial 72 finished with value: 0.42 and parameters: {'learning_rate': 0.03225031261639917, 'num_epochs': 1380, 'hidden_size': 106, 'activation': 'elu', 'optimizer': 'SGD'}. Best is trial 5 with value: 0.46.\u001b[0m\n",
      "\u001b[32m[I 2023-04-14 17:51:03,310]\u001b[0m Trial 73 finished with value: 0.38 and parameters: {'learning_rate': 0.05093487435000556, 'num_epochs': 1705, 'hidden_size': 120, 'activation': 'elu', 'optimizer': 'SGD'}. Best is trial 5 with value: 0.46.\u001b[0m\n",
      "\u001b[32m[I 2023-04-14 17:51:13,349]\u001b[0m Trial 74 finished with value: 0.4 and parameters: {'learning_rate': 0.06351381718648187, 'num_epochs': 1576, 'hidden_size': 87, 'activation': 'elu', 'optimizer': 'SGD'}. Best is trial 5 with value: 0.46.\u001b[0m\n",
      "\u001b[32m[I 2023-04-14 17:51:17,600]\u001b[0m Trial 75 finished with value: 0.42 and parameters: {'learning_rate': 0.015541067202304974, 'num_epochs': 639, 'hidden_size': 97, 'activation': 'elu', 'optimizer': 'SGD'}. Best is trial 5 with value: 0.46.\u001b[0m\n",
      "\u001b[32m[I 2023-04-14 17:51:30,832]\u001b[0m Trial 76 finished with value: 0.4 and parameters: {'learning_rate': 0.03983378681930864, 'num_epochs': 1798, 'hidden_size': 125, 'activation': 'relu', 'optimizer': 'SGD'}. Best is trial 5 with value: 0.46.\u001b[0m\n",
      "\u001b[32m[I 2023-04-14 17:52:02,084]\u001b[0m Trial 77 finished with value: 0.18 and parameters: {'learning_rate': 0.02247120039386109, 'num_epochs': 1984, 'hidden_size': 116, 'activation': 'elu', 'optimizer': 'Adam'}. Best is trial 5 with value: 0.46.\u001b[0m\n",
      "\u001b[32m[I 2023-04-14 17:52:11,974]\u001b[0m Trial 78 finished with value: 0.36 and parameters: {'learning_rate': 0.005618254474611005, 'num_epochs': 1333, 'hidden_size': 111, 'activation': 'elu', 'optimizer': 'SGD'}. Best is trial 5 with value: 0.46.\u001b[0m\n",
      "\u001b[32m[I 2023-04-14 17:52:20,142]\u001b[0m Trial 79 finished with value: 0.36 and parameters: {'learning_rate': 0.0790011128728319, 'num_epochs': 1445, 'hidden_size': 84, 'activation': 'leaky_relu', 'optimizer': 'SGD'}. Best is trial 5 with value: 0.46.\u001b[0m\n",
      "\u001b[32m[I 2023-04-14 17:52:32,510]\u001b[0m Trial 80 finished with value: 0.4 and parameters: {'learning_rate': 0.05271534239700977, 'num_epochs': 1889, 'hidden_size': 94, 'activation': 'elu', 'optimizer': 'SGD'}. Best is trial 5 with value: 0.46.\u001b[0m\n",
      "\u001b[32m[I 2023-04-14 17:52:37,798]\u001b[0m Trial 81 finished with value: 0.42 and parameters: {'learning_rate': 0.0016502234996507614, 'num_epochs': 912, 'hidden_size': 42, 'activation': 'leaky_relu', 'optimizer': 'Adam'}. Best is trial 5 with value: 0.46.\u001b[0m\n",
      "\u001b[32m[I 2023-04-14 17:52:41,128]\u001b[0m Trial 82 finished with value: 0.36 and parameters: {'learning_rate': 0.0025248908459909337, 'num_epochs': 799, 'hidden_size': 22, 'activation': 'leaky_relu', 'optimizer': 'Adam'}. Best is trial 5 with value: 0.46.\u001b[0m\n",
      "\u001b[32m[I 2023-04-14 17:52:45,192]\u001b[0m Trial 83 finished with value: 0.36 and parameters: {'learning_rate': 0.0011869976631864467, 'num_epochs': 471, 'hidden_size': 77, 'activation': 'leaky_relu', 'optimizer': 'Adam'}. Best is trial 5 with value: 0.46.\u001b[0m\n",
      "\u001b[32m[I 2023-04-14 17:52:56,031]\u001b[0m Trial 84 finished with value: 0.3 and parameters: {'learning_rate': 0.011012729977575115, 'num_epochs': 1065, 'hidden_size': 67, 'activation': 'leaky_relu', 'optimizer': 'Adam'}. Best is trial 5 with value: 0.46.\u001b[0m\n",
      "\u001b[32m[I 2023-04-14 17:52:56,583]\u001b[0m Trial 85 finished with value: 0.34 and parameters: {'learning_rate': 0.008085561929467567, 'num_epochs': 125, 'hidden_size': 26, 'activation': 'relu', 'optimizer': 'Adam'}. Best is trial 5 with value: 0.46.\u001b[0m\n",
      "\u001b[32m[I 2023-04-14 17:53:10,441]\u001b[0m Trial 86 finished with value: 0.22 and parameters: {'learning_rate': 0.027626671522803202, 'num_epochs': 959, 'hidden_size': 126, 'activation': 'elu', 'optimizer': 'Adam'}. Best is trial 5 with value: 0.46.\u001b[0m\n",
      "\u001b[32m[I 2023-04-14 17:53:13,498]\u001b[0m Trial 87 finished with value: 0.4 and parameters: {'learning_rate': 0.03860158155729997, 'num_epochs': 580, 'hidden_size': 61, 'activation': 'elu', 'optimizer': 'SGD'}. Best is trial 5 with value: 0.46.\u001b[0m\n",
      "\u001b[32m[I 2023-04-14 17:53:27,083]\u001b[0m Trial 88 finished with value: 0.38 and parameters: {'learning_rate': 0.09616205126525978, 'num_epochs': 1841, 'hidden_size': 122, 'activation': 'leaky_relu', 'optimizer': 'SGD'}. Best is trial 5 with value: 0.46.\u001b[0m\n",
      "\u001b[32m[I 2023-04-14 17:53:35,674]\u001b[0m Trial 89 finished with value: 0.36 and parameters: {'learning_rate': 0.0054116992707332725, 'num_epochs': 1233, 'hidden_size': 103, 'activation': 'elu', 'optimizer': 'SGD'}. Best is trial 5 with value: 0.46.\u001b[0m\n",
      "\u001b[32m[I 2023-04-14 17:53:54,459]\u001b[0m Trial 90 finished with value: 0.32 and parameters: {'learning_rate': 0.006892815258477208, 'num_epochs': 1542, 'hidden_size': 106, 'activation': 'relu', 'optimizer': 'Adam'}. Best is trial 5 with value: 0.46.\u001b[0m\n",
      "\u001b[32m[I 2023-04-14 17:54:09,412]\u001b[0m Trial 91 finished with value: 0.4 and parameters: {'learning_rate': 0.025750412341203448, 'num_epochs': 1938, 'hidden_size': 119, 'activation': 'elu', 'optimizer': 'SGD'}. Best is trial 5 with value: 0.46.\u001b[0m\n",
      "\u001b[32m[I 2023-04-14 17:54:23,309]\u001b[0m Trial 92 finished with value: 0.42 and parameters: {'learning_rate': 0.015596425865518543, 'num_epochs': 1905, 'hidden_size': 113, 'activation': 'elu', 'optimizer': 'SGD'}. Best is trial 5 with value: 0.46.\u001b[0m\n",
      "\u001b[32m[I 2023-04-14 17:54:38,548]\u001b[0m Trial 93 finished with value: 0.36 and parameters: {'learning_rate': 0.019675300516818765, 'num_epochs': 1998, 'hidden_size': 128, 'activation': 'elu', 'optimizer': 'SGD'}. Best is trial 5 with value: 0.46.\u001b[0m\n",
      "\u001b[32m[I 2023-04-14 17:54:43,922]\u001b[0m Trial 94 finished with value: 0.36 and parameters: {'learning_rate': 0.012506797186593557, 'num_epochs': 772, 'hidden_size': 99, 'activation': 'elu', 'optimizer': 'SGD'}. Best is trial 5 with value: 0.46.\u001b[0m\n",
      "\u001b[32m[I 2023-04-14 17:54:50,330]\u001b[0m Trial 95 finished with value: 0.38 and parameters: {'learning_rate': 0.003707212632334054, 'num_epochs': 846, 'hidden_size': 118, 'activation': 'elu', 'optimizer': 'SGD'}. Best is trial 5 with value: 0.46.\u001b[0m\n",
      "\u001b[32m[I 2023-04-14 17:55:02,586]\u001b[0m Trial 96 finished with value: 0.42 and parameters: {'learning_rate': 0.049493959405190614, 'num_epochs': 1663, 'hidden_size': 116, 'activation': 'elu', 'optimizer': 'SGD'}. Best is trial 5 with value: 0.46.\u001b[0m\n",
      "\u001b[32m[I 2023-04-14 17:55:16,487]\u001b[0m Trial 97 finished with value: 0.42 and parameters: {'learning_rate': 0.033445282023803924, 'num_epochs': 1760, 'hidden_size': 124, 'activation': 'elu', 'optimizer': 'SGD'}. Best is trial 5 with value: 0.46.\u001b[0m\n",
      "\u001b[32m[I 2023-04-14 17:55:29,172]\u001b[0m Trial 98 finished with value: 0.42 and parameters: {'learning_rate': 0.060764696966298354, 'num_epochs': 1839, 'hidden_size': 108, 'activation': 'elu', 'optimizer': 'SGD'}. Best is trial 5 with value: 0.46.\u001b[0m\n",
      "\u001b[32m[I 2023-04-14 17:55:43,310]\u001b[0m Trial 99 finished with value: 0.34 and parameters: {'learning_rate': 0.009475388634177621, 'num_epochs': 1949, 'hidden_size': 122, 'activation': 'relu', 'optimizer': 'SGD'}. Best is trial 5 with value: 0.46.\u001b[0m\n"
     ]
    },
    {
     "name": "stdout",
     "output_type": "stream",
     "text": [
      "Best trial params: {'learning_rate': 0.008098366389804932, 'num_epochs': 1988, 'hidden_size': 103, 'activation': 'elu', 'optimizer': 'SGD'}\n",
      "Best trial accuracy: 46.00%\n"
     ]
    }
   ],
   "source": [
    "train_MLP()"
   ]
  },
  {
   "cell_type": "code",
   "execution_count": null,
   "metadata": {},
   "outputs": [],
   "source": []
  }
 ],
 "metadata": {
  "kernelspec": {
   "display_name": "Python 3",
   "language": "python",
   "name": "python3"
  },
  "language_info": {
   "codemirror_mode": {
    "name": "ipython",
    "version": 3
   },
   "file_extension": ".py",
   "mimetype": "text/x-python",
   "name": "python",
   "nbconvert_exporter": "python",
   "pygments_lexer": "ipython3",
   "version": "3.11.0"
  },
  "orig_nbformat": 4,
  "vscode": {
   "interpreter": {
    "hash": "9cefe38f745df9e33a66570f2e5a410ba71c4ae3bf929b6ad1b474ac5f904d76"
   }
  }
 },
 "nbformat": 4,
 "nbformat_minor": 2
}
