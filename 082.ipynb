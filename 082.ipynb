{
 "cells": [
  {
   "cell_type": "code",
   "execution_count": 1,
   "metadata": {},
   "outputs": [],
   "source": [
    "import scipy.io\n",
    "import mne\n",
    "import os\n",
    "import numpy as np\n",
    "from scipy import stats\n",
    "\n",
    "from sklearn.svm import SVC\n",
    "from sklearn.preprocessing import StandardScaler\n",
    "from sklearn.model_selection import GridSearchCV\n",
    "from sklearn.model_selection import StratifiedKFold\n",
    "\n",
    "\n",
    "from matplotlib import pyplot as plt\n",
    "mne.set_log_level('error')\n"
   ]
  },
  {
   "cell_type": "code",
   "execution_count": 2,
   "metadata": {},
   "outputs": [],
   "source": [
    "data_root = 'C:/Data/UHD_EEG/'\n",
    "subjects = ['S1', 'S2', 'S3', 'S4', 'S5']\n",
    "dominant_hand = ['left','right','right','right','right']\n",
    "\n",
    "mapping = {0: \"No instruction\", 1: \"Rest\", 2: \"thumb\", 3: \"index\", 4: \"middle\", 5: \"ring\", 6: \"little\"}\n",
    "\n",
    "not_ROI_channels = ['c255', 'c256', 'c254', 'c251', 'c239', 'c240', 'c238', 'c235', 'c224', 'c222', 'c223', 'c219', 'c220', 'c221', 'c215', 'c216', 'c217', 'c213', 'c212', 'c211', 'c210', 'c209', 'c112', 'c110', 'c107', 'c108', 'c103', 'c104', 'c105', 'c101', 'c100', 'c99', 'c98', 'c97', 'c1', 'c2', 'c3', 'c4', 'c5', 'c6', 'c7', 'c8', 'c9', 'c10', 'c11', 'c12', 'c14', 'c15', 'c16', 'c23', 'c29', 'c26', 'c17', 'c18', 'c20', 'c19', 'c21', 'c24', 'c22', 'c25', 'c28', 'c33', 'c35', 'c38', 'c42', 'c81', 'c34', 'c37', 'c41', 'c45', 'c36', 'c40', 'c44', 'c39', 'c43', 'c145', 'c147', 'c150', 'c154', 'c157', 'c153', 'c149', 'c146', 'c93', 'c159', 'c156', 'c152', 'c148', 'c95', 'c160', 'c158', 'c155', 'c151', 'c96', 'c202', 'c198', 'c195', 'c193']\n",
    "\n",
    "S01_bad_channels = ['c69', 'c122', 'c170', 'c173', 'c189']"
   ]
  },
  {
   "cell_type": "code",
   "execution_count": null,
   "metadata": {},
   "outputs": [],
   "source": []
  },
  {
   "cell_type": "code",
   "execution_count": 3,
   "metadata": {},
   "outputs": [],
   "source": [
    "def get_montage(hemishpere):\n",
    "    mat = scipy.io.loadmat(os.path.join(data_root, 'montage', f'montage_256_{hemishpere}_hemisphere.mat'))\n",
    "    return mat['pos_256']\n",
    "\n",
    "left_handed_montage = get_montage('right')\n",
    "right_handed_montage = get_montage('left')"
   ]
  },
  {
   "cell_type": "code",
   "execution_count": 4,
   "metadata": {},
   "outputs": [],
   "source": [
    "def load_run(subject_id, run, describe=True):\n",
    "    subject = subjects[subject_id]\n",
    "    mat = scipy.io.loadmat(os.path.join(data_root, 'rawdata', subject, run))\n",
    "    data = mat['y'][1:]  # remove timestamp\n",
    "    ch_names = [f'c{i}' for i in range(1, 257)] + ['STIM']\n",
    "    info = mne.create_info(ch_names=ch_names, sfreq=mat['SR\\x00'][0][0])\n",
    "\n",
    "    raw = mne.io.RawArray(data, info)\n",
    "    ch_types = {ch: 'eeg' if ch != 'STIM' else 'stim' for ch in ch_names}\n",
    "    raw.set_channel_types(ch_types)\n",
    "\n",
    "    events = mne.find_events(raw, stim_channel='STIM')\n",
    "    annot_from_events = mne.annotations_from_events(events, event_desc=mapping, sfreq=raw.info['sfreq'])\n",
    "    raw.set_annotations(annot_from_events)\n",
    "    raw.drop_channels(['STIM'])\n",
    "\n",
    "    montage_positions = left_handed_montage if dominant_hand[subject_id] == 'left' else right_handed_montage\n",
    "    montage = mne.channels.make_dig_montage(ch_pos=dict(zip(ch_names, montage_positions)), coord_frame='head')\n",
    "    raw.set_montage(montage)\n",
    "\n",
    "    if describe:\n",
    "        raw.describe()\n",
    "    return raw\n"
   ]
  },
  {
   "cell_type": "code",
   "execution_count": 5,
   "metadata": {},
   "outputs": [],
   "source": [
    "def load_subject(subject_id, describe = False):\n",
    "    runs = []\n",
    "    run_files = os.listdir(os.path.join(data_root, 'rawdata', subjects[subject_id]))\n",
    "    for file in run_files:\n",
    "        runs.append(load_run(subject_id, file, describe))\n",
    "    return runs"
   ]
  },
  {
   "cell_type": "code",
   "execution_count": 6,
   "metadata": {},
   "outputs": [],
   "source": [
    "raw_runs = load_subject(subject_id = 0, describe = False)\n"
   ]
  },
  {
   "cell_type": "code",
   "execution_count": null,
   "metadata": {},
   "outputs": [],
   "source": []
  },
  {
   "cell_type": "code",
   "execution_count": 7,
   "metadata": {},
   "outputs": [],
   "source": [
    "preprocessed_runs = raw_runs.copy()\n",
    "for run in preprocessed_runs:\n",
    "    run = run.resample(200)\n",
    "\n",
    "\n",
    "    run = run.drop_channels(S01_bad_channels)\n",
    "    run = run.set_eeg_reference('average', projection=False)\n",
    "    run = run.drop_channels(not_ROI_channels)\n",
    "\n"
   ]
  },
  {
   "cell_type": "code",
   "execution_count": 8,
   "metadata": {},
   "outputs": [],
   "source": [
    "'''\n",
    "The features extracted are band power features for the\n",
    "mu and beta bands\n",
    "'''\n",
    "mus = []\n",
    "betas = []\n",
    "for i in range(len(preprocessed_runs)):\n",
    "    mus.append(preprocessed_runs[i].copy().filter(l_freq=8, h_freq=12))\n",
    "    betas.append(preprocessed_runs[i].copy().filter(l_freq=13, h_freq=25))"
   ]
  },
  {
   "cell_type": "code",
   "execution_count": 9,
   "metadata": {},
   "outputs": [],
   "source": [
    "'''\n",
    "The EEG data were band-pass filtered for the respective frequency\n",
    "band, and the power was calculated by squaring each time\n",
    "sample. \n",
    "Then the power was estimated in non-overlapping\n",
    "0.25 s segments by averaging the power samples and applying\n",
    "a centered moving average with a 0.75 s window length.\n",
    "band power features were log-transformed\n",
    "power shift compensation was applied, subtracting the mean band power over the last 25 s.\n",
    "the band power features were epoched using 0.5 s pre-and 7 s post-cue.\n",
    "'''\n",
    "\n",
    "\n",
    "        \n",
    "def my_feature(data, freq = 200):\n",
    "    # Calculate power by squaring each time sample\n",
    "    power_eeg_data = np.square(data)\n",
    "\n",
    "    # Define segment parameters\n",
    "    segment_length = int(0.25 * freq)  # 0.25 s segment length \n",
    "   \n",
    "   \n",
    "    power_eeg_data = power_eeg_data.reshape(power_eeg_data.shape[0], -1, segment_length)\n",
    "    power_eeg_data = np.mean(power_eeg_data, axis=-1)\n",
    "\n",
    "\n",
    "\n",
    "    def centered_moving_average(data, window_size):\n",
    "        half_window = window_size // 2\n",
    "        cumsum = np.cumsum(data, axis=-1)\n",
    "        cumsum[..., window_size:] = cumsum[..., window_size:] - cumsum[..., :-window_size]\n",
    "        return (cumsum[..., window_size - 1:-window_size + 1] / window_size)\n",
    "    power_eeg_data = centered_moving_average(power_eeg_data, 3)\n",
    "\n",
    "\n",
    "    power_eeg_data = np.log(power_eeg_data)\n",
    "    return power_eeg_data\n"
   ]
  },
  {
   "cell_type": "code",
   "execution_count": 11,
   "metadata": {},
   "outputs": [],
   "source": [
    "sfreq = raw_runs[0].info['sfreq']\n",
    "\n",
    "\n",
    "tmin = -0.5\n",
    "tmax = 7\n",
    "\n",
    "\n",
    "\n",
    "def get_baseline(data, length = 25): # 25s\n",
    "    end = data[..., -int(length*sfreq):]\n",
    "    end = my_feature(end)\n",
    "    return np.mean(end, axis=-1)\n",
    "\n",
    "\n",
    "\n",
    "middles = [] # 4\n",
    "rings = []   # 5 \n",
    "for i in range(len(preprocessed_runs)):\n",
    "    events, _ = mne.events_from_annotations(preprocessed_runs[i])\n",
    "\n",
    "    mu_baseline = get_baseline(mus[i].get_data())\n",
    "    beta_baseline = get_baseline(betas[i].get_data())\n",
    "\n",
    "    for trigger in events:\n",
    "        if trigger[-1] in [4,5]:\n",
    "            # Epoching\n",
    "            mu_data = mus[i].get_data()[...,trigger[0]-int(tmin*sfreq):trigger[0]+int(tmax*sfreq)] \n",
    "            beta_data = betas[i].get_data()[...,trigger[0]-int(tmin*sfreq):trigger[0]+int(tmax*sfreq)] \n",
    "          \n",
    "\n",
    "            # feature extraction\n",
    "            mu_data = my_feature(mu_data)\n",
    "            beta_data = my_feature(beta_data)\n",
    "\n",
    "            # power shift compensation\n",
    "            mu_data-=mu_baseline[:,np.newaxis]\n",
    "            beta_data-=beta_baseline[:,np.newaxis]\n",
    "\n",
    "\n",
    "            # Format data\n",
    "            mu_data = mu_data.flatten()\n",
    "            beta_data = beta_data.flatten()\n",
    "            data = np.concatenate((mu_data, beta_data), axis=0)\n",
    "            \n",
    "\n",
    "            if trigger[-1] == 4:\n",
    "                middles.append(data)\n",
    "            else:\n",
    "                rings.append(data)\n",
    "    "
   ]
  },
  {
   "cell_type": "code",
   "execution_count": 12,
   "metadata": {},
   "outputs": [
    {
     "name": "stdout",
     "output_type": "stream",
     "text": [
      "(50, 6732)\n",
      "(50, 6732)\n"
     ]
    }
   ],
   "source": [
    "middles = np.array(middles)\n",
    "rings = np.array(rings)\n",
    "\n",
    "print(middles.shape)\n",
    "print(rings.shape)\n",
    "\n",
    "middle_vs_ring = np.concatenate((middles, rings), axis=0)\n",
    "y_middle_vs_ring = np.concatenate((np.zeros(middles.shape[0]), np.ones(rings.shape[0])), axis=0)\n"
   ]
  },
  {
   "cell_type": "code",
   "execution_count": 16,
   "metadata": {},
   "outputs": [],
   "source": [
    "scaler = StandardScaler()\n",
    "scaler.fit(middle_vs_ring)\n",
    "middle_vs_ring = scaler.transform(middle_vs_ring)"
   ]
  },
  {
   "cell_type": "code",
   "execution_count": 17,
   "metadata": {},
   "outputs": [
    {
     "name": "stdout",
     "output_type": "stream",
     "text": [
      "{'C': 1, 'gamma': 0.0001, 'kernel': 'rbf'}\n",
      "0.8200000000000001\n"
     ]
    }
   ],
   "source": [
    "X = middle_vs_ring\n",
    "y = y_middle_vs_ring\n",
    "# Set the parameters by cross-validation\n",
    "tuned_parameters = [{'kernel': ['rbf'], 'gamma': [1e-1, 1e-2, 1e-3, 1e-4, 1e-5, 1e-6],\n",
    "                        'C': [0.001, 0.01, 0.1, 1, 10, 100, 1000]}]\n",
    "grid = GridSearchCV(SVC(), tuned_parameters, cv=StratifiedKFold(n_splits=10), scoring='accuracy')\n",
    "grid.fit(X, y)\n",
    "print(grid.best_params_)\n",
    "\n",
    "print(grid.best_score_)\n"
   ]
  },
  {
   "cell_type": "code",
   "execution_count": null,
   "metadata": {},
   "outputs": [],
   "source": []
  }
 ],
 "metadata": {
  "kernelspec": {
   "display_name": "Python 3",
   "language": "python",
   "name": "python3"
  },
  "language_info": {
   "codemirror_mode": {
    "name": "ipython",
    "version": 3
   },
   "file_extension": ".py",
   "mimetype": "text/x-python",
   "name": "python",
   "nbconvert_exporter": "python",
   "pygments_lexer": "ipython3",
   "version": "3.11.0"
  },
  "orig_nbformat": 4,
  "vscode": {
   "interpreter": {
    "hash": "9cefe38f745df9e33a66570f2e5a410ba71c4ae3bf929b6ad1b474ac5f904d76"
   }
  }
 },
 "nbformat": 4,
 "nbformat_minor": 2
}
