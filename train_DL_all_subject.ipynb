{
 "cells": [
  {
   "cell_type": "code",
   "execution_count": 1,
   "metadata": {},
   "outputs": [],
   "source": [
    "import os\n",
    "import numpy as np\n",
    "import h5py\n",
    "from scipy import stats\n",
    "import scipy.io\n",
    "import mne\n",
    "\n",
    "mne.set_log_level('error')\n",
    "\n",
    "from random import shuffle\n",
    "from sklearn.model_selection import train_test_split\n",
    "from sklearn.preprocessing import StandardScaler\n",
    "from sklearn.metrics import accuracy_score\n",
    "from sklearn.model_selection import KFold\n",
    "\n",
    "\n",
    "import torch\n",
    "import torch.nn as nn\n",
    "import torch.optim as optim\n",
    "\n",
    "import optuna\n",
    "\n",
    "\n",
    "from utils.load import Load\n",
    "from config.default import cfg\n",
    "\n",
    "%load_ext autoreload\n",
    "%autoreload 2\n"
   ]
  },
  {
   "cell_type": "code",
   "execution_count": 2,
   "metadata": {},
   "outputs": [
    {
     "name": "stdout",
     "output_type": "stream",
     "text": [
      "S1\n",
      "dict_keys(['index', 'little', 'middle', 'ring', 'thumb'])\n",
      "S2\n",
      "dict_keys(['index', 'little', 'middle', 'ring', 'thumb'])\n",
      "S3\n",
      "dict_keys(['index', 'little', 'middle', 'ring', 'thumb'])\n",
      "S4\n",
      "dict_keys(['index', 'little', 'middle', 'ring', 'thumb'])\n",
      "S5\n",
      "dict_keys(['index', 'little', 'middle', 'ring', 'thumb'])\n"
     ]
    }
   ],
   "source": [
    "subject_data = {}\n",
    "# Load the data  from the HDF5 file\n",
    "target_dir = 'features'\n",
    "tag = '0_25powers'\n",
    "\n",
    "for subject in cfg['subjects']:\n",
    "    file_path = os.path.join(target_dir, tag+'_'+subject + '.h5')\n",
    "\n",
    "    data = {}\n",
    "    with h5py.File(file_path, 'r') as h5file:\n",
    "        for key in h5file.keys():\n",
    "            data[key] = np.array(h5file[key])\n",
    "\n",
    "    subject_data[subject] = data\n",
    "\n",
    "\n",
    "for subject_id in subject_data:\n",
    "    print(subject_id)\n",
    "    print(subject_data[subject_id].keys())"
   ]
  },
  {
   "cell_type": "code",
   "execution_count": 3,
   "metadata": {},
   "outputs": [
    {
     "name": "stdout",
     "output_type": "stream",
     "text": [
      "(1250, 9480)\n",
      "(1250,)\n"
     ]
    }
   ],
   "source": [
    "add_subject_id = False\n",
    "\n",
    "X = []\n",
    "y = []\n",
    "# Loop through each subject in the dataset\n",
    "for subject_id, (subject, data) in enumerate(subject_data.items()):\n",
    "\n",
    "    features = np.concatenate(list(data.values()), axis=0)\n",
    "    features = features.reshape(features.shape[0], -1)\n",
    "    if add_subject_id:\n",
    "        features = np.insert(features, 0, subject_id, axis=1) # add subject id as first column\n",
    "    labels = np.concatenate([np.ones(data[finger].shape[0]) * i for i, finger in enumerate(data)], axis=0)\n",
    "   \n",
    "    X += [features]\n",
    "    y += [labels]\n",
    "\n",
    "X = np.concatenate(X, axis=0)\n",
    "y = np.concatenate(y, axis=0)\n",
    "\n",
    "print(X.shape)\n",
    "print(y.shape)"
   ]
  },
  {
   "cell_type": "code",
   "execution_count": 34,
   "metadata": {},
   "outputs": [],
   "source": [
    "class SingleLayerMLP(nn.Module):\n",
    "    def __init__(self, input_size, hidden_size, output_size, activation):\n",
    "        super(SingleLayerMLP, self).__init__()\n",
    "        self.fc1 = nn.Linear(input_size, hidden_size)\n",
    "        self.activation = activation\n",
    "        self.fc2 = nn.Linear(hidden_size, output_size)\n",
    "\n",
    "    def forward(self, x):\n",
    "        x = self.activation(x)\n",
    "        x = self.fc2(x)\n",
    "       \n",
    "        return x"
   ]
  },
  {
   "cell_type": "code",
   "execution_count": 37,
   "metadata": {},
   "outputs": [],
   "source": [
    "def train(train_X, test_X, train_y, test_y, model, criterion, optimizer, num_epochs=100):\n",
    "    device_name = 'cuda' if torch.cuda.is_available() else 'cpu'\n",
    "    device = torch.device(device_name)\n",
    "\n",
    "\n",
    "    model.to(device)\n",
    "\n",
    "    train_X = torch.tensor(train_X, dtype=torch.float32).to(device)\n",
    "    test_X = torch.tensor(test_X, dtype=torch.float32).to(device)\n",
    "    train_y = torch.tensor(train_y, dtype=torch.long).to(device)\n",
    "    test_y = torch.tensor(test_y, dtype=torch.long).to(device)\n",
    "\n",
    "\n",
    "\n",
    "    for epoch in range(num_epochs):\n",
    "        optimizer.zero_grad()\n",
    "        outputs = model(train_X)\n",
    "        loss = criterion(outputs, train_y)\n",
    "        loss.backward()\n",
    "        optimizer.step()\n",
    "\n",
    "        # # Shuffle X and y together\n",
    "        p = np.random.permutation(len(train_X))\n",
    "        train_X, train_y = train_X[p], train_y[p]\n",
    "\n",
    "    with torch.no_grad():\n",
    "        y_pred = model(test_X)\n",
    "        y_pred = torch.argmax(y_pred, dim=1)\n",
    "\n",
    "    acc = accuracy_score(test_y.cpu(), y_pred.cpu())\n",
    "    return acc\n",
    "\n",
    "def objective(trial,train_X, test_X, train_y, test_y):\n",
    "    learning_rate = trial.suggest_float(\"learning_rate\", 1e-4, 1e-3, log=True)\n",
    "    num_epochs = trial.suggest_int(\"num_epochs\", 10, 500)\n",
    "    hidden_size = trial.suggest_int(\"hidden_size\", 16, 128)\n",
    "    activation_name = \"relu\" # trial.suggest_categorical(\"activation\", [\"relu\", \"elu\", \"leaky_relu\"])\n",
    "    optimizer = \"Adam\" # trial.suggest_categorical(\"optimizer\", [\"SGD\", \"Adam\"])\n",
    "\n",
    "    if activation_name == \"relu\":\n",
    "        activation = nn.ReLU()\n",
    "    elif activation_name == \"elu\":\n",
    "        activation = nn.ELU()\n",
    "    elif activation_name == \"leaky_relu\":\n",
    "        activation = nn.LeakyReLU()\n",
    "\n",
    "    if optimizer == \"SGD\":\n",
    "        optimizer = optim.SGD\n",
    "    elif optimizer == \"Adam\":\n",
    "        optimizer = optim.Adam\n",
    "\n",
    "   \n",
    "    model = SingleLayerMLP(train_X.shape[1], hidden_size, 5, activation)\n",
    "    criterion = nn.CrossEntropyLoss()\n",
    "    optimizer = optimizer(model.parameters(), lr=learning_rate)\n",
    "    return train(train_X, test_X, train_y, test_y, model, criterion, optimizer, num_epochs=num_epochs)\n",
    "\n",
    "\n",
    "def train_MLP(X, y, n_trials = 10):\n",
    "\n",
    "\n",
    "    # scaler = StandardScaler()\n",
    "    # X = scaler.fit_transform(X)\n",
    "    train_X, test_X, train_y, test_y = train_test_split(X, y, test_size=0.2, random_state=42)\n",
    "\n",
    "    study = optuna.create_study(direction=\"maximize\")\n",
    "    study.optimize(lambda trial: objective(trial, train_X, test_X, train_y, test_y), n_trials=n_trials)\n",
    "\n",
    "    best_trial = study.best_trial\n",
    "\n",
    "    print(f'Best trial params: {best_trial.params}')\n",
    "    print(f'Best trial accuracy: {best_trial.value * 100:.2f}%')\n",
    "\n"
   ]
  },
  {
   "cell_type": "code",
   "execution_count": null,
   "metadata": {},
   "outputs": [],
   "source": []
  },
  {
   "cell_type": "code",
   "execution_count": 38,
   "metadata": {},
   "outputs": [
    {
     "name": "stderr",
     "output_type": "stream",
     "text": [
      "\u001b[32m[I 2023-04-27 17:22:43,334]\u001b[0m A new study created in memory with name: no-name-8f8e165f-be5c-4038-9b56-93a47ffd0383\u001b[0m\n",
      "\u001b[32m[I 2023-04-27 17:22:44,826]\u001b[0m Trial 0 finished with value: 0.2 and parameters: {'learning_rate': 0.00037163929147631346, 'num_epochs': 393, 'hidden_size': 62}. Best is trial 0 with value: 0.2.\u001b[0m\n",
      "\u001b[32m[I 2023-04-27 17:22:46,007]\u001b[0m Trial 1 finished with value: 0.184 and parameters: {'learning_rate': 0.000770401134410677, 'num_epochs': 391, 'hidden_size': 58}. Best is trial 0 with value: 0.2.\u001b[0m\n",
      "\u001b[32m[I 2023-04-27 17:22:46,483]\u001b[0m Trial 2 finished with value: 0.204 and parameters: {'learning_rate': 0.00044672167422980027, 'num_epochs': 151, 'hidden_size': 68}. Best is trial 2 with value: 0.204.\u001b[0m\n",
      "\u001b[32m[I 2023-04-27 17:22:47,694]\u001b[0m Trial 3 finished with value: 0.204 and parameters: {'learning_rate': 0.0007205665018594352, 'num_epochs': 400, 'hidden_size': 24}. Best is trial 2 with value: 0.204.\u001b[0m\n",
      "\u001b[32m[I 2023-04-27 17:22:49,052]\u001b[0m Trial 4 finished with value: 0.196 and parameters: {'learning_rate': 0.0001486393101157205, 'num_epochs': 449, 'hidden_size': 59}. Best is trial 2 with value: 0.204.\u001b[0m\n"
     ]
    },
    {
     "name": "stdout",
     "output_type": "stream",
     "text": [
      "Best trial params: {'learning_rate': 0.00044672167422980027, 'num_epochs': 151, 'hidden_size': 68}\n",
      "Best trial accuracy: 20.40%\n"
     ]
    }
   ],
   "source": [
    "train_MLP(X, y, n_trials=5)"
   ]
  },
  {
   "cell_type": "code",
   "execution_count": null,
   "metadata": {},
   "outputs": [
    {
     "ename": "NameError",
     "evalue": "name 'accuracy' is not defined",
     "output_type": "error",
     "traceback": [
      "\u001b[1;31m---------------------------------------------------------------------------\u001b[0m",
      "\u001b[1;31mNameError\u001b[0m                                 Traceback (most recent call last)",
      "Cell \u001b[1;32mIn[8], line 2\u001b[0m\n\u001b[0;32m      1\u001b[0m \u001b[39m# subject as features (first column)\u001b[39;00m\n\u001b[1;32m----> 2\u001b[0m \u001b[39m23.2\u001b[39m\u001b[39m%\u001b[39m accuracy\n",
      "\u001b[1;31mNameError\u001b[0m: name 'accuracy' is not defined"
     ]
    }
   ],
   "source": [
    "# subject as features (first column)\n",
    "#23.2% accuracy\n",
    "\n",
    "# no subject data\n",
    "#24 % accuracy"
   ]
  }
 ],
 "metadata": {
  "kernelspec": {
   "display_name": "Python 3",
   "language": "python",
   "name": "python3"
  },
  "language_info": {
   "codemirror_mode": {
    "name": "ipython",
    "version": 3
   },
   "file_extension": ".py",
   "mimetype": "text/x-python",
   "name": "python",
   "nbconvert_exporter": "python",
   "pygments_lexer": "ipython3",
   "version": "3.11.0"
  },
  "orig_nbformat": 4,
  "vscode": {
   "interpreter": {
    "hash": "9cefe38f745df9e33a66570f2e5a410ba71c4ae3bf929b6ad1b474ac5f904d76"
   }
  }
 },
 "nbformat": 4,
 "nbformat_minor": 2
}
