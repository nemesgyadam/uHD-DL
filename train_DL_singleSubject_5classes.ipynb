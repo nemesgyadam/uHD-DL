{
 "cells": [
  {
   "attachments": {},
   "cell_type": "markdown",
   "metadata": {},
   "source": [
    "Train MLP for all fingers!\\\n",
    "Using hyper param optimalization\n",
    "Data source: \\\n",
    "sliding windowed powers for mu and beta band\\\n",
    "Subject 1"
   ]
  },
  {
   "cell_type": "code",
   "execution_count": 1,
   "metadata": {},
   "outputs": [],
   "source": [
    "import os\n",
    "import numpy as np\n",
    "import h5py\n",
    "from scipy import stats\n",
    "import scipy.io\n",
    "import mne\n",
    "\n",
    "mne.set_log_level('error')\n",
    "\n",
    "from random import shuffle\n",
    "from sklearn.model_selection import train_test_split\n",
    "from sklearn.preprocessing import StandardScaler\n",
    "from sklearn.metrics import accuracy_score\n",
    "from sklearn.model_selection import KFold\n",
    "\n",
    "\n",
    "import torch\n",
    "import torch.nn as nn\n",
    "import torch.optim as optim\n",
    "\n",
    "import optuna\n",
    "\n",
    "\n",
    "from utils.load import Load\n",
    "from config.default import cfg\n",
    "\n",
    "%load_ext autoreload\n",
    "%autoreload 2\n"
   ]
  },
  {
   "cell_type": "code",
   "execution_count": 2,
   "metadata": {},
   "outputs": [],
   "source": [
    "subject_id = 0"
   ]
  },
  {
   "cell_type": "code",
   "execution_count": 3,
   "metadata": {},
   "outputs": [
    {
     "name": "stdout",
     "output_type": "stream",
     "text": [
      "cuda\n"
     ]
    }
   ],
   "source": [
    "device_name = 'cuda' if torch.cuda.is_available() else 'cpu'\n",
    "device = torch.device(device_name)\n",
    "print(device)"
   ]
  },
  {
   "cell_type": "code",
   "execution_count": 4,
   "metadata": {},
   "outputs": [
    {
     "name": "stdout",
     "output_type": "stream",
     "text": [
      "index (50, 158, 30, 6)\n",
      "little (50, 158, 30, 6)\n",
      "middle (50, 158, 30, 6)\n",
      "ring (50, 158, 30, 6)\n",
      "thumb (50, 158, 30, 6)\n"
     ]
    }
   ],
   "source": [
    "# Load the data  from the HDF5 file\n",
    "target_dir = 'features'\n",
    "tag = 'welch' # with_bad\n",
    "file_path = os.path.join(target_dir, tag+'_'+cfg['subjects'][subject_id] + '.h5')\n",
    "\n",
    "\n",
    "data = {}\n",
    "with h5py.File(file_path, 'r') as h5file:\n",
    "    for key in h5file.keys():\n",
    "        data[key] = np.array(h5file[key])\n",
    "\n",
    "# Print the loaded data dictionary\n",
    "for key, value in data.items():\n",
    "    print(key, value.shape)"
   ]
  },
  {
   "cell_type": "code",
   "execution_count": 5,
   "metadata": {},
   "outputs": [
    {
     "name": "stdout",
     "output_type": "stream",
     "text": [
      "Value mean 651.1722412109375, std: 86326.8671875\n",
      "index (50, 28440)\n",
      "Value mean 650.5979614257812, std: 86841.7578125\n",
      "little (50, 28440)\n",
      "Value mean 659.5928344726562, std: 84366.625\n",
      "middle (50, 28440)\n",
      "Value mean 677.8323974609375, std: 97196.9453125\n",
      "ring (50, 28440)\n",
      "Value mean 662.0338745117188, std: 83590.4375\n",
      "thumb (50, 28440)\n"
     ]
    }
   ],
   "source": [
    "for key, value in data.items():\n",
    "    data[key] = value.reshape(value.shape[0], -1)\n",
    "\n",
    "    \n",
    "# Print the loaded data dictionary\n",
    "for key, value in data.items():\n",
    "    print(f'Value mean {np.mean(value)}, std: {np.std(value)}')\n",
    "    print(key, value.shape)"
   ]
  },
  {
   "cell_type": "code",
   "execution_count": 6,
   "metadata": {},
   "outputs": [],
   "source": [
    "class SingleLayerMLP(nn.Module):\n",
    "    def __init__(self, input_size, hidden_size, output_size, activation):\n",
    "        super(SingleLayerMLP, self).__init__()\n",
    "        self.fc1 = nn.Linear(input_size, hidden_size)\n",
    "        self.activation = activation\n",
    "        self.fc2 = nn.Linear(hidden_size, output_size)\n",
    "\n",
    "    def forward(self, x):\n",
    "        x = self.fc1(x)\n",
    "        x = self.activation(x)\n",
    "        x = self.fc2(x)\n",
    "        x = nn.Softmax(dim=1)(x)\n",
    "        return x"
   ]
  },
  {
   "cell_type": "code",
   "execution_count": 7,
   "metadata": {},
   "outputs": [
    {
     "data": {
      "text/plain": [
       "dict_keys(['index', 'little', 'middle', 'ring', 'thumb'])"
      ]
     },
     "execution_count": 7,
     "metadata": {},
     "output_type": "execute_result"
    }
   ],
   "source": [
    "data.keys()"
   ]
  },
  {
   "cell_type": "code",
   "execution_count": 8,
   "metadata": {},
   "outputs": [],
   "source": [
    "def train(X_train, y_train, X_test, y_test, model, criterion, optimizer, num_epochs=100):\n",
    "    X_train = torch.tensor(X_train, dtype=torch.float32).to(device)\n",
    "    X_test = torch.tensor(X_test, dtype=torch.float32).to(device)\n",
    "    y_train = torch.tensor(y_train, dtype=torch.long).to(device)\n",
    "    y_test = torch.tensor(y_test, dtype=torch.long).to(device)\n",
    "\n",
    "\n",
    "    for epoch in range(num_epochs):\n",
    "        optimizer.zero_grad()\n",
    "        outputs = model(X_train)\n",
    "        loss = criterion(outputs, y_train)\n",
    "        loss.backward()\n",
    "        optimizer.step()\n",
    "\n",
    "        # # Shuffle X and y together\n",
    "        p = np.random.permutation(len(X_train))\n",
    "        X_train, y_train = X_train[p], y_train[p]\n",
    "\n",
    "    with torch.no_grad():\n",
    "        y_pred = model(X_test)\n",
    "        y_pred = torch.argmax(y_pred, dim=1)\n",
    "\n",
    "    acc = accuracy_score(y_test.to('cpu'), y_pred.to('cpu'))\n",
    "    return acc\n",
    "\n",
    "def objective(trial, X, y):\n",
    "    learning_rate = trial.suggest_float(\"learning_rate\", 1e-5, 1e-1, log=True)\n",
    "    num_epochs = trial.suggest_int(\"num_epochs\", 100, 2000)\n",
    "    hidden_size = trial.suggest_int(\"hidden_size\", 16, 128)\n",
    "    activation_name = trial.suggest_categorical(\"activation\", [\"relu\", \"elu\", \"leaky_relu\"])\n",
    "    optimizer = trial.suggest_categorical(\"optimizer\", [\"SGD\", \"Adam\"])\n",
    "\n",
    "    if activation_name == \"relu\":\n",
    "        activation = nn.ReLU()\n",
    "    elif activation_name == \"elu\":\n",
    "        activation = nn.ELU()\n",
    "    elif activation_name == \"leaky_relu\":\n",
    "        activation = nn.LeakyReLU()\n",
    "\n",
    "    if optimizer == \"SGD\":\n",
    "        optimizer = optim.SGD\n",
    "    elif optimizer == \"Adam\":\n",
    "        optimizer = optim.Adam\n",
    "\n",
    "    train_X, test_X, train_y, test_y = train_test_split(X, y, test_size=0.2, random_state=42)\n",
    "    model = SingleLayerMLP(train_X.shape[1], hidden_size, 5, activation)\n",
    "    model.to(device)\n",
    "    criterion = nn.CrossEntropyLoss()\n",
    "    optimizer = optimizer(model.parameters(), lr=learning_rate)\n",
    "    return train(train_X, train_y, test_X, test_y, model, criterion, optimizer, num_epochs=num_epochs)\n",
    "\n",
    "    # kf = KFold(n_splits=10, shuffle=True, random_state=42)\n",
    "    # fold_accuracies = []\n",
    "\n",
    "    # for train_index, test_index in kf.split(X):\n",
    "    #     X_train, X_test = X[train_index], X[test_index]\n",
    "    #     y_train, y_test = y[train_index], y[test_index]\n",
    "\n",
    "    #     model = SingleLayerMLP(X_train.shape[1], hidden_size, 2, activation)\n",
    "    #     criterion = nn.CrossEntropyLoss()\n",
    "    #     optimizer = optimizer(model.parameters(), lr=learning_rate)\n",
    "    #     acc = train(X_train, y_train, X_test, y_test, model, criterion, optimizer, num_epochs=num_epochs)\n",
    "    #     fold_accuracies.append(acc)\n",
    "\n",
    "    # mean_accuracy = np.mean(fold_accuracies)\n",
    "    # return mean_accuracy\n",
    "\n",
    "def train_MLP(n_trials = 100):\n",
    "    # Convert data into numpy arrays\n",
    "    X = np.concatenate(list(data.values()), axis=0)\n",
    "    y = np.concatenate([np.ones(data[finger].shape[0]) * i for i, finger in enumerate(data)], axis=0)\n",
    "\n",
    "    # Shuffle X and y together\n",
    "    # p = np.random.permutation(len(X))\n",
    "    # X, y = X[p], y[p]\n",
    "\n",
    "    scaler = StandardScaler()\n",
    "    X = scaler.fit_transform(X)\n",
    "\n",
    "    study = optuna.create_study(direction=\"maximize\")\n",
    "    study.optimize(lambda trial: objective(trial, X, y), n_trials=n_trials)\n",
    "\n",
    "    best_trial = study.best_trial\n",
    "\n",
    "    print(f'Best trial params: {best_trial.params}')\n",
    "    print(f'Best trial accuracy: {best_trial.value * 100:.2f}%')\n",
    "\n"
   ]
  },
  {
   "cell_type": "code",
   "execution_count": 9,
   "metadata": {},
   "outputs": [
    {
     "name": "stderr",
     "output_type": "stream",
     "text": [
      "\u001b[32m[I 2023-04-27 11:19:24,887]\u001b[0m A new study created in memory with name: no-name-fd90e310-279b-4f5e-8653-60e78b50c727\u001b[0m\n",
      "\u001b[32m[I 2023-04-27 11:19:28,820]\u001b[0m Trial 0 finished with value: 0.34 and parameters: {'learning_rate': 0.00015177065704847676, 'num_epochs': 114, 'hidden_size': 41, 'activation': 'leaky_relu', 'optimizer': 'Adam'}. Best is trial 0 with value: 0.34.\u001b[0m\n",
      "\u001b[32m[I 2023-04-27 11:19:31,040]\u001b[0m Trial 1 finished with value: 0.18 and parameters: {'learning_rate': 6.880292486311677e-05, 'num_epochs': 732, 'hidden_size': 55, 'activation': 'leaky_relu', 'optimizer': 'SGD'}. Best is trial 0 with value: 0.34.\u001b[0m\n",
      "\u001b[32m[I 2023-04-27 11:19:34,255]\u001b[0m Trial 2 finished with value: 0.28 and parameters: {'learning_rate': 0.0009902100178530392, 'num_epochs': 742, 'hidden_size': 75, 'activation': 'relu', 'optimizer': 'SGD'}. Best is trial 0 with value: 0.34.\u001b[0m\n",
      "\u001b[32m[I 2023-04-27 11:19:41,122]\u001b[0m Trial 3 finished with value: 0.34 and parameters: {'learning_rate': 0.00655580160150871, 'num_epochs': 1598, 'hidden_size': 79, 'activation': 'elu', 'optimizer': 'SGD'}. Best is trial 0 with value: 0.34.\u001b[0m\n",
      "\u001b[32m[I 2023-04-27 11:19:42,153]\u001b[0m Trial 4 finished with value: 0.38 and parameters: {'learning_rate': 0.001383347802629531, 'num_epochs': 308, 'hidden_size': 38, 'activation': 'elu', 'optimizer': 'SGD'}. Best is trial 4 with value: 0.38.\u001b[0m\n",
      "\u001b[32m[I 2023-04-27 11:19:46,185]\u001b[0m Trial 5 finished with value: 0.36 and parameters: {'learning_rate': 0.000373273887919481, 'num_epochs': 631, 'hidden_size': 107, 'activation': 'leaky_relu', 'optimizer': 'Adam'}. Best is trial 4 with value: 0.38.\u001b[0m\n",
      "\u001b[32m[I 2023-04-27 11:19:47,000]\u001b[0m Trial 6 finished with value: 0.34 and parameters: {'learning_rate': 0.09722026326697267, 'num_epochs': 162, 'hidden_size': 123, 'activation': 'elu', 'optimizer': 'SGD'}. Best is trial 4 with value: 0.38.\u001b[0m\n",
      "\u001b[32m[I 2023-04-27 11:19:50,274]\u001b[0m Trial 7 finished with value: 0.3 and parameters: {'learning_rate': 0.05121341693382129, 'num_epochs': 1185, 'hidden_size': 27, 'activation': 'elu', 'optimizer': 'Adam'}. Best is trial 4 with value: 0.38.\u001b[0m\n",
      "\u001b[32m[I 2023-04-27 11:19:56,378]\u001b[0m Trial 8 finished with value: 0.32 and parameters: {'learning_rate': 0.00020420046099830111, 'num_epochs': 1673, 'hidden_size': 36, 'activation': 'elu', 'optimizer': 'Adam'}. Best is trial 4 with value: 0.38.\u001b[0m\n",
      "\u001b[32m[I 2023-04-27 11:20:00,086]\u001b[0m Trial 9 finished with value: 0.26 and parameters: {'learning_rate': 0.00014824047037681815, 'num_epochs': 859, 'hidden_size': 84, 'activation': 'leaky_relu', 'optimizer': 'SGD'}. Best is trial 4 with value: 0.38.\u001b[0m\n",
      "\u001b[32m[I 2023-04-27 11:20:03,186]\u001b[0m Trial 10 finished with value: 0.1 and parameters: {'learning_rate': 1.3775196822945721e-05, 'num_epochs': 1347, 'hidden_size': 17, 'activation': 'relu', 'optimizer': 'SGD'}. Best is trial 4 with value: 0.38.\u001b[0m\n",
      "\u001b[32m[I 2023-04-27 11:20:05,893]\u001b[0m Trial 11 finished with value: 0.32 and parameters: {'learning_rate': 0.0014545861960658416, 'num_epochs': 418, 'hidden_size': 113, 'activation': 'leaky_relu', 'optimizer': 'Adam'}. Best is trial 4 with value: 0.38.\u001b[0m\n",
      "\u001b[32m[I 2023-04-27 11:20:09,075]\u001b[0m Trial 12 finished with value: 0.42 and parameters: {'learning_rate': 0.0010940962518213135, 'num_epochs': 500, 'hidden_size': 103, 'activation': 'leaky_relu', 'optimizer': 'Adam'}. Best is trial 12 with value: 0.42.\u001b[0m\n",
      "\u001b[32m[I 2023-04-27 11:20:11,972]\u001b[0m Trial 13 finished with value: 0.38 and parameters: {'learning_rate': 0.004230589215709981, 'num_epochs': 459, 'hidden_size': 99, 'activation': 'elu', 'optimizer': 'Adam'}. Best is trial 12 with value: 0.42.\u001b[0m\n",
      "\u001b[32m[I 2023-04-27 11:20:13,444]\u001b[0m Trial 14 finished with value: 0.28 and parameters: {'learning_rate': 0.006470085584431123, 'num_epochs': 360, 'hidden_size': 60, 'activation': 'relu', 'optimizer': 'Adam'}. Best is trial 12 with value: 0.42.\u001b[0m\n",
      "\u001b[32m[I 2023-04-27 11:20:22,509]\u001b[0m Trial 15 finished with value: 0.34 and parameters: {'learning_rate': 0.001292311752510257, 'num_epochs': 1989, 'hidden_size': 91, 'activation': 'elu', 'optimizer': 'SGD'}. Best is trial 12 with value: 0.42.\u001b[0m\n",
      "\u001b[32m[I 2023-04-27 11:20:25,700]\u001b[0m Trial 16 finished with value: 0.44 and parameters: {'learning_rate': 0.017294500404258693, 'num_epochs': 997, 'hidden_size': 61, 'activation': 'leaky_relu', 'optimizer': 'SGD'}. Best is trial 16 with value: 0.44.\u001b[0m\n",
      "\u001b[32m[I 2023-04-27 11:20:29,922]\u001b[0m Trial 17 finished with value: 0.34 and parameters: {'learning_rate': 0.0194493350800059, 'num_epochs': 1046, 'hidden_size': 58, 'activation': 'leaky_relu', 'optimizer': 'Adam'}. Best is trial 16 with value: 0.44.\u001b[0m\n",
      "\u001b[32m[I 2023-04-27 11:20:33,849]\u001b[0m Trial 18 finished with value: 0.4 and parameters: {'learning_rate': 0.02194942428519832, 'num_epochs': 910, 'hidden_size': 67, 'activation': 'leaky_relu', 'optimizer': 'SGD'}. Best is trial 16 with value: 0.44.\u001b[0m\n",
      "\u001b[32m[I 2023-04-27 11:20:42,064]\u001b[0m Trial 19 finished with value: 0.38 and parameters: {'learning_rate': 0.017201693746362542, 'num_epochs': 1210, 'hidden_size': 128, 'activation': 'leaky_relu', 'optimizer': 'Adam'}. Best is trial 16 with value: 0.44.\u001b[0m\n",
      "\u001b[32m[I 2023-04-27 11:20:44,549]\u001b[0m Trial 20 finished with value: 0.36 and parameters: {'learning_rate': 0.003129510121037196, 'num_epochs': 552, 'hidden_size': 90, 'activation': 'leaky_relu', 'optimizer': 'SGD'}. Best is trial 16 with value: 0.44.\u001b[0m\n",
      "\u001b[32m[I 2023-04-27 11:20:48,706]\u001b[0m Trial 21 finished with value: 0.44 and parameters: {'learning_rate': 0.01633402961031137, 'num_epochs': 937, 'hidden_size': 68, 'activation': 'leaky_relu', 'optimizer': 'SGD'}. Best is trial 16 with value: 0.44.\u001b[0m\n",
      "\u001b[32m[I 2023-04-27 11:20:51,821]\u001b[0m Trial 22 finished with value: 0.44 and parameters: {'learning_rate': 0.010791797169531958, 'num_epochs': 970, 'hidden_size': 49, 'activation': 'leaky_relu', 'optimizer': 'SGD'}. Best is trial 16 with value: 0.44.\u001b[0m\n",
      "\u001b[32m[I 2023-04-27 11:20:55,042]\u001b[0m Trial 23 finished with value: 0.32 and parameters: {'learning_rate': 0.012191419161593482, 'num_epochs': 1011, 'hidden_size': 46, 'activation': 'leaky_relu', 'optimizer': 'SGD'}. Best is trial 16 with value: 0.44.\u001b[0m\n",
      "\u001b[32m[I 2023-04-27 11:20:59,339]\u001b[0m Trial 24 finished with value: 0.38 and parameters: {'learning_rate': 0.039699416810653074, 'num_epochs': 1346, 'hidden_size': 48, 'activation': 'leaky_relu', 'optimizer': 'SGD'}. Best is trial 16 with value: 0.44.\u001b[0m\n",
      "\u001b[32m[I 2023-04-27 11:21:04,370]\u001b[0m Trial 25 finished with value: 0.42 and parameters: {'learning_rate': 0.008389772425717274, 'num_epochs': 1161, 'hidden_size': 65, 'activation': 'leaky_relu', 'optimizer': 'SGD'}. Best is trial 16 with value: 0.44.\u001b[0m\n",
      "\u001b[32m[I 2023-04-27 11:21:08,386]\u001b[0m Trial 26 finished with value: 0.42 and parameters: {'learning_rate': 0.02815750462839164, 'num_epochs': 852, 'hidden_size': 68, 'activation': 'relu', 'optimizer': 'SGD'}. Best is trial 16 with value: 0.44.\u001b[0m\n",
      "\u001b[32m[I 2023-04-27 11:21:13,046]\u001b[0m Trial 27 finished with value: 0.36 and parameters: {'learning_rate': 0.0129277673568985, 'num_epochs': 1334, 'hidden_size': 53, 'activation': 'leaky_relu', 'optimizer': 'SGD'}. Best is trial 16 with value: 0.44.\u001b[0m\n",
      "\u001b[32m[I 2023-04-27 11:21:17,245]\u001b[0m Trial 28 finished with value: 0.28 and parameters: {'learning_rate': 0.05950940817472755, 'num_epochs': 1468, 'hidden_size': 27, 'activation': 'leaky_relu', 'optimizer': 'SGD'}. Best is trial 16 with value: 0.44.\u001b[0m\n",
      "\u001b[32m[I 2023-04-27 11:21:21,575]\u001b[0m Trial 29 finished with value: 0.52 and parameters: {'learning_rate': 0.028433636476709174, 'num_epochs': 979, 'hidden_size': 74, 'activation': 'leaky_relu', 'optimizer': 'SGD'}. Best is trial 29 with value: 0.52.\u001b[0m\n",
      "\u001b[33m[W 2023-04-27 11:21:21,783]\u001b[0m Trial 30 failed with parameters: {'learning_rate': 0.033392615291762545, 'num_epochs': 746, 'hidden_size': 76, 'activation': 'leaky_relu', 'optimizer': 'SGD'} because of the following error: KeyboardInterrupt().\u001b[0m\n",
      "Traceback (most recent call last):\n",
      "  File \"c:\\Code\\Venvs\\torch\\Lib\\site-packages\\optuna\\study\\_optimize.py\", line 200, in _run_trial\n",
      "    value_or_values = func(trial)\n",
      "                      ^^^^^^^^^^^\n",
      "  File \"C:\\Users\\Nemes\\AppData\\Local\\Temp\\ipykernel_22724\\1721365868.py\", line 81, in <lambda>\n",
      "    study.optimize(lambda trial: objective(trial, X, y), n_trials=n_trials)\n",
      "                                 ^^^^^^^^^^^^^^^^^^^^^^\n",
      "  File \"C:\\Users\\Nemes\\AppData\\Local\\Temp\\ipykernel_22724\\1721365868.py\", line 50, in objective\n",
      "    return train(train_X, train_y, test_X, test_y, model, criterion, optimizer, num_epochs=num_epochs)\n",
      "           ^^^^^^^^^^^^^^^^^^^^^^^^^^^^^^^^^^^^^^^^^^^^^^^^^^^^^^^^^^^^^^^^^^^^^^^^^^^^^^^^^^^^^^^^^^^\n",
      "  File \"C:\\Users\\Nemes\\AppData\\Local\\Temp\\ipykernel_22724\\1721365868.py\", line 13, in train\n",
      "    optimizer.step()\n",
      "  File \"c:\\Code\\Venvs\\torch\\Lib\\site-packages\\torch\\optim\\optimizer.py\", line 280, in wrapper\n",
      "    out = func(*args, **kwargs)\n",
      "          ^^^^^^^^^^^^^^^^^^^^^\n",
      "  File \"c:\\Code\\Venvs\\torch\\Lib\\site-packages\\torch\\optim\\optimizer.py\", line 33, in _use_grad\n",
      "    ret = func(self, *args, **kwargs)\n",
      "          ^^^^^^^^^^^^^^^^^^^^^^^^^^^\n",
      "  File \"c:\\Code\\Venvs\\torch\\Lib\\site-packages\\torch\\optim\\sgd.py\", line 76, in step\n",
      "    sgd(params_with_grad,\n",
      "  File \"c:\\Code\\Venvs\\torch\\Lib\\site-packages\\torch\\optim\\sgd.py\", line 222, in sgd\n",
      "    func(params,\n",
      "  File \"c:\\Code\\Venvs\\torch\\Lib\\site-packages\\torch\\optim\\sgd.py\", line 325, in _multi_tensor_sgd\n",
      "    torch._foreach_add_(device_params, device_grads, alpha=-lr)\n",
      "KeyboardInterrupt\n",
      "\u001b[33m[W 2023-04-27 11:21:21,832]\u001b[0m Trial 30 failed with value None.\u001b[0m\n"
     ]
    },
    {
     "ename": "KeyboardInterrupt",
     "evalue": "",
     "output_type": "error",
     "traceback": [
      "\u001b[1;31m---------------------------------------------------------------------------\u001b[0m",
      "\u001b[1;31mKeyboardInterrupt\u001b[0m                         Traceback (most recent call last)",
      "Cell \u001b[1;32mIn[9], line 1\u001b[0m\n\u001b[1;32m----> 1\u001b[0m train_MLP(n_trials\u001b[39m=\u001b[39;49m\u001b[39m100\u001b[39;49m)\n",
      "Cell \u001b[1;32mIn[8], line 81\u001b[0m, in \u001b[0;36mtrain_MLP\u001b[1;34m(n_trials)\u001b[0m\n\u001b[0;32m     78\u001b[0m X \u001b[39m=\u001b[39m scaler\u001b[39m.\u001b[39mfit_transform(X)\n\u001b[0;32m     80\u001b[0m study \u001b[39m=\u001b[39m optuna\u001b[39m.\u001b[39mcreate_study(direction\u001b[39m=\u001b[39m\u001b[39m\"\u001b[39m\u001b[39mmaximize\u001b[39m\u001b[39m\"\u001b[39m)\n\u001b[1;32m---> 81\u001b[0m study\u001b[39m.\u001b[39;49moptimize(\u001b[39mlambda\u001b[39;49;00m trial: objective(trial, X, y), n_trials\u001b[39m=\u001b[39;49mn_trials)\n\u001b[0;32m     83\u001b[0m best_trial \u001b[39m=\u001b[39m study\u001b[39m.\u001b[39mbest_trial\n\u001b[0;32m     85\u001b[0m \u001b[39mprint\u001b[39m(\u001b[39mf\u001b[39m\u001b[39m'\u001b[39m\u001b[39mBest trial params: \u001b[39m\u001b[39m{\u001b[39;00mbest_trial\u001b[39m.\u001b[39mparams\u001b[39m}\u001b[39;00m\u001b[39m'\u001b[39m)\n",
      "File \u001b[1;32mc:\\Code\\Venvs\\torch\\Lib\\site-packages\\optuna\\study\\study.py:425\u001b[0m, in \u001b[0;36mStudy.optimize\u001b[1;34m(self, func, n_trials, timeout, n_jobs, catch, callbacks, gc_after_trial, show_progress_bar)\u001b[0m\n\u001b[0;32m    321\u001b[0m \u001b[39mdef\u001b[39;00m \u001b[39moptimize\u001b[39m(\n\u001b[0;32m    322\u001b[0m     \u001b[39mself\u001b[39m,\n\u001b[0;32m    323\u001b[0m     func: ObjectiveFuncType,\n\u001b[1;32m   (...)\u001b[0m\n\u001b[0;32m    330\u001b[0m     show_progress_bar: \u001b[39mbool\u001b[39m \u001b[39m=\u001b[39m \u001b[39mFalse\u001b[39;00m,\n\u001b[0;32m    331\u001b[0m ) \u001b[39m-\u001b[39m\u001b[39m>\u001b[39m \u001b[39mNone\u001b[39;00m:\n\u001b[0;32m    332\u001b[0m \u001b[39m    \u001b[39m\u001b[39m\"\"\"Optimize an objective function.\u001b[39;00m\n\u001b[0;32m    333\u001b[0m \n\u001b[0;32m    334\u001b[0m \u001b[39m    Optimization is done by choosing a suitable set of hyperparameter values from a given\u001b[39;00m\n\u001b[1;32m   (...)\u001b[0m\n\u001b[0;32m    422\u001b[0m \u001b[39m            If nested invocation of this method occurs.\u001b[39;00m\n\u001b[0;32m    423\u001b[0m \u001b[39m    \"\"\"\u001b[39;00m\n\u001b[1;32m--> 425\u001b[0m     _optimize(\n\u001b[0;32m    426\u001b[0m         study\u001b[39m=\u001b[39;49m\u001b[39mself\u001b[39;49m,\n\u001b[0;32m    427\u001b[0m         func\u001b[39m=\u001b[39;49mfunc,\n\u001b[0;32m    428\u001b[0m         n_trials\u001b[39m=\u001b[39;49mn_trials,\n\u001b[0;32m    429\u001b[0m         timeout\u001b[39m=\u001b[39;49mtimeout,\n\u001b[0;32m    430\u001b[0m         n_jobs\u001b[39m=\u001b[39;49mn_jobs,\n\u001b[0;32m    431\u001b[0m         catch\u001b[39m=\u001b[39;49m\u001b[39mtuple\u001b[39;49m(catch) \u001b[39mif\u001b[39;49;00m \u001b[39misinstance\u001b[39;49m(catch, Iterable) \u001b[39melse\u001b[39;49;00m (catch,),\n\u001b[0;32m    432\u001b[0m         callbacks\u001b[39m=\u001b[39;49mcallbacks,\n\u001b[0;32m    433\u001b[0m         gc_after_trial\u001b[39m=\u001b[39;49mgc_after_trial,\n\u001b[0;32m    434\u001b[0m         show_progress_bar\u001b[39m=\u001b[39;49mshow_progress_bar,\n\u001b[0;32m    435\u001b[0m     )\n",
      "File \u001b[1;32mc:\\Code\\Venvs\\torch\\Lib\\site-packages\\optuna\\study\\_optimize.py:66\u001b[0m, in \u001b[0;36m_optimize\u001b[1;34m(study, func, n_trials, timeout, n_jobs, catch, callbacks, gc_after_trial, show_progress_bar)\u001b[0m\n\u001b[0;32m     64\u001b[0m \u001b[39mtry\u001b[39;00m:\n\u001b[0;32m     65\u001b[0m     \u001b[39mif\u001b[39;00m n_jobs \u001b[39m==\u001b[39m \u001b[39m1\u001b[39m:\n\u001b[1;32m---> 66\u001b[0m         _optimize_sequential(\n\u001b[0;32m     67\u001b[0m             study,\n\u001b[0;32m     68\u001b[0m             func,\n\u001b[0;32m     69\u001b[0m             n_trials,\n\u001b[0;32m     70\u001b[0m             timeout,\n\u001b[0;32m     71\u001b[0m             catch,\n\u001b[0;32m     72\u001b[0m             callbacks,\n\u001b[0;32m     73\u001b[0m             gc_after_trial,\n\u001b[0;32m     74\u001b[0m             reseed_sampler_rng\u001b[39m=\u001b[39;49m\u001b[39mFalse\u001b[39;49;00m,\n\u001b[0;32m     75\u001b[0m             time_start\u001b[39m=\u001b[39;49m\u001b[39mNone\u001b[39;49;00m,\n\u001b[0;32m     76\u001b[0m             progress_bar\u001b[39m=\u001b[39;49mprogress_bar,\n\u001b[0;32m     77\u001b[0m         )\n\u001b[0;32m     78\u001b[0m     \u001b[39melse\u001b[39;00m:\n\u001b[0;32m     79\u001b[0m         \u001b[39mif\u001b[39;00m n_jobs \u001b[39m==\u001b[39m \u001b[39m-\u001b[39m\u001b[39m1\u001b[39m:\n",
      "File \u001b[1;32mc:\\Code\\Venvs\\torch\\Lib\\site-packages\\optuna\\study\\_optimize.py:163\u001b[0m, in \u001b[0;36m_optimize_sequential\u001b[1;34m(study, func, n_trials, timeout, catch, callbacks, gc_after_trial, reseed_sampler_rng, time_start, progress_bar)\u001b[0m\n\u001b[0;32m    160\u001b[0m         \u001b[39mbreak\u001b[39;00m\n\u001b[0;32m    162\u001b[0m \u001b[39mtry\u001b[39;00m:\n\u001b[1;32m--> 163\u001b[0m     frozen_trial \u001b[39m=\u001b[39m _run_trial(study, func, catch)\n\u001b[0;32m    164\u001b[0m \u001b[39mfinally\u001b[39;00m:\n\u001b[0;32m    165\u001b[0m     \u001b[39m# The following line mitigates memory problems that can be occurred in some\u001b[39;00m\n\u001b[0;32m    166\u001b[0m     \u001b[39m# environments (e.g., services that use computing containers such as GitHub Actions).\u001b[39;00m\n\u001b[0;32m    167\u001b[0m     \u001b[39m# Please refer to the following PR for further details:\u001b[39;00m\n\u001b[0;32m    168\u001b[0m     \u001b[39m# https://github.com/optuna/optuna/pull/325.\u001b[39;00m\n\u001b[0;32m    169\u001b[0m     \u001b[39mif\u001b[39;00m gc_after_trial:\n",
      "File \u001b[1;32mc:\\Code\\Venvs\\torch\\Lib\\site-packages\\optuna\\study\\_optimize.py:251\u001b[0m, in \u001b[0;36m_run_trial\u001b[1;34m(study, func, catch)\u001b[0m\n\u001b[0;32m    244\u001b[0m         \u001b[39massert\u001b[39;00m \u001b[39mFalse\u001b[39;00m, \u001b[39m\"\u001b[39m\u001b[39mShould not reach.\u001b[39m\u001b[39m\"\u001b[39m\n\u001b[0;32m    246\u001b[0m \u001b[39mif\u001b[39;00m (\n\u001b[0;32m    247\u001b[0m     frozen_trial\u001b[39m.\u001b[39mstate \u001b[39m==\u001b[39m TrialState\u001b[39m.\u001b[39mFAIL\n\u001b[0;32m    248\u001b[0m     \u001b[39mand\u001b[39;00m func_err \u001b[39mis\u001b[39;00m \u001b[39mnot\u001b[39;00m \u001b[39mNone\u001b[39;00m\n\u001b[0;32m    249\u001b[0m     \u001b[39mand\u001b[39;00m \u001b[39mnot\u001b[39;00m \u001b[39misinstance\u001b[39m(func_err, catch)\n\u001b[0;32m    250\u001b[0m ):\n\u001b[1;32m--> 251\u001b[0m     \u001b[39mraise\u001b[39;00m func_err\n\u001b[0;32m    252\u001b[0m \u001b[39mreturn\u001b[39;00m frozen_trial\n",
      "File \u001b[1;32mc:\\Code\\Venvs\\torch\\Lib\\site-packages\\optuna\\study\\_optimize.py:200\u001b[0m, in \u001b[0;36m_run_trial\u001b[1;34m(study, func, catch)\u001b[0m\n\u001b[0;32m    198\u001b[0m \u001b[39mwith\u001b[39;00m get_heartbeat_thread(trial\u001b[39m.\u001b[39m_trial_id, study\u001b[39m.\u001b[39m_storage):\n\u001b[0;32m    199\u001b[0m     \u001b[39mtry\u001b[39;00m:\n\u001b[1;32m--> 200\u001b[0m         value_or_values \u001b[39m=\u001b[39m func(trial)\n\u001b[0;32m    201\u001b[0m     \u001b[39mexcept\u001b[39;00m exceptions\u001b[39m.\u001b[39mTrialPruned \u001b[39mas\u001b[39;00m e:\n\u001b[0;32m    202\u001b[0m         \u001b[39m# TODO(mamu): Handle multi-objective cases.\u001b[39;00m\n\u001b[0;32m    203\u001b[0m         state \u001b[39m=\u001b[39m TrialState\u001b[39m.\u001b[39mPRUNED\n",
      "Cell \u001b[1;32mIn[8], line 81\u001b[0m, in \u001b[0;36mtrain_MLP.<locals>.<lambda>\u001b[1;34m(trial)\u001b[0m\n\u001b[0;32m     78\u001b[0m X \u001b[39m=\u001b[39m scaler\u001b[39m.\u001b[39mfit_transform(X)\n\u001b[0;32m     80\u001b[0m study \u001b[39m=\u001b[39m optuna\u001b[39m.\u001b[39mcreate_study(direction\u001b[39m=\u001b[39m\u001b[39m\"\u001b[39m\u001b[39mmaximize\u001b[39m\u001b[39m\"\u001b[39m)\n\u001b[1;32m---> 81\u001b[0m study\u001b[39m.\u001b[39moptimize(\u001b[39mlambda\u001b[39;00m trial: objective(trial, X, y), n_trials\u001b[39m=\u001b[39mn_trials)\n\u001b[0;32m     83\u001b[0m best_trial \u001b[39m=\u001b[39m study\u001b[39m.\u001b[39mbest_trial\n\u001b[0;32m     85\u001b[0m \u001b[39mprint\u001b[39m(\u001b[39mf\u001b[39m\u001b[39m'\u001b[39m\u001b[39mBest trial params: \u001b[39m\u001b[39m{\u001b[39;00mbest_trial\u001b[39m.\u001b[39mparams\u001b[39m}\u001b[39;00m\u001b[39m'\u001b[39m)\n",
      "Cell \u001b[1;32mIn[8], line 50\u001b[0m, in \u001b[0;36mobjective\u001b[1;34m(trial, X, y)\u001b[0m\n\u001b[0;32m     48\u001b[0m criterion \u001b[39m=\u001b[39m nn\u001b[39m.\u001b[39mCrossEntropyLoss()\n\u001b[0;32m     49\u001b[0m optimizer \u001b[39m=\u001b[39m optimizer(model\u001b[39m.\u001b[39mparameters(), lr\u001b[39m=\u001b[39mlearning_rate)\n\u001b[1;32m---> 50\u001b[0m \u001b[39mreturn\u001b[39;00m train(train_X, train_y, test_X, test_y, model, criterion, optimizer, num_epochs\u001b[39m=\u001b[39;49mnum_epochs)\n",
      "Cell \u001b[1;32mIn[8], line 13\u001b[0m, in \u001b[0;36mtrain\u001b[1;34m(X_train, y_train, X_test, y_test, model, criterion, optimizer, num_epochs)\u001b[0m\n\u001b[0;32m     11\u001b[0m loss \u001b[39m=\u001b[39m criterion(outputs, y_train)\n\u001b[0;32m     12\u001b[0m loss\u001b[39m.\u001b[39mbackward()\n\u001b[1;32m---> 13\u001b[0m optimizer\u001b[39m.\u001b[39;49mstep()\n\u001b[0;32m     15\u001b[0m \u001b[39m# # Shuffle X and y together\u001b[39;00m\n\u001b[0;32m     16\u001b[0m p \u001b[39m=\u001b[39m np\u001b[39m.\u001b[39mrandom\u001b[39m.\u001b[39mpermutation(\u001b[39mlen\u001b[39m(X_train))\n",
      "File \u001b[1;32mc:\\Code\\Venvs\\torch\\Lib\\site-packages\\torch\\optim\\optimizer.py:280\u001b[0m, in \u001b[0;36mOptimizer.profile_hook_step.<locals>.wrapper\u001b[1;34m(*args, **kwargs)\u001b[0m\n\u001b[0;32m    276\u001b[0m         \u001b[39melse\u001b[39;00m:\n\u001b[0;32m    277\u001b[0m             \u001b[39mraise\u001b[39;00m \u001b[39mRuntimeError\u001b[39;00m(\u001b[39mf\u001b[39m\u001b[39m\"\u001b[39m\u001b[39m{\u001b[39;00mfunc\u001b[39m}\u001b[39;00m\u001b[39m must return None or a tuple of (new_args, new_kwargs),\u001b[39m\u001b[39m\"\u001b[39m\n\u001b[0;32m    278\u001b[0m                                \u001b[39mf\u001b[39m\u001b[39m\"\u001b[39m\u001b[39mbut got \u001b[39m\u001b[39m{\u001b[39;00mresult\u001b[39m}\u001b[39;00m\u001b[39m.\u001b[39m\u001b[39m\"\u001b[39m)\n\u001b[1;32m--> 280\u001b[0m out \u001b[39m=\u001b[39m func(\u001b[39m*\u001b[39;49margs, \u001b[39m*\u001b[39;49m\u001b[39m*\u001b[39;49mkwargs)\n\u001b[0;32m    281\u001b[0m \u001b[39mself\u001b[39m\u001b[39m.\u001b[39m_optimizer_step_code()\n\u001b[0;32m    283\u001b[0m \u001b[39m# call optimizer step post hooks\u001b[39;00m\n",
      "File \u001b[1;32mc:\\Code\\Venvs\\torch\\Lib\\site-packages\\torch\\optim\\optimizer.py:33\u001b[0m, in \u001b[0;36m_use_grad_for_differentiable.<locals>._use_grad\u001b[1;34m(self, *args, **kwargs)\u001b[0m\n\u001b[0;32m     31\u001b[0m \u001b[39mtry\u001b[39;00m:\n\u001b[0;32m     32\u001b[0m     torch\u001b[39m.\u001b[39mset_grad_enabled(\u001b[39mself\u001b[39m\u001b[39m.\u001b[39mdefaults[\u001b[39m'\u001b[39m\u001b[39mdifferentiable\u001b[39m\u001b[39m'\u001b[39m])\n\u001b[1;32m---> 33\u001b[0m     ret \u001b[39m=\u001b[39m func(\u001b[39mself\u001b[39;49m, \u001b[39m*\u001b[39;49margs, \u001b[39m*\u001b[39;49m\u001b[39m*\u001b[39;49mkwargs)\n\u001b[0;32m     34\u001b[0m \u001b[39mfinally\u001b[39;00m:\n\u001b[0;32m     35\u001b[0m     torch\u001b[39m.\u001b[39mset_grad_enabled(prev_grad)\n",
      "File \u001b[1;32mc:\\Code\\Venvs\\torch\\Lib\\site-packages\\torch\\optim\\sgd.py:76\u001b[0m, in \u001b[0;36mSGD.step\u001b[1;34m(self, closure)\u001b[0m\n\u001b[0;32m     72\u001b[0m momentum_buffer_list \u001b[39m=\u001b[39m []\n\u001b[0;32m     74\u001b[0m has_sparse_grad \u001b[39m=\u001b[39m \u001b[39mself\u001b[39m\u001b[39m.\u001b[39m_init_group(group, params_with_grad, d_p_list, momentum_buffer_list)\n\u001b[1;32m---> 76\u001b[0m sgd(params_with_grad,\n\u001b[0;32m     77\u001b[0m     d_p_list,\n\u001b[0;32m     78\u001b[0m     momentum_buffer_list,\n\u001b[0;32m     79\u001b[0m     weight_decay\u001b[39m=\u001b[39;49mgroup[\u001b[39m'\u001b[39;49m\u001b[39mweight_decay\u001b[39;49m\u001b[39m'\u001b[39;49m],\n\u001b[0;32m     80\u001b[0m     momentum\u001b[39m=\u001b[39;49mgroup[\u001b[39m'\u001b[39;49m\u001b[39mmomentum\u001b[39;49m\u001b[39m'\u001b[39;49m],\n\u001b[0;32m     81\u001b[0m     lr\u001b[39m=\u001b[39;49mgroup[\u001b[39m'\u001b[39;49m\u001b[39mlr\u001b[39;49m\u001b[39m'\u001b[39;49m],\n\u001b[0;32m     82\u001b[0m     dampening\u001b[39m=\u001b[39;49mgroup[\u001b[39m'\u001b[39;49m\u001b[39mdampening\u001b[39;49m\u001b[39m'\u001b[39;49m],\n\u001b[0;32m     83\u001b[0m     nesterov\u001b[39m=\u001b[39;49mgroup[\u001b[39m'\u001b[39;49m\u001b[39mnesterov\u001b[39;49m\u001b[39m'\u001b[39;49m],\n\u001b[0;32m     84\u001b[0m     maximize\u001b[39m=\u001b[39;49mgroup[\u001b[39m'\u001b[39;49m\u001b[39mmaximize\u001b[39;49m\u001b[39m'\u001b[39;49m],\n\u001b[0;32m     85\u001b[0m     has_sparse_grad\u001b[39m=\u001b[39;49mhas_sparse_grad,\n\u001b[0;32m     86\u001b[0m     foreach\u001b[39m=\u001b[39;49mgroup[\u001b[39m'\u001b[39;49m\u001b[39mforeach\u001b[39;49m\u001b[39m'\u001b[39;49m])\n\u001b[0;32m     88\u001b[0m \u001b[39m# update momentum_buffers in state\u001b[39;00m\n\u001b[0;32m     89\u001b[0m \u001b[39mfor\u001b[39;00m p, momentum_buffer \u001b[39min\u001b[39;00m \u001b[39mzip\u001b[39m(params_with_grad, momentum_buffer_list):\n",
      "File \u001b[1;32mc:\\Code\\Venvs\\torch\\Lib\\site-packages\\torch\\optim\\sgd.py:222\u001b[0m, in \u001b[0;36msgd\u001b[1;34m(params, d_p_list, momentum_buffer_list, has_sparse_grad, foreach, weight_decay, momentum, lr, dampening, nesterov, maximize)\u001b[0m\n\u001b[0;32m    219\u001b[0m \u001b[39melse\u001b[39;00m:\n\u001b[0;32m    220\u001b[0m     func \u001b[39m=\u001b[39m _single_tensor_sgd\n\u001b[1;32m--> 222\u001b[0m func(params,\n\u001b[0;32m    223\u001b[0m      d_p_list,\n\u001b[0;32m    224\u001b[0m      momentum_buffer_list,\n\u001b[0;32m    225\u001b[0m      weight_decay\u001b[39m=\u001b[39;49mweight_decay,\n\u001b[0;32m    226\u001b[0m      momentum\u001b[39m=\u001b[39;49mmomentum,\n\u001b[0;32m    227\u001b[0m      lr\u001b[39m=\u001b[39;49mlr,\n\u001b[0;32m    228\u001b[0m      dampening\u001b[39m=\u001b[39;49mdampening,\n\u001b[0;32m    229\u001b[0m      nesterov\u001b[39m=\u001b[39;49mnesterov,\n\u001b[0;32m    230\u001b[0m      has_sparse_grad\u001b[39m=\u001b[39;49mhas_sparse_grad,\n\u001b[0;32m    231\u001b[0m      maximize\u001b[39m=\u001b[39;49mmaximize)\n",
      "File \u001b[1;32mc:\\Code\\Venvs\\torch\\Lib\\site-packages\\torch\\optim\\sgd.py:325\u001b[0m, in \u001b[0;36m_multi_tensor_sgd\u001b[1;34m(params, grads, momentum_buffer_list, weight_decay, momentum, lr, dampening, nesterov, maximize, has_sparse_grad)\u001b[0m\n\u001b[0;32m    322\u001b[0m         device_grads \u001b[39m=\u001b[39m bufs\n\u001b[0;32m    324\u001b[0m \u001b[39mif\u001b[39;00m \u001b[39mnot\u001b[39;00m device_has_sparse_grad:\n\u001b[1;32m--> 325\u001b[0m     torch\u001b[39m.\u001b[39;49m_foreach_add_(device_params, device_grads, alpha\u001b[39m=\u001b[39;49m\u001b[39m-\u001b[39;49mlr)\n\u001b[0;32m    326\u001b[0m \u001b[39melse\u001b[39;00m:\n\u001b[0;32m    327\u001b[0m     \u001b[39m# foreach APIs don't support sparse\u001b[39;00m\n\u001b[0;32m    328\u001b[0m     \u001b[39mfor\u001b[39;00m i \u001b[39min\u001b[39;00m \u001b[39mrange\u001b[39m(\u001b[39mlen\u001b[39m(device_params)):\n",
      "\u001b[1;31mKeyboardInterrupt\u001b[0m: "
     ]
    }
   ],
   "source": [
    "train_MLP(n_trials=100)"
   ]
  },
  {
   "cell_type": "code",
   "execution_count": null,
   "metadata": {},
   "outputs": [
    {
     "data": {
      "text/plain": [
       "\"\\ntag = 'gpt4freq_all'\\nBest trial params: {'learning_rate': 0.009669058999906542, 'num_epochs': 1671, 'hidden_size': 111, 'activation': 'relu', 'optimizer': 'SGD'}\\nBest trial accuracy: 48.00%\\n\""
      ]
     },
     "execution_count": 10,
     "metadata": {},
     "output_type": "execute_result"
    }
   ],
   "source": [
    "'''\n",
    "tag = 'gpt4freq_all'\n",
    "Best trial params: {'learning_rate': 0.009669058999906542, 'num_epochs': 1671, 'hidden_size': 111, 'activation': 'relu', 'optimizer': 'SGD'}\n",
    "Best trial accuracy: 48.00%\n",
    "\n",
    "tag = 'reproduced_with_bad'\n",
    "Best trial params: {'learning_rate': 0.0021345711699235683, 'num_epochs': 732, 'hidden_size': 37, 'activation': 'relu', 'optimizer': 'Adam'}\n",
    "Best trial accuracy: 48.00%\n",
    "'''\n"
   ]
  }
 ],
 "metadata": {
  "kernelspec": {
   "display_name": "Python 3",
   "language": "python",
   "name": "python3"
  },
  "language_info": {
   "codemirror_mode": {
    "name": "ipython",
    "version": 3
   },
   "file_extension": ".py",
   "mimetype": "text/x-python",
   "name": "python",
   "nbconvert_exporter": "python",
   "pygments_lexer": "ipython3",
   "version": "3.11.0"
  },
  "orig_nbformat": 4,
  "vscode": {
   "interpreter": {
    "hash": "9cefe38f745df9e33a66570f2e5a410ba71c4ae3bf929b6ad1b474ac5f904d76"
   }
  }
 },
 "nbformat": 4,
 "nbformat_minor": 2
}
