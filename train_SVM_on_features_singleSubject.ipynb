{
 "cells": [
  {
   "attachments": {},
   "cell_type": "markdown",
   "metadata": {},
   "source": [
    "Train SVM for each finger pair!\\\n",
    "Data source: \\\n",
    "sliding windowed powers for mu and beta band\\\n",
    "Subject 1"
   ]
  },
  {
   "cell_type": "code",
   "execution_count": 1,
   "metadata": {},
   "outputs": [],
   "source": [
    "import os\n",
    "import numpy as np\n",
    "import h5py\n",
    "import mne\n",
    "from scipy import stats\n",
    "import scipy.io\n",
    "\n",
    "mne.set_log_level('error')\n",
    "\n",
    "from sklearn.svm import SVC\n",
    "from sklearn.preprocessing import StandardScaler\n",
    "from sklearn.model_selection import GridSearchCV\n",
    "from sklearn.model_selection import StratifiedKFold\n",
    "\n",
    "from utils.load import Load\n",
    "from config.default import cfg\n",
    "\n",
    "%load_ext autoreload\n",
    "%autoreload 2\n"
   ]
  },
  {
   "cell_type": "code",
   "execution_count": 2,
   "metadata": {},
   "outputs": [],
   "source": [
    "subject_id = 0\n",
    "tag = 'reproduced'"
   ]
  },
  {
   "cell_type": "code",
   "execution_count": null,
   "metadata": {},
   "outputs": [],
   "source": []
  },
  {
   "cell_type": "code",
   "execution_count": 3,
   "metadata": {},
   "outputs": [
    {
     "name": "stdout",
     "output_type": "stream",
     "text": [
      "index (50, 153, 74, 4)\n",
      "little (50, 153, 74, 4)\n",
      "middle (50, 153, 74, 4)\n",
      "ring (50, 153, 74, 4)\n",
      "thumb (50, 153, 74, 4)\n"
     ]
    }
   ],
   "source": [
    "# Load the dictionary from the HDF5 file\n",
    "target_dir = 'features'\n",
    "file_path = os.path.join(target_dir, tag + '_' + cfg['subjects'][subject_id] + '.h5')\n",
    "\n",
    "\n",
    "data = {}\n",
    "with h5py.File(file_path, 'r') as h5file:\n",
    "    for key in h5file.keys():\n",
    "        data[key] = np.array(h5file[key])\n",
    "\n",
    "# Print the loaded data dictionary\n",
    "for key, value in data.items():\n",
    "    print(key, value.shape)"
   ]
  },
  {
   "cell_type": "code",
   "execution_count": 4,
   "metadata": {},
   "outputs": [
    {
     "name": "stdout",
     "output_type": "stream",
     "text": [
      "index (50, 45288)\n",
      "little (50, 45288)\n",
      "middle (50, 45288)\n",
      "ring (50, 45288)\n",
      "thumb (50, 45288)\n"
     ]
    }
   ],
   "source": [
    "for key, value in data.items():\n",
    "    data[key] = value.reshape(value.shape[0], -1)\n",
    "\n",
    "    \n",
    "# Print the loaded data dictionary\n",
    "for key, value in data.items():\n",
    "    print(key, value.shape)"
   ]
  },
  {
   "cell_type": "code",
   "execution_count": 5,
   "metadata": {},
   "outputs": [],
   "source": [
    "def train_SVM(finger1, finger2):\n",
    "    print(f'Training SVM for {finger1} vs {finger2}')\n",
    "\n",
    "    X = np.concatenate((data[finger1], data[finger2]), axis=0)\n",
    "    y = np.concatenate((np.ones(data[finger1].shape[0]), np.zeros(data[finger2].shape[0])), axis=0)\n",
    "\n",
    "\n",
    "    scaler = StandardScaler()\n",
    "    X = scaler.fit_transform(X)\n",
    "\n",
    "    tuned_parameters = [{'kernel': ['rbf'], 'gamma': [1e-3, 1e-4, 1e-5, 1e-6],\n",
    "                        'C': [ 1, ]}]\n",
    "    grid = GridSearchCV(SVC(), tuned_parameters, cv=StratifiedKFold(n_splits=10), scoring='accuracy')\n",
    "    grid.fit(X, y)\n",
    "    acc = grid.best_score_* 100\n",
    "    print(str(round(acc, 2)))\n",
    "    return acc\n",
    "\n",
    "    "
   ]
  },
  {
   "cell_type": "code",
   "execution_count": 6,
   "metadata": {},
   "outputs": [
    {
     "name": "stdout",
     "output_type": "stream",
     "text": [
      "Training SVM for little vs index\n",
      "56.0\n",
      "Training SVM for middle vs index\n",
      "52.0\n",
      "Training SVM for middle vs little\n",
      "54.0\n",
      "Training SVM for ring vs index\n",
      "68.0\n",
      "Training SVM for ring vs little\n",
      "74.0\n",
      "Training SVM for ring vs middle\n",
      "70.0\n",
      "Training SVM for thumb vs index\n",
      "61.0\n",
      "Training SVM for thumb vs little\n",
      "52.0\n",
      "Training SVM for thumb vs middle\n",
      "58.0\n",
      "Training SVM for thumb vs ring\n",
      "78.0\n",
      "Average accuracy: 62.3\n",
      "Standard deviation: 9.03382532485547\n"
     ]
    }
   ],
   "source": [
    "accuracies = []\n",
    "for finger1 in data:\n",
    "    for finger2 in data:\n",
    "        if finger1 != finger2:\n",
    "            accuracies.append(train_SVM(finger1, finger2))\n",
    "        else:\n",
    "            break\n",
    "accucarcies = np.array(accuracies)\n",
    "print(f'Average accuracy: {np.mean(accuracies)}')\n",
    "print(f'Standard deviation: {np.std(accuracies)}')\n",
    "            "
   ]
  },
  {
   "cell_type": "code",
   "execution_count": null,
   "metadata": {},
   "outputs": [],
   "source": []
  }
 ],
 "metadata": {
  "kernelspec": {
   "display_name": "Python 3",
   "language": "python",
   "name": "python3"
  },
  "language_info": {
   "codemirror_mode": {
    "name": "ipython",
    "version": 3
   },
   "file_extension": ".py",
   "mimetype": "text/x-python",
   "name": "python",
   "nbconvert_exporter": "python",
   "pygments_lexer": "ipython3",
   "version": "3.11.0"
  },
  "orig_nbformat": 4,
  "vscode": {
   "interpreter": {
    "hash": "9cefe38f745df9e33a66570f2e5a410ba71c4ae3bf929b6ad1b474ac5f904d76"
   }
  }
 },
 "nbformat": 4,
 "nbformat_minor": 2
}
