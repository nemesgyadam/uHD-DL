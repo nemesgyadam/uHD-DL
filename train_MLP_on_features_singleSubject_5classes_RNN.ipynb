{
 "cells": [
  {
   "cell_type": "code",
   "execution_count": 1,
   "metadata": {},
   "outputs": [],
   "source": [
    "import os\n",
    "import numpy as np\n",
    "import h5py\n",
    "from scipy import stats\n",
    "import scipy.io\n",
    "import mne\n",
    "\n",
    "mne.set_log_level('error')\n",
    "\n",
    "from random import shuffle\n",
    "from sklearn.model_selection import train_test_split\n",
    "from sklearn.preprocessing import StandardScaler\n",
    "from sklearn.metrics import accuracy_score\n",
    "from sklearn.model_selection import KFold\n",
    "\n",
    "\n",
    "import torch\n",
    "import torch.nn as nn\n",
    "import torch.optim as optim\n",
    "from torch.utils.data import Dataset, DataLoader\n",
    "\n",
    "from torchsummary import summary\n",
    "\n",
    "import optuna\n",
    "\n",
    "\n",
    "from utils.load import Load\n",
    "from config.default import cfg\n",
    "\n",
    "%load_ext autoreload\n",
    "%autoreload 2\n"
   ]
  },
  {
   "cell_type": "code",
   "execution_count": 2,
   "metadata": {},
   "outputs": [],
   "source": [
    "torch.manual_seed(42)\n",
    "np.random.seed(42)\n"
   ]
  },
  {
   "cell_type": "code",
   "execution_count": 3,
   "metadata": {},
   "outputs": [],
   "source": [
    "subject_id = 0"
   ]
  },
  {
   "cell_type": "code",
   "execution_count": 4,
   "metadata": {},
   "outputs": [
    {
     "name": "stdout",
     "output_type": "stream",
     "text": [
      "cuda\n"
     ]
    }
   ],
   "source": [
    "device_name = 'cuda' if torch.cuda.is_available() else 'cpu'\n",
    "device = torch.device(device_name)\n",
    "print(device)"
   ]
  },
  {
   "cell_type": "code",
   "execution_count": 5,
   "metadata": {},
   "outputs": [
    {
     "name": "stdout",
     "output_type": "stream",
     "text": [
      "index (50, 26, 158, 2)\n",
      "little (50, 26, 158, 2)\n",
      "middle (50, 26, 158, 2)\n",
      "ring (50, 26, 158, 2)\n",
      "thumb (50, 26, 158, 2)\n"
     ]
    }
   ],
   "source": [
    "# Load the data  from the HDF5 file\n",
    "target_dir = 'features'\n",
    "tag = 'reproduced_with_bad'\n",
    "file_path = os.path.join(target_dir, tag+'_'+cfg['subjects'][subject_id] + '.h5')\n",
    "\n",
    "\n",
    "data = {}\n",
    "with h5py.File(file_path, 'r') as h5file:\n",
    "    for key in h5file.keys():\n",
    "        data[key] = np.array(h5file[key])\n",
    "\n",
    "# Time first [Time, Channels, Features]\n",
    "for key, value in data.items():\n",
    "    data[key] = np.transpose(value, (0, 2, 1, 3))\n",
    "\n",
    "# Print the loaded data dictionary\n",
    "for key, value in data.items():\n",
    "    print(key, value.shape)"
   ]
  },
  {
   "cell_type": "code",
   "execution_count": 6,
   "metadata": {},
   "outputs": [],
   "source": [
    "X = np.concatenate(list(data.values()), axis=0)\n",
    "y = np.concatenate([np.ones(data[finger].shape[0]) * i for i, finger in enumerate(data)], axis=0)\n",
    "\n",
    "# Normalize the data\n",
    "# orig_shape = X.shape\n",
    "# X = X.reshape(X.shape[0], -1)\n",
    "# scaler = StandardScaler()\n",
    "# X = scaler.fit_transform(X)\n",
    "# X = X.reshape(orig_shape)\n",
    "\n",
    "# Split the data into training and test sets\n",
    "X_train, X_test, y_train, y_test = train_test_split(X, y, test_size=0.2, random_state=42)\n",
    "\n",
    "\n",
    "\n",
    "\n",
    "\n",
    "class CustomDataset(Dataset):\n",
    "    def __init__(self, X, y):\n",
    "        self.X = X\n",
    "        self.y = y\n",
    "\n",
    "        self.X = torch.from_numpy(X).float().to(device)\n",
    "        self.y = torch.from_numpy(y).long().to(device)\n",
    "\n",
    "\n",
    "    def __len__(self):\n",
    "        return len(self.y)\n",
    "\n",
    "    def __getitem__(self, idx):\n",
    "        features = self.X[idx]\n",
    "        label = self.y[idx]\n",
    "        \n",
    "        return features, label\n",
    "\n",
    "train_dataset = CustomDataset(X_train, y_train)\n",
    "train_dataloader = DataLoader(train_dataset, batch_size=10, shuffle=True)\n",
    "\n",
    "test_dataset = CustomDataset(X_test, y_test)\n",
    "test_dataloader = DataLoader(test_dataset, batch_size=10, shuffle=True)"
   ]
  },
  {
   "cell_type": "code",
   "execution_count": 7,
   "metadata": {},
   "outputs": [
    {
     "name": "stdout",
     "output_type": "stream",
     "text": [
      "torch.Size([10, 26, 158, 2])\n",
      "tensor([2, 3, 1, 0, 0, 2, 4, 0, 3, 2], device='cuda:0')\n"
     ]
    }
   ],
   "source": [
    "for features, label in train_dataloader:\n",
    "    print(features.shape)\n",
    "    print(label)\n",
    "    break"
   ]
  },
  {
   "cell_type": "code",
   "execution_count": 8,
   "metadata": {},
   "outputs": [],
   "source": [
    "def accuracy(dataloader):\n",
    "    correct_predictions = 0\n",
    "    total_predictions = 0\n",
    "\n",
    "    with torch.no_grad():\n",
    "        for features,  labels in dataloader:\n",
    "\n",
    "            outputs = model(features)\n",
    "            _, predicted = torch.max(outputs.data, 1)\n",
    "            total_predictions += labels.size(0)\n",
    "            correct_predictions += (predicted == labels).sum().item()\n",
    "\n",
    "    accuracy = correct_predictions / total_predictions\n",
    "\n",
    "    return accuracy * 100"
   ]
  },
  {
   "cell_type": "code",
   "execution_count": 9,
   "metadata": {},
   "outputs": [],
   "source": [
    "class SingleLayerMLP(nn.Module):\n",
    "    def __init__(self, time_stamps, channels, rnn_hidden_size,  output_size, activation):\n",
    "        super(SingleLayerMLP, self).__init__()\n",
    "\n",
    "        self.channels = channels\n",
    "        self.fc1 = nn.Linear(2, 1)\n",
    "        self.rnn = nn.RNN(channels, rnn_hidden_size, batch_first=True)\n",
    "        self.lstm = nn.LSTM(channels, rnn_hidden_size, bias = False, batch_first=True, bidirectional=True)\n",
    "        self.activation = nn.ReLU()\n",
    "        self.fc2 = nn.Linear(rnn_hidden_size*2, output_size)\n",
    "        #self.fc2 = nn.Linear(rnn_hidden_size*time_stamps, output_size)\n",
    "\n",
    "        self.dropout = nn.Dropout(0.1)\n",
    "        \n",
    "        \n",
    "    def forward(self, x):\n",
    "\n",
    "        ###\n",
    "        ###Merge Mu and Beta band power features\n",
    "        ###\n",
    "        # A version\n",
    "        x = x.reshape(-1,2)\n",
    "        x = self.fc1(x)         # Apply the linear layer\n",
    "        x = x.view(-1, time_stamps, channels)         # Reshape the tensor back to its original shape: (26, 158)\n",
    "        \n",
    "        # B version\n",
    "        #x = torch.mean(x, -1)\n",
    "\n",
    "        # C version\n",
    "        #x = x.reshape(10, -1, self.channels*2)\n",
    "\n",
    "        # RNN\n",
    "        #x, hn = self.rnn(x)\n",
    "        x, (hn, cn) = self.lstm(x)\n",
    "        x = x[:, -1, :]\n",
    "       \n",
    "        \n",
    "        x = self.activation(x)\n",
    "        x = self.dropout(x)\n",
    "\n",
    "        x = self.fc2(x)\n",
    "\n",
    "        return x\n",
    "\n"
   ]
  },
  {
   "cell_type": "code",
   "execution_count": 10,
   "metadata": {},
   "outputs": [],
   "source": [
    "num_epochs = 100\n",
    "learning_rate = 1e-3\n",
    "rnn_hidden_size = 8\n",
    "\n",
    "\n",
    "\n",
    "time_stamps = X.shape[1]\n",
    "channels = X.shape[2]\n",
    "model = SingleLayerMLP(time_stamps, channels, rnn_hidden_size, 5, nn.ReLU())\n",
    "#summary(model, input_size=(X[0].shape));\n",
    "model.to(device)\n",
    "\n",
    "criterion = nn.CrossEntropyLoss()\n",
    "optimizer = optim.Adam(model.parameters(), lr=learning_rate)"
   ]
  },
  {
   "cell_type": "code",
   "execution_count": 11,
   "metadata": {},
   "outputs": [
    {
     "name": "stdout",
     "output_type": "stream",
     "text": [
      "Epoch 10/100, Loss: 32.04113698005676, Train accuracy: 27.00%, Test accuracy: 20.00%\n",
      "Epoch 20/100, Loss: 30.964401721954346, Train accuracy: 29.50%, Test accuracy: 26.00%\n",
      "Epoch 30/100, Loss: 30.100576996803284, Train accuracy: 37.50%, Test accuracy: 34.00%\n",
      "Epoch 40/100, Loss: 28.323060870170593, Train accuracy: 44.00%, Test accuracy: 30.00%\n",
      "Epoch 50/100, Loss: 26.627503633499146, Train accuracy: 54.00%, Test accuracy: 32.00%\n",
      "Epoch 60/100, Loss: 25.095929861068726, Train accuracy: 53.00%, Test accuracy: 34.00%\n",
      "Epoch 70/100, Loss: 22.142316162586212, Train accuracy: 62.00%, Test accuracy: 34.00%\n",
      "Epoch 80/100, Loss: 20.731123089790344, Train accuracy: 68.50%, Test accuracy: 34.00%\n",
      "Epoch 90/100, Loss: 19.58177238702774, Train accuracy: 66.50%, Test accuracy: 28.00%\n",
      "Epoch 100/100, Loss: 17.375755786895752, Train accuracy: 78.00%, Test accuracy: 34.00%\n"
     ]
    },
    {
     "data": {
      "text/plain": [
       "26.0"
      ]
     },
     "execution_count": 11,
     "metadata": {},
     "output_type": "execute_result"
    }
   ],
   "source": [
    "def train(num_epochs, verbose = False):\n",
    "    # single train\n",
    "    model.train()\n",
    "    for epoch in range(num_epochs):\n",
    "\n",
    "        epoch_loss = 0.0\n",
    "        for X, y in train_dataloader:\n",
    "            optimizer.zero_grad()\n",
    "            outputs = model(X)\n",
    "            loss = criterion(outputs, y)\n",
    "            loss.backward()\n",
    "            optimizer.step()\n",
    "            epoch_loss += loss.item()\n",
    "\n",
    "        if  verbose and (epoch+1) % 10 == 0:\n",
    "            train_accuracy = accuracy(train_dataloader)\n",
    "            test_accuracy = accuracy(test_dataloader)\n",
    "            print(f\"Epoch {epoch + 1}/{num_epochs}, Loss: {epoch_loss}, Train accuracy: {train_accuracy:.2f}%, Test accuracy: {test_accuracy:.2f}%\")\n",
    "\n",
    "    return accuracy(test_dataloader)\n",
    "\n",
    "train(num_epochs, verbose=True)"
   ]
  },
  {
   "cell_type": "code",
   "execution_count": 12,
   "metadata": {},
   "outputs": [],
   "source": [
    "\n",
    "def objective(trial):\n",
    "    learning_rate = trial.suggest_float(\"learning_rate\", 1e-5, 1e-1, log=True)\n",
    "    num_epochs = trial.suggest_int(\"num_epochs\", 20, 500)\n",
    "    hidden_size = trial.suggest_int(\"hidden_size\", 4, 32)\n",
    "    activation_name = trial.suggest_categorical(\"activation\", [\"relu\", \"elu\", \"leaky_relu\"])\n",
    "    optimizer = trial.suggest_categorical(\"optimizer\", [\"SGD\", \"Adam\"])\n",
    "\n",
    "    if activation_name == \"relu\":\n",
    "        activation = nn.ReLU()\n",
    "    elif activation_name == \"elu\":\n",
    "        activation = nn.ELU()\n",
    "    elif activation_name == \"leaky_relu\":\n",
    "        activation = nn.LeakyReLU()\n",
    "\n",
    "    if optimizer == \"SGD\":\n",
    "        optimizer = optim.SGD\n",
    "    elif optimizer == \"Adam\":\n",
    "        optimizer = optim.Adam\n",
    "\n",
    "\n",
    "    model = SingleLayerMLP(time_stamps=time_stamps, channels=channels, rnn_hidden_size=hidden_size, output_size=5, activation=activation)\n",
    "    model.to(device)\n",
    "\n",
    "    criterion = nn.CrossEntropyLoss()\n",
    "    optimizer = optimizer(model.parameters(), lr=learning_rate)\n",
    "    return train(num_epochs)\n"
   ]
  },
  {
   "cell_type": "code",
   "execution_count": 13,
   "metadata": {},
   "outputs": [
    {
     "name": "stderr",
     "output_type": "stream",
     "text": [
      "\u001b[32m[I 2023-04-23 20:56:09,649]\u001b[0m A new study created in memory with name: no-name-76a45959-612e-430c-b0e4-f38675eb26c4\u001b[0m\n",
      "\u001b[32m[I 2023-04-23 20:56:35,840]\u001b[0m Trial 0 finished with value: 30.0 and parameters: {'learning_rate': 0.06784288046287168, 'num_epochs': 440, 'hidden_size': 21, 'activation': 'leaky_relu', 'optimizer': 'SGD'}. Best is trial 0 with value: 30.0.\u001b[0m\n",
      "\u001b[32m[I 2023-04-23 20:56:50,558]\u001b[0m Trial 1 finished with value: 26.0 and parameters: {'learning_rate': 0.050061226309436296, 'num_epochs': 268, 'hidden_size': 21, 'activation': 'leaky_relu', 'optimizer': 'Adam'}. Best is trial 0 with value: 30.0.\u001b[0m\n",
      "\u001b[32m[I 2023-04-23 20:56:55,500]\u001b[0m Trial 2 finished with value: 32.0 and parameters: {'learning_rate': 0.03650758716825999, 'num_epochs': 82, 'hidden_size': 23, 'activation': 'relu', 'optimizer': 'Adam'}. Best is trial 2 with value: 32.0.\u001b[0m\n",
      "\u001b[32m[I 2023-04-23 20:57:16,089]\u001b[0m Trial 3 finished with value: 22.0 and parameters: {'learning_rate': 0.007884670395349756, 'num_epochs': 329, 'hidden_size': 9, 'activation': 'relu', 'optimizer': 'Adam'}. Best is trial 2 with value: 32.0.\u001b[0m\n",
      "\u001b[32m[I 2023-04-23 20:57:19,918]\u001b[0m Trial 4 finished with value: 28.000000000000004 and parameters: {'learning_rate': 0.050781719289312126, 'num_epochs': 65, 'hidden_size': 31, 'activation': 'elu', 'optimizer': 'SGD'}. Best is trial 2 with value: 32.0.\u001b[0m\n",
      "\u001b[32m[I 2023-04-23 20:57:46,978]\u001b[0m Trial 5 finished with value: 22.0 and parameters: {'learning_rate': 0.06201080979337332, 'num_epochs': 445, 'hidden_size': 30, 'activation': 'relu', 'optimizer': 'SGD'}. Best is trial 2 with value: 32.0.\u001b[0m\n",
      "\u001b[32m[I 2023-04-23 20:58:15,979]\u001b[0m Trial 6 finished with value: 24.0 and parameters: {'learning_rate': 0.000162650545757176, 'num_epochs': 444, 'hidden_size': 16, 'activation': 'relu', 'optimizer': 'Adam'}. Best is trial 2 with value: 32.0.\u001b[0m\n",
      "\u001b[32m[I 2023-04-23 20:58:43,121]\u001b[0m Trial 7 finished with value: 22.0 and parameters: {'learning_rate': 0.0007097929054688429, 'num_epochs': 457, 'hidden_size': 16, 'activation': 'relu', 'optimizer': 'SGD'}. Best is trial 2 with value: 32.0.\u001b[0m\n",
      "\u001b[32m[I 2023-04-23 20:59:01,160]\u001b[0m Trial 8 finished with value: 22.0 and parameters: {'learning_rate': 0.00019898209274933122, 'num_epochs': 393, 'hidden_size': 11, 'activation': 'elu', 'optimizer': 'SGD'}. Best is trial 2 with value: 32.0.\u001b[0m\n",
      "\u001b[32m[I 2023-04-23 20:59:02,688]\u001b[0m Trial 9 finished with value: 24.0 and parameters: {'learning_rate': 0.0355603748925189, 'num_epochs': 31, 'hidden_size': 23, 'activation': 'leaky_relu', 'optimizer': 'SGD'}. Best is trial 2 with value: 32.0.\u001b[0m\n"
     ]
    },
    {
     "name": "stdout",
     "output_type": "stream",
     "text": [
      "Best trial params: {'learning_rate': 0.03650758716825999, 'num_epochs': 82, 'hidden_size': 23, 'activation': 'relu', 'optimizer': 'Adam'}\n",
      "Best trial accuracy: 32.0%\n"
     ]
    }
   ],
   "source": [
    "# Hyperparameter tuning\n",
    "n_trials = 10\n",
    "\n",
    "study = optuna.create_study(direction=\"maximize\")\n",
    "study.optimize(lambda trial: objective(trial), n_trials=n_trials)\n",
    "\n",
    "best_trial = study.best_trial\n",
    "\n",
    "print(f'Best trial params: {best_trial.params}')\n",
    "print(f'Best trial accuracy: {best_trial.value}%')"
   ]
  },
  {
   "cell_type": "code",
   "execution_count": null,
   "metadata": {},
   "outputs": [],
   "source": []
  }
 ],
 "metadata": {
  "kernelspec": {
   "display_name": "Python 3",
   "language": "python",
   "name": "python3"
  },
  "language_info": {
   "codemirror_mode": {
    "name": "ipython",
    "version": 3
   },
   "file_extension": ".py",
   "mimetype": "text/x-python",
   "name": "python",
   "nbconvert_exporter": "python",
   "pygments_lexer": "ipython3",
   "version": "3.11.0"
  },
  "orig_nbformat": 4,
  "vscode": {
   "interpreter": {
    "hash": "9cefe38f745df9e33a66570f2e5a410ba71c4ae3bf929b6ad1b474ac5f904d76"
   }
  }
 },
 "nbformat": 4,
 "nbformat_minor": 2
}
