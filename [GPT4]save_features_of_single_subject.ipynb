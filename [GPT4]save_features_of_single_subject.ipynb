{
 "cells": [
  {
   "cell_type": "code",
   "execution_count": 1,
   "metadata": {},
   "outputs": [],
   "source": [
    "import os\n",
    "import numpy as np\n",
    "import mne\n",
    "from scipy import stats\n",
    "import scipy.io\n",
    "import h5py\n",
    "from scipy.signal import butter, filtfilt\n",
    "\n",
    "mne.set_log_level('error')\n",
    "\n",
    "from utils.load import Load\n",
    "from config.default import cfg\n",
    "\n",
    "%load_ext autoreload\n",
    "%autoreload 2\n"
   ]
  },
  {
   "cell_type": "code",
   "execution_count": 2,
   "metadata": {},
   "outputs": [],
   "source": [
    "loader = Load(cfg)"
   ]
  },
  {
   "cell_type": "code",
   "execution_count": 3,
   "metadata": {},
   "outputs": [],
   "source": [
    "# Change this one-by-one to process all subjects in the dataset\n",
    "# Yeah, Im lazy, shut up!\n",
    "subject_id = 0"
   ]
  },
  {
   "cell_type": "code",
   "execution_count": 9,
   "metadata": {},
   "outputs": [],
   "source": [
    "raw_runs = loader.load_subject(subject_id = subject_id)"
   ]
  },
  {
   "cell_type": "code",
   "execution_count": 10,
   "metadata": {},
   "outputs": [],
   "source": [
    "preprocessed_runs = raw_runs.copy()\n",
    "for run in preprocessed_runs:\n",
    "    run = run.resample(100)\n",
    "    run = run.drop_channels(cfg['bad_channels'][cfg['subjects'][subject_id]])\n",
    "    run = run.set_eeg_reference('average', projection=False)\n",
    "\n",
    "    not_ROI = [x for x in cfg['not_ROI_channels'] if x not in cfg['bad_channels'][cfg['subjects'][subject_id]]] # Dont drop channels twice\n",
    "    run = run.drop_channels(not_ROI)                  \n"
   ]
  },
  {
   "cell_type": "code",
   "execution_count": 78,
   "metadata": {},
   "outputs": [],
   "source": [
    "def bandpass_filter(data, low, high, fs, order=5):\n",
    "    nyq = 0.5 * fs\n",
    "    low /= nyq\n",
    "    high /= nyq\n",
    "    b, a = scipy.signal.butter(order, [low, high], btype=\"band\")\n",
    "    return scipy.signal.lfilter(b, a, data)\n",
    "\n",
    "def sliding_window(data, window_size, step_size):\n",
    "    return np.array([data[i:i + window_size] for i in range(0, len(data) - window_size + 1, step_size)])\n",
    "\n",
    "def power_spectral_density(data, fs):\n",
    "    freqs, psd = scipy.signal.welch(data, fs, nperseg=len(data), scaling=\"density\")\n",
    "    return freqs, psd\n",
    "\n",
    "def extract_band_psd(freqs, psd, low, high):\n",
    "    return psd[np.logical_and(freqs >= low, freqs <= high)]\n",
    "\n",
    "def extract_features_std_mean(eeg_data, fs=250, window_size=250, step_size=125):\n",
    "    num_channels, num_samples = eeg_data.shape\n",
    "\n",
    "    # Bandpass filter to isolate Mu and Beta rhythms (8-30 Hz)\n",
    "    filtered_data = np.zeros((num_channels, num_samples))\n",
    "    for i in range(num_channels):\n",
    "        filtered_data[i] = bandpass_filter(eeg_data[i], 8, 30, fs)\n",
    "\n",
    "    # Apply sliding window\n",
    "    windowed_data = []\n",
    "    for i in range(num_channels):\n",
    "        windowed_data.append(sliding_window(filtered_data[i], window_size, step_size))\n",
    "    windowed_data = np.array(windowed_data)\n",
    "\n",
    "\n",
    "    # Calculate Power Spectral Density (PSD) for each window\n",
    "    num_windows = windowed_data.shape[1]\n",
    "    psd_features = np.zeros((num_channels, num_windows, 8))\n",
    "    for ch in range(num_channels):\n",
    "        for win in range(num_windows):\n",
    "            freqs, psd = power_spectral_density(windowed_data[ch, win], fs)\n",
    "            freqs = freqs[freqs >= 0]\n",
    "            psd = psd[:len(freqs)]\n",
    "            \n",
    "            \n",
    "            log_psd = np.log10(psd)\n",
    "\n",
    "            \n",
    "\n",
    "            # Separate PSD for Mu and Beta bands\n",
    "            mu1_psd = extract_band_psd(freqs, psd, 8, 10)\n",
    "            mu2_psd = extract_band_psd(freqs, psd, 10, 12)\n",
    "            beta1_psd = extract_band_psd(freqs, psd, 13, 21)\n",
    "            beta2_psd = extract_band_psd(freqs, psd, 21, 30)\n",
    "            \n",
    "            # Calculate the mean and standard deviation for each band\n",
    "            mu1_mean, mu1_std = np.mean(mu1_psd), np.std(mu1_psd)\n",
    "            mu2_mean, mu2_std = np.mean(mu2_psd), np.std(mu2_psd)\n",
    "            beta1_mean, beta1_std = np.mean(beta1_psd), np.std(beta1_psd)\n",
    "            beta2_mean, beta2_std = np.mean(beta2_psd), np.std(beta2_psd)\n",
    "            \n",
    "            psd_features[ch, win] = [mu1_mean, mu2_mean, mu1_std, mu2_std, beta1_mean, beta2_mean, beta1_std, beta2_std]\n",
    "\n",
    "    return psd_features\n",
    "\n",
    "\n",
    "def extract_features(eeg_data, fs=250, window_size=250, step_size=125):\n",
    "    num_channels, num_samples = eeg_data.shape\n",
    "\n",
    "    # Bandpass filter to isolate Mu and Beta rhythms (8-30 Hz)\n",
    "    filtered_data = np.zeros((num_channels, num_samples))\n",
    "    for i in range(num_channels):\n",
    "        filtered_data[i] = bandpass_filter(eeg_data[i], 8, 30, fs)\n",
    "\n",
    "    # Apply sliding window\n",
    "    windowed_data = []\n",
    "    for i in range(num_channels):\n",
    "        windowed_data.append(sliding_window(filtered_data[i], window_size, step_size))\n",
    "    windowed_data = np.array(windowed_data)\n",
    "\n",
    "    # Calculate Power Spectral Density (PSD) for each window\n",
    "    num_windows = windowed_data.shape[1]\n",
    "    psd_features = []\n",
    "    for ch in range(num_channels):\n",
    "        channel_psd_features = []\n",
    "        for win in range(num_windows):\n",
    "            freqs, psd = power_spectral_density(windowed_data[ch, win], fs)\n",
    "            freqs = freqs[freqs >= 0]\n",
    "            psd = psd[:len(freqs)]\n",
    "\n",
    "            # Separate PSD for Mu and Beta bands\n",
    "            psd = extract_band_psd(freqs, psd, 8, 30)\n",
    "            \n",
    "            \n",
    "            channel_psd_features.append(psd)\n",
    "        psd_features.append(channel_psd_features)\n",
    "\n",
    "    return psd_features\n"
   ]
  },
  {
   "attachments": {},
   "cell_type": "markdown",
   "metadata": {},
   "source": [
    "To improve the feature extraction for better SVM performance, consider the following modifications to the feature extraction process:\n",
    "\n",
    "1. **Extract more features**: In addition to the mean and standard deviation of the PSD, extract other features such as the median, skewness, and kurtosis of the PSD in each frequency band.\n",
    "\n",
    "2. **Relative Power**: Compute the relative power of the Mu and Beta bands, which is the ratio of the power in the specific band to the total power across all frequency bands.\n",
    "\n",
    "3. **Spectral edge frequency**: Compute the spectral edge frequency, which is the frequency below which a certain percentage (e.g., 95%) of the total power of the spectrum is contained. This feature can provide information about the concentration of power within the frequency bands.\n"
   ]
  },
  {
   "cell_type": "code",
   "execution_count": 79,
   "metadata": {},
   "outputs": [
    {
     "name": "stdout",
     "output_type": "stream",
     "text": [
      "Freq: 100.0\n",
      "Processing run 1 of 10\n",
      "Processing run 2 of 10\n",
      "Processing run 3 of 10\n",
      "Processing run 4 of 10\n",
      "Processing run 5 of 10\n",
      "Processing run 6 of 10\n",
      "Processing run 7 of 10\n",
      "Processing run 8 of 10\n",
      "Processing run 9 of 10\n",
      "Processing run 10 of 10\n",
      "thumb\n",
      "(50, 153, 15, 12)\n",
      "index\n",
      "(50, 153, 15, 12)\n",
      "middle\n",
      "(50, 153, 15, 12)\n",
      "ring\n",
      "(50, 153, 15, 12)\n",
      "little\n",
      "(50, 153, 15, 12)\n"
     ]
    }
   ],
   "source": [
    "sfreq = raw_runs[0].info['sfreq']\n",
    "print(f'Freq: {sfreq}')\n",
    "\n",
    "tmin = -0.5\n",
    "tmax = 7\n",
    "\n",
    "\n",
    "\n",
    "features = {'thumb': [], 'index': [], 'middle': [], 'ring': [], 'little': []}\n",
    "for i in range(len(preprocessed_runs)):\n",
    "    events, _ = mne.events_from_annotations(preprocessed_runs[i])\n",
    "    print(f'Processing run {i+1} of {len(preprocessed_runs)}')\n",
    "    for trigger in events:\n",
    "        time, _, label = trigger\n",
    "        if label in [2, 3, 4, 5, 6]: # Drop 'No instruction' and 'Rest' events\n",
    "            # Epoching\n",
    "            data = preprocessed_runs[i].get_data()[...,time+int(tmin*sfreq):time+int(tmax*sfreq)] \n",
    "\n",
    "            psd = extract_features(data, fs = sfreq, window_size = 50, step_size = 50)\n",
    "            \n",
    "            # Append data to the right list\n",
    "            features[cfg['mapping'][trigger[-1]]].append(psd)\n",
    "        \n",
    "   \n",
    "            \n",
    "           \n",
    " \n",
    "for feature in features:\n",
    "    features[feature] = np.array(features[feature], dtype=np.float32)\n",
    "    print(feature)\n",
    "    print(features[feature].shape)"
   ]
  },
  {
   "attachments": {},
   "cell_type": "markdown",
   "metadata": {},
   "source": [
    "The `psd_features` variable is a 3-dimensional NumPy array that contains the extracted features from the EEG data. The dimensions of the array are `(num_channels, num_windows, num_features)`, where:\n",
    "\n",
    "1. `num_channels`: The number of EEG channels in your input data.\n",
    "2. `num_windows`: The number of sliding windows generated from your input data. This number depends on the `window_size` and `step_size` parameters you set, as well as the total number of samples in the input data.\n",
    "3. `num_features`: The number of features extracted per channel per window. In this example, we are extracting four features: the mean and standard deviation of the PSD for both the Mu (8-12 Hz) and Beta (13-30 Hz) bands.\n",
    "\n",
    "The content of `psd_features` can be understood as follows:\n",
    "\n",
    "- `psd_features[ch, win, 0]`: The mean PSD for the Mu band (8-12 Hz) for channel `ch` in window `win`.\n",
    "- `psd_features[ch, win, 1]`: The standard deviation of the PSD for the Mu band (8-12 Hz) for channel `ch` in window `win`.\n",
    "- `psd_features[ch, win, 2]`: The mean PSD for the Beta band (13-30 Hz) for channel `ch` in window `win`.\n",
    "- `psd_features[ch, win, 3]`: The standard deviation of the PSD for the Beta band (13-30 Hz) for channel `ch` in window `win`.\n",
    "\n",
    "By analyzing the distribution of power in both the Mu and Beta frequency bands separately, you can obtain more detailed insights about the neural activity related to finger movements.\n"
   ]
  },
  {
   "cell_type": "code",
   "execution_count": 80,
   "metadata": {},
   "outputs": [
    {
     "name": "stdout",
     "output_type": "stream",
     "text": [
      "Features saved to features\\gpt4freq_all_S1.h5.\n"
     ]
    }
   ],
   "source": [
    "target_dir = 'features'\n",
    "tag = 'gpt4'\n",
    "# Save the dictionary to an HDF5 file\n",
    "file_path = os.path.join(target_dir, tag + '_' +cfg['subjects'][subject_id] + '.h5')\n",
    "with h5py.File(file_path, 'w') as h5file:\n",
    "    for key, value in features.items():\n",
    "        h5file.create_dataset(key, data=value)\n",
    "print(f'Features saved to {file_path}.')"
   ]
  },
  {
   "cell_type": "code",
   "execution_count": null,
   "metadata": {},
   "outputs": [],
   "source": []
  }
 ],
 "metadata": {
  "kernelspec": {
   "display_name": "Python 3",
   "language": "python",
   "name": "python3"
  },
  "language_info": {
   "codemirror_mode": {
    "name": "ipython",
    "version": 3
   },
   "file_extension": ".py",
   "mimetype": "text/x-python",
   "name": "python",
   "nbconvert_exporter": "python",
   "pygments_lexer": "ipython3",
   "version": "3.11.0"
  },
  "orig_nbformat": 4,
  "vscode": {
   "interpreter": {
    "hash": "9cefe38f745df9e33a66570f2e5a410ba71c4ae3bf929b6ad1b474ac5f904d76"
   }
  }
 },
 "nbformat": 4,
 "nbformat_minor": 2
}
